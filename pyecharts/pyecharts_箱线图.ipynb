{
 "cells": [
  {
   "cell_type": "code",
   "execution_count": 1,
   "metadata": {},
   "outputs": [],
   "source": [
    "from pyecharts import options as opts\n",
    "from pyecharts.charts import Boxplot\n",
    "from random import randint"
   ]
  },
  {
   "cell_type": "code",
   "execution_count": 2,
   "metadata": {},
   "outputs": [],
   "source": [
    "def boxpolt() -> Boxplot:\n",
    "    # v1 v2为嵌套列表\n",
    "    v1 =[[randint(0,100) for i in range(100)]]\n",
    "    print(v1)\n",
    "    c = Boxplot()\n",
    "    # c.prepare_data(v1)求 min 1/4位数 中位数 3/4位数 max\n",
    "    c.add_xaxis([\"变量1\"]).add_yaxis(\"A\", c.prepare_data(v1))\n",
    "    c.set_global_opts(title_opts=opts.TitleOpts(title=\"BoxPlot\"))\n",
    "    print(c.prepare_data(v1))\n",
    "    return c\n"
   ]
  },
  {
   "cell_type": "code",
   "execution_count": 3,
   "metadata": {},
   "outputs": [
    {
     "name": "stdout",
     "output_type": "stream",
     "text": [
      "[[73, 1, 98, 25, 58, 17, 78, 18, 38, 57, 14, 46, 58, 77, 40, 65, 30, 37, 76, 48, 23, 98, 18, 53, 65, 99, 95, 22, 80, 93, 16, 99, 46, 75, 42, 2, 47, 47, 78, 47, 85, 36, 54, 73, 78, 78, 77, 19, 91, 54, 90, 19, 67, 21, 84, 94, 52, 44, 76, 31, 51, 71, 39, 48, 36, 60, 61, 69, 78, 10, 23, 78, 62, 71, 98, 88, 76, 74, 98, 93, 36, 6, 85, 45, 87, 44, 99, 83, 79, 82, 6, 5, 45, 66, 90, 98, 48, 34, 11, 10]]\n",
      "[[1, 36.0, 58.0, 78.0, 99]]\n"
     ]
    },
    {
     "name": "stderr",
     "output_type": "stream",
     "text": [
      "D:\\Program Files\\anaconda3\\lib\\site-packages\\pyecharts\\charts\\chart.py:14: PendingDeprecationWarning: pyecharts 所有图表类型将在 v1.9.0 版本开始强制使用 ChartItem 进行数据项配置 :)\n",
      "  super().__init__(init_opts=init_opts)\n"
     ]
    },
    {
     "data": {
      "text/plain": [
       "'C:\\\\Users\\\\kazi\\\\Desktop\\\\render.html'"
      ]
     },
     "execution_count": 3,
     "metadata": {},
     "output_type": "execute_result"
    }
   ],
   "source": [
    "boxpolt().render()"
   ]
  },
  {
   "cell_type": "code",
   "execution_count": null,
   "metadata": {},
   "outputs": [],
   "source": []
  },
  {
   "cell_type": "code",
   "execution_count": null,
   "metadata": {},
   "outputs": [],
   "source": []
  },
  {
   "cell_type": "code",
   "execution_count": 29,
   "metadata": {},
   "outputs": [],
   "source": [
    "def boxpolt_base() -> Boxplot:\n",
    "    # v1 v2为嵌套列表\n",
    "    v1 = [\n",
    "        [850, 740, 900, 1070, 930, 850, 950, 980, 980, 880]\n",
    "        + [1000, 980, 930, 650, 760, 810, 1000, 1000, 960, 960],\n",
    "        [960, 940, 960, 940, 880, 800, 850, 880, 900]\n",
    "        + [840, 830, 790, 810, 880, 880, 830, 800, 790, 760, 800],\n",
    "    ]\n",
    "    v2 = [\n",
    "        [890, 810, 810, 820, 800, 770, 760, 740, 750, 760]\n",
    "        + [910, 920, 890, 860, 880, 720, 840, 850, 850, 780],\n",
    "        [890, 840, 780, 810, 760, 810, 790, 810, 820, 850, 870]\n",
    "        + [870, 810, 740, 810, 940, 950, 800, 810, 870],\n",
    "    ]\n",
    "    c = Boxplot()\n",
    "    c.add_xaxis([\"变量1\", \"变量2\"]).add_yaxis(\"A\", c.prepare_data(v1)).add_yaxis(\n",
    "        \"B\", c.prepare_data(v2)\n",
    "    ).set_global_opts(title_opts=opts.TitleOpts(title=\"BoxPlot-基本示例\"))\n",
    "    return c"
   ]
  },
  {
   "cell_type": "code",
   "execution_count": 30,
   "metadata": {},
   "outputs": [
    {
     "data": {
      "text/plain": [
       "'C:\\\\Users\\\\ibf\\\\Desktop\\\\python数据分析课件整理\\\\数据可视化\\\\render.html'"
      ]
     },
     "execution_count": 30,
     "metadata": {},
     "output_type": "execute_result"
    }
   ],
   "source": [
    "boxpolt_base().render()"
   ]
  },
  {
   "cell_type": "code",
   "execution_count": 4,
   "metadata": {},
   "outputs": [],
   "source": [
    "# https://pyecharts.org/#/zh-cn/rectangular_charts?id=line%ef%bc%9a%e6%8a%98%e7%ba%bf%e9%9d%a2%e7%a7%af%e5%9b%be"
   ]
  },
  {
   "cell_type": "code",
   "execution_count": null,
   "metadata": {},
   "outputs": [],
   "source": []
  },
  {
   "cell_type": "code",
   "execution_count": null,
   "metadata": {},
   "outputs": [],
   "source": []
  }
 ],
 "metadata": {
  "kernelspec": {
   "display_name": "Python 3",
   "language": "python",
   "name": "python3"
  },
  "language_info": {
   "codemirror_mode": {
    "name": "ipython",
    "version": 3
   },
   "file_extension": ".py",
   "mimetype": "text/x-python",
   "name": "python",
   "nbconvert_exporter": "python",
   "pygments_lexer": "ipython3",
   "version": "3.8.3"
  }
 },
 "nbformat": 4,
 "nbformat_minor": 2
}
