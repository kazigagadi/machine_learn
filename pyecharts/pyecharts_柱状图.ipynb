{
 "cells": [
  {
   "cell_type": "code",
   "execution_count": 2,
   "metadata": {},
   "outputs": [],
   "source": [
    "# from example.commons import Faker\n",
    "from pyecharts.faker import Faker\n",
    "from pyecharts import options as opts\n",
    "from pyecharts.charts import Bar\n",
    "import random"
   ]
  },
  {
   "cell_type": "code",
   "execution_count": 4,
   "metadata": {},
   "outputs": [],
   "source": [
    "# 基础绘图\n",
    "def bar_base() -> Bar:\n",
    "    c = (\n",
    "        Bar()\n",
    "        .add_xaxis(Faker.choose())\n",
    "        .add_yaxis(\"商家A\", Faker.values())\n",
    "        .add_yaxis(\"商家B\", Faker.values())\n",
    "        .set_global_opts(title_opts=opts.TitleOpts(title=\"Bar-基本示例\", subtitle=\"我是副标题\"),\n",
    "            toolbox_opts=opts.ToolboxOpts())# 显示工具栏\n",
    "    )\n",
    "    return c\n"
   ]
  },
  {
   "cell_type": "code",
   "execution_count": 5,
   "metadata": {},
   "outputs": [
    {
     "name": "stderr",
     "output_type": "stream",
     "text": [
      "D:\\Program Files\\anaconda3\\lib\\site-packages\\pyecharts\\charts\\chart.py:14: PendingDeprecationWarning: pyecharts 所有图表类型将在 v1.9.0 版本开始强制使用 ChartItem 进行数据项配置 :)\n",
      "  super().__init__(init_opts=init_opts)\n"
     ]
    },
    {
     "data": {
      "text/plain": [
       "'C:\\\\Users\\\\kazi\\\\Desktop\\\\render.html'"
      ]
     },
     "execution_count": 5,
     "metadata": {},
     "output_type": "execute_result"
    }
   ],
   "source": [
    "bar_base().render()"
   ]
  },
  {
   "cell_type": "raw",
   "metadata": {},
   "source": [
    "显示 ToolBox"
   ]
  },
  {
   "cell_type": "code",
   "execution_count": null,
   "metadata": {},
   "outputs": [],
   "source": [
    "# 翻转XY轴"
   ]
  },
  {
   "cell_type": "code",
   "execution_count": 21,
   "metadata": {},
   "outputs": [],
   "source": [
    "def bar_reversal_axis() -> Bar:\n",
    "    c = (\n",
    "        Bar()\n",
    "        .add_xaxis(Faker.choose())\n",
    "        .add_yaxis(\"商家A\", Faker.values())\n",
    "        .add_yaxis(\"商家B\", Faker.values())\n",
    "        .reversal_axis()\n",
    "        # 数值标签的位置\n",
    "        .set_series_opts(label_opts=opts.LabelOpts(position=\"right\"))\n",
    "        .set_global_opts(title_opts=opts.TitleOpts(title=\"Bar-翻转 XY 轴\"))\n",
    "    )\n",
    "    return c"
   ]
  },
  {
   "cell_type": "code",
   "execution_count": 22,
   "metadata": {},
   "outputs": [
    {
     "data": {
      "text/plain": [
       "'C:\\\\Users\\\\ibf\\\\Desktop\\\\python数据分析课件整理\\\\数据可视化\\\\render.html'"
      ]
     },
     "execution_count": 22,
     "metadata": {},
     "output_type": "execute_result"
    }
   ],
   "source": [
    "bar_reversal_axis().render()"
   ]
  },
  {
   "cell_type": "code",
   "execution_count": null,
   "metadata": {},
   "outputs": [],
   "source": [
    "# 柱状图堆叠"
   ]
  },
  {
   "cell_type": "code",
   "execution_count": 6,
   "metadata": {},
   "outputs": [],
   "source": [
    "def bar_stack() -> Bar:\n",
    "    c = (\n",
    "        Bar()\n",
    "        .add_xaxis(Faker.choose())\n",
    "        .add_yaxis(\"商家A\", Faker.values(), stack=\"stack\")\n",
    "        .add_yaxis(\"商家B\", Faker.values(), stack=\"stack\")\n",
    "        .set_series_opts(label_opts=opts.LabelOpts(is_show=False))\n",
    "        .set_global_opts(title_opts=opts.TitleOpts(title=\"Bar-堆叠数据（全部）\"))\n",
    "    )\n",
    "    return c"
   ]
  },
  {
   "cell_type": "code",
   "execution_count": 7,
   "metadata": {},
   "outputs": [
    {
     "name": "stderr",
     "output_type": "stream",
     "text": [
      "D:\\Program Files\\anaconda3\\lib\\site-packages\\pyecharts\\charts\\chart.py:14: PendingDeprecationWarning: pyecharts 所有图表类型将在 v1.9.0 版本开始强制使用 ChartItem 进行数据项配置 :)\n",
      "  super().__init__(init_opts=init_opts)\n"
     ]
    },
    {
     "data": {
      "text/plain": [
       "'C:\\\\Users\\\\kazi\\\\Desktop\\\\render.html'"
      ]
     },
     "execution_count": 7,
     "metadata": {},
     "output_type": "execute_result"
    }
   ],
   "source": [
    "bar_stack().render()"
   ]
  },
  {
   "cell_type": "code",
   "execution_count": 25,
   "metadata": {},
   "outputs": [],
   "source": [
    "# 统一设置标记点\n",
    "def bar_markpoint_type() -> Bar:\n",
    "    c = (\n",
    "        Bar()\n",
    "        .add_xaxis(Faker.choose())\n",
    "        .add_yaxis(\"商家A\", Faker.values())\n",
    "        .add_yaxis(\"商家B\", Faker.values())\n",
    "        .set_global_opts(title_opts=opts.TitleOpts(title=\"Bar-MarkPoint（指定类型）\"))\n",
    "        # 统一设置标记信息\n",
    "        .set_series_opts(\n",
    "            label_opts=opts.LabelOpts(is_show=False),\n",
    "            markpoint_opts=opts.MarkPointOpts(\n",
    "                data=[\n",
    "                    opts.MarkPointItem(type_=\"max\", name=\"最大值\"),\n",
    "                    opts.MarkPointItem(type_=\"min\", name=\"最小值\"),\n",
    "                    opts.MarkPointItem(type_=\"average\", name=\"平均值\"),\n",
    "                ]\n",
    "            ),\n",
    "        )\n",
    "    )\n",
    "    return c"
   ]
  },
  {
   "cell_type": "code",
   "execution_count": 26,
   "metadata": {},
   "outputs": [
    {
     "data": {
      "text/plain": [
       "'C:\\\\Users\\\\ibf\\\\Desktop\\\\python数据分析课件整理\\\\数据可视化\\\\render.html'"
      ]
     },
     "execution_count": 26,
     "metadata": {},
     "output_type": "execute_result"
    }
   ],
   "source": [
    "bar_markpoint_type().render()"
   ]
  },
  {
   "cell_type": "code",
   "execution_count": 8,
   "metadata": {},
   "outputs": [],
   "source": [
    "# 自定义标记点\n",
    "def bar_markpoint_custom() -> Bar:\n",
    "    x, y = Faker.choose(), Faker.values()\n",
    "    c = (\n",
    "        Bar()\n",
    "        .add_xaxis(x)\n",
    "        .add_yaxis(\n",
    "            \"商家A\",\n",
    "            y,\n",
    "            markpoint_opts=opts.MarkPointOpts(\n",
    "                data=[opts.MarkPointItem(name=\"自定义标记点\", coord=[x[2], y[2]], value=y[2])]\n",
    "            ),\n",
    "        )\n",
    "        .add_yaxis(\"商家B\", Faker.values())\n",
    "        .set_global_opts(title_opts=opts.TitleOpts(title=\"Bar-MarkPoint（自定义）\"))\n",
    "        .set_series_opts(label_opts=opts.LabelOpts(is_show=False))\n",
    "    )\n",
    "    return c"
   ]
  },
  {
   "cell_type": "code",
   "execution_count": 9,
   "metadata": {},
   "outputs": [
    {
     "name": "stderr",
     "output_type": "stream",
     "text": [
      "D:\\Program Files\\anaconda3\\lib\\site-packages\\pyecharts\\charts\\chart.py:14: PendingDeprecationWarning: pyecharts 所有图表类型将在 v1.9.0 版本开始强制使用 ChartItem 进行数据项配置 :)\n",
      "  super().__init__(init_opts=init_opts)\n"
     ]
    },
    {
     "data": {
      "text/plain": [
       "'C:\\\\Users\\\\kazi\\\\Desktop\\\\render.html'"
      ]
     },
     "execution_count": 9,
     "metadata": {},
     "output_type": "execute_result"
    }
   ],
   "source": [
    "bar_markpoint_custom().render()"
   ]
  },
  {
   "cell_type": "code",
   "execution_count": 10,
   "metadata": {},
   "outputs": [],
   "source": [
    "import numpy as np\n",
    "import pandas as pd\n",
    "from collections import Counter"
   ]
  },
  {
   "cell_type": "code",
   "execution_count": 59,
   "metadata": {},
   "outputs": [
    {
     "name": "stdout",
     "output_type": "stream",
     "text": [
      "['a', 'b', 'c', 'd', 'e']\n",
      "[198, 195, 181, 215, 211]\n"
     ]
    }
   ],
   "source": [
    "data=np.random.randint(0,100,1000)\n",
    "labels=pd.cut(data,5,labels=list(\"abcde\"))\n",
    "lv=labels.value_counts()\n",
    "print(list(lv.index))\n",
    "print(list(lv.values))\n",
    "# echarts无法接收数组\n",
    "values=map(lambda x:int(x),list(lv.values))"
   ]
  },
  {
   "cell_type": "code",
   "execution_count": 79,
   "metadata": {},
   "outputs": [],
   "source": [
    "# 直方图\n",
    "def bar_histogram() -> Bar:\n",
    "    c = (\n",
    "        Bar()\n",
    "        .add_xaxis(list(lv.index))\n",
    "        .add_yaxis(\"商家A\",list(values), category_gap=0, color=Faker.rand_color())\n",
    "        .set_global_opts(title_opts=opts.TitleOpts(title=\"Bar-直方图\"))\n",
    "    )\n",
    "    return c"
   ]
  },
  {
   "cell_type": "code",
   "execution_count": 80,
   "metadata": {},
   "outputs": [
    {
     "data": {
      "text/plain": [
       "'C:\\\\Users\\\\ibf\\\\Desktop\\\\python数据分析课件整理\\\\数据可视化\\\\render.html'"
      ]
     },
     "execution_count": 80,
     "metadata": {},
     "output_type": "execute_result"
    }
   ],
   "source": [
    "bar_histogram().render()"
   ]
  },
  {
   "cell_type": "code",
   "execution_count": 35,
   "metadata": {},
   "outputs": [
    {
     "data": {
      "text/plain": [
       "'#ac6767'"
      ]
     },
     "execution_count": 35,
     "metadata": {},
     "output_type": "execute_result"
    }
   ],
   "source": [
    "Faker.rand_color()# 随机单个颜色"
   ]
  },
  {
   "cell_type": "code",
   "execution_count": null,
   "metadata": {},
   "outputs": [],
   "source": []
  },
  {
   "cell_type": "code",
   "execution_count": null,
   "metadata": {},
   "outputs": [],
   "source": []
  },
  {
   "cell_type": "code",
   "execution_count": null,
   "metadata": {},
   "outputs": [],
   "source": []
  },
  {
   "cell_type": "code",
   "execution_count": null,
   "metadata": {},
   "outputs": [],
   "source": []
  }
 ],
 "metadata": {
  "kernelspec": {
   "display_name": "Python 3",
   "language": "python",
   "name": "python3"
  },
  "language_info": {
   "codemirror_mode": {
    "name": "ipython",
    "version": 3
   },
   "file_extension": ".py",
   "mimetype": "text/x-python",
   "name": "python",
   "nbconvert_exporter": "python",
   "pygments_lexer": "ipython3",
   "version": "3.8.3"
  }
 },
 "nbformat": 4,
 "nbformat_minor": 2
}
