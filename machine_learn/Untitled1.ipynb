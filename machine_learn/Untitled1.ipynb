{
 "cells": [
  {
   "cell_type": "code",
   "execution_count": 26,
   "metadata": {},
   "outputs": [],
   "source": [
    "class Solution:\n",
    "    def longestPalindrome(self, s: str) -> str:\n",
    "        n = len(s)\n",
    "        dp = [[False] * n for _ in range(n)]\n",
    "        ans = \"\"\n",
    "        # 枚举子串的长度 l+1\n",
    "        for l in range(n):\n",
    "            # 枚举子串的起始位置 i，这样可以通过 j=i+l 得到子串的结束位置\n",
    "            for i in range(n):\n",
    "                j = i + l\n",
    "                if j >= len(s):\n",
    "                    break\n",
    "                if l == 0:\n",
    "                    dp[i][j] = True\n",
    "                elif l == 1:\n",
    "                    dp[i][j] = (s[i] == s[j])\n",
    "                else:\n",
    "                    dp[i][j] = (dp[i + 1][j - 1] and s[i] == s[j])\n",
    "                if dp[i][j] and l + 1 > len(ans):\n",
    "                    ans = s[i:j+1]\n",
    "#             print(dp)\n",
    "        return ans\n",
    "    def conver(self,s:str,numrow:int)->str:\n",
    "        if len(s)<numrow: return s\n",
    "        res=[\"\" for _ in range(numrow)]\n",
    "        i,flag=0,-1\n",
    "        for c in s:\n",
    "            res[i]+=c\n",
    "            if i==0 or i==numrow-1 : flag=-flag\n",
    "            i+=flag\n",
    "        \n",
    "        return \"\".join(res)\n"
   ]
  },
  {
   "cell_type": "code",
   "execution_count": 27,
   "metadata": {},
   "outputs": [
    {
     "data": {
      "text/plain": [
       "'ccnkadfh'"
      ]
     },
     "execution_count": 27,
     "metadata": {},
     "output_type": "execute_result"
    }
   ],
   "source": [
    "sl=Solution()\n",
    "# sl.longestPalindrome(\"adbcc\")\n",
    "sl.conver(\"cndhfkca\",4)"
   ]
  },
  {
   "cell_type": "code",
   "execution_count": 6,
   "metadata": {},
   "outputs": [
    {
     "name": "stdout",
     "output_type": "stream",
     "text": [
      "0\n"
     ]
    }
   ],
   "source": [
    "print(len(\"\"))"
   ]
  },
  {
   "cell_type": "code",
   "execution_count": null,
   "metadata": {},
   "outputs": [],
   "source": []
  }
 ],
 "metadata": {
  "kernelspec": {
   "display_name": "Python 3",
   "language": "python",
   "name": "python3"
  },
  "language_info": {
   "codemirror_mode": {
    "name": "ipython",
    "version": 3
   },
   "file_extension": ".py",
   "mimetype": "text/x-python",
   "name": "python",
   "nbconvert_exporter": "python",
   "pygments_lexer": "ipython3",
   "version": "3.8.3"
  }
 },
 "nbformat": 4,
 "nbformat_minor": 4
}
