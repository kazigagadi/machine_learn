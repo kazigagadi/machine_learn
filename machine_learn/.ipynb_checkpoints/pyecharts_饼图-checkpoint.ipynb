{
 "cells": [
  {
   "cell_type": "code",
   "execution_count": 1,
   "metadata": {},
   "outputs": [],
   "source": [
    "from example.commons import Faker\n",
    "from pyecharts import options as opts\n",
    "from pyecharts.charts import Page, Pie\n"
   ]
  },
  {
   "cell_type": "code",
   "execution_count": 16,
   "metadata": {},
   "outputs": [],
   "source": [
    "def pie_base() -> Pie:\n",
    "    c = (\n",
    "        Pie()\n",
    "        .add(\"\", [list(z) for z in zip(Faker.choose(), Faker.values())])\n",
    "        .set_global_opts(title_opts=opts.TitleOpts(title=\"Pie-基本示例\"))\n",
    "        .set_series_opts(label_opts=opts.LabelOpts(formatter=\"{b}: {c}\"))# abcde具有不同数据含义\n",
    "    )\n",
    "    return c"
   ]
  },
  {
   "cell_type": "code",
   "execution_count": 17,
   "metadata": {},
   "outputs": [
    {
     "data": {
      "text/plain": [
       "'C:\\\\Users\\\\ibf\\\\Desktop\\\\python数据分析课件整理\\\\数据可视化\\\\render.html'"
      ]
     },
     "execution_count": 17,
     "metadata": {},
     "output_type": "execute_result"
    }
   ],
   "source": [
    "pie_base().render()"
   ]
  },
  {
   "cell_type": "code",
   "execution_count": 9,
   "metadata": {},
   "outputs": [
    {
     "data": {
      "text/plain": [
       "[['小米', 149],\n",
       " ['三星', 123],\n",
       " ['华为', 82],\n",
       " ['苹果', 116],\n",
       " ['魅族', 112],\n",
       " ['VIVO', 126],\n",
       " ['OPPO', 71]]"
      ]
     },
     "execution_count": 9,
     "metadata": {},
     "output_type": "execute_result"
    }
   ],
   "source": [
    "[list(z) for z in zip(Faker.choose(), Faker.values())]"
   ]
  },
  {
   "cell_type": "code",
   "execution_count": 22,
   "metadata": {},
   "outputs": [],
   "source": [
    "# 中心为空\n",
    "def pie_radius() -> Pie:\n",
    "    c = (\n",
    "        Pie()\n",
    "        .add(\n",
    "            \"\",\n",
    "            [list(z) for z in zip(Faker.choose(), Faker.values())],\n",
    "            radius=[\"40%\", \"70%\"],# [内半径,外半径]\n",
    "        )\n",
    "        .set_global_opts(\n",
    "            title_opts=opts.TitleOpts(title=\"Pie-Radius\"),\n",
    "            legend_opts=opts.LegendOpts(\n",
    "                orient=\"vertical\", pos_top=\"15%\", pos_left=\"2%\"\n",
    "            ),\n",
    "        )\n",
    "        .set_series_opts(label_opts=opts.LabelOpts(formatter=\"{b}: {c}\"))\n",
    "    )\n",
    "    return c"
   ]
  },
  {
   "cell_type": "code",
   "execution_count": 23,
   "metadata": {},
   "outputs": [
    {
     "data": {
      "text/plain": [
       "'C:\\\\Users\\\\ibf\\\\Desktop\\\\python数据分析课件整理\\\\数据可视化\\\\render.html'"
      ]
     },
     "execution_count": 23,
     "metadata": {},
     "output_type": "execute_result"
    }
   ],
   "source": [
    "pie_radius().render()"
   ]
  },
  {
   "cell_type": "code",
   "execution_count": 24,
   "metadata": {},
   "outputs": [],
   "source": [
    "def pie_rosetype() -> Pie:\n",
    "    v = Faker.choose()\n",
    "    c = (\n",
    "        Pie()\n",
    "        .add(\n",
    "            \"\",\n",
    "            [list(z) for z in zip(v, Faker.values())],\n",
    "            radius=[\"30%\", \"75%\"],\n",
    "            center=[\"25%\", \"50%\"],# 圆中心位置\n",
    "            rosetype=\"radius\",\n",
    "            label_opts=opts.LabelOpts(is_show=False),\n",
    "        )\n",
    "        .add(\n",
    "            \"\",\n",
    "            [list(z) for z in zip(v, Faker.values())],\n",
    "            radius=[\"30%\", \"75%\"],\n",
    "            center=[\"75%\", \"50%\"],\n",
    "            rosetype=\"area\",\n",
    "            # 是否展示成南丁格尔图，通过半径区分数据大小，有'radius'和'area'两种模式。\n",
    "            # radius：扇区圆心角展现数据的百分比，半径展现数据的大小\n",
    "            # area：所有扇区圆心角相同，仅通过半径展现数据大小\n",
    "        )\n",
    "        .set_global_opts(title_opts=opts.TitleOpts(title=\"Pie-玫瑰图示例\"))\n",
    "    )\n",
    "    return c"
   ]
  },
  {
   "cell_type": "code",
   "execution_count": 25,
   "metadata": {},
   "outputs": [
    {
     "data": {
      "text/plain": [
       "'C:\\\\Users\\\\ibf\\\\Desktop\\\\python数据分析课件整理\\\\数据可视化\\\\render.html'"
      ]
     },
     "execution_count": 25,
     "metadata": {},
     "output_type": "execute_result"
    }
   ],
   "source": [
    "pie_rosetype().render()"
   ]
  },
  {
   "cell_type": "code",
   "execution_count": null,
   "metadata": {},
   "outputs": [],
   "source": [
    "\n",
    "\n",
    "\n",
    "\n",
    "\n",
    "\n",
    "\n",
    "\n",
    "\n",
    "\n",
    "\n",
    "\n",
    "\n",
    "\n",
    "\n",
    "\n",
    "\n",
    "\n",
    "\n",
    "\n",
    "\n",
    "\n"
   ]
  }
 ],
 "metadata": {
  "kernelspec": {
   "display_name": "Python 3",
   "language": "python",
   "name": "python3"
  },
  "language_info": {
   "codemirror_mode": {
    "name": "ipython",
    "version": 3
   },
   "file_extension": ".py",
   "mimetype": "text/x-python",
   "name": "python",
   "nbconvert_exporter": "python",
   "pygments_lexer": "ipython3",
   "version": "3.6.5"
  }
 },
 "nbformat": 4,
 "nbformat_minor": 2
}
