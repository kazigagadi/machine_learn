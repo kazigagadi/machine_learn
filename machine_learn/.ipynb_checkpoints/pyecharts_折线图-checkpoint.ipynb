{
 "cells": [
  {
   "cell_type": "code",
   "execution_count": 1,
   "metadata": {},
   "outputs": [],
   "source": [
    "from pyecharts.charts import Line\n",
    "import random"
   ]
  },
  {
   "cell_type": "code",
   "execution_count": 2,
   "metadata": {},
   "outputs": [],
   "source": [
    "import pyecharts.options as opts\n",
    "from example.commons import  Faker\n",
    "from pyecharts.charts import Line"
   ]
  },
  {
   "cell_type": "code",
   "execution_count": 16,
   "metadata": {},
   "outputs": [
    {
     "data": {
      "text/plain": [
       "[96, 131, 53, 84, 85, 142, 93]"
      ]
     },
     "execution_count": 16,
     "metadata": {},
     "output_type": "execute_result"
    }
   ],
   "source": [
    "Faker.choose()# 生成列表,元素为随机的字符串\n",
    "Faker.values()# 生成列表,元素为随机的正整数"
   ]
  },
  {
   "cell_type": "code",
   "execution_count": 95,
   "metadata": {},
   "outputs": [],
   "source": [
    "def line_base() -> Line:# 注解的作用\n",
    "    c = (\n",
    "        Line()# 折线图\n",
    "        .add_xaxis(Faker.choose())# x轴坐标\n",
    "        .add_yaxis(\"商家A\", Faker.values())# 类别及y轴数据\n",
    "        .set_global_opts(title_opts=opts.TitleOpts(title=\"Bar-基本示例\", subtitle=\"我是副标题\"),\n",
    "            toolbox_opts=opts.ToolboxOpts())# 显示工具栏\n",
    "    )\n",
    "    return c"
   ]
  },
  {
   "cell_type": "code",
   "execution_count": 96,
   "metadata": {},
   "outputs": [
    {
     "data": {
      "text/plain": [
       "'C:\\\\Users\\\\ibf\\\\Desktop\\\\python数据分析课件整理\\\\数据可视化\\\\render.html'"
      ]
     },
     "execution_count": 96,
     "metadata": {},
     "output_type": "execute_result"
    }
   ],
   "source": [
    "line_base().render()"
   ]
  },
  {
   "cell_type": "code",
   "execution_count": 25,
   "metadata": {},
   "outputs": [],
   "source": [
    "attr = [\"衬衫\", \"羊毛衫\", \"雪纺衫\", \"裤子\", \"高跟鞋\", \"袜子\"]\n",
    "v1 = [random.randint(1,20) for i in range(6)]\n",
    "v2 = [random.randint(1,20) for i in range(6)]\n",
    "v3 = [random.randint(1,20) for i in range(6)]\n",
    "def line1():\n",
    "    c = (\n",
    "        Line()\n",
    "        .add_xaxis(attr)\n",
    "        .add_yaxis(\"商家A\",v1)\n",
    "        .add_yaxis(\"商家A\",v2)\n",
    "        .set_global_opts(title_opts=opts.TitleOpts(title=\"Line-基本示例\"))\n",
    "    )\n",
    "    return c"
   ]
  },
  {
   "cell_type": "code",
   "execution_count": 27,
   "metadata": {},
   "outputs": [
    {
     "name": "stdout",
     "output_type": "stream",
     "text": [
      "<pyecharts.charts.basic_charts.line.Line object at 0x000002B0C5FF0C50>\n"
     ]
    }
   ],
   "source": [
    "# # 自定义简易折线图\n",
    "\n",
    "# # 自定义多分类折线图\n",
    "\n",
    "# line1().render()"
   ]
  },
  {
   "cell_type": "code",
   "execution_count": 49,
   "metadata": {},
   "outputs": [],
   "source": [
    "# 设置平滑曲线\n",
    "def line_smooth():\n",
    "    c = (\n",
    "        Line()\n",
    "        .add_xaxis(attr)\n",
    "        .add_yaxis(\"商家A\",v1)\n",
    "        .add_yaxis(\"商家B\",v2,is_smooth=True)\n",
    "        .set_global_opts(title_opts=opts.TitleOpts(title=\"Line-smooth\"))\n",
    "    )\n",
    "    return c"
   ]
  },
  {
   "cell_type": "code",
   "execution_count": 50,
   "metadata": {},
   "outputs": [
    {
     "data": {
      "text/plain": [
       "'C:\\\\Users\\\\ibf\\\\Desktop\\\\python数据分析课件整理\\\\数据可视化\\\\line_smooth.html'"
      ]
     },
     "execution_count": 50,
     "metadata": {},
     "output_type": "execute_result"
    }
   ],
   "source": [
    "line_smooth().render(\"line_smooth.html\")"
   ]
  },
  {
   "cell_type": "code",
   "execution_count": 88,
   "metadata": {},
   "outputs": [],
   "source": [
    "# 添加标记线和标记点、阶梯图(可参考官网 配置项-系列配置项-MarkPointItem)\n",
    "def line_marker():\n",
    "    c = (\n",
    "        Line()\n",
    "        .add_xaxis(attr)\n",
    "        # 给最大值的点设置标记\n",
    "        .add_yaxis(\"商家A\",v1,\n",
    "                   markpoint_opts=opts.MarkPointOpts(data=[opts.MarkPointItem(type_=\"max\",name=\"最大值\")]))\n",
    "        \n",
    "        # 添加多个点\n",
    "#         .add_yaxis(\"商家A\",v1,\n",
    "#                    markpoint_opts=opts.MarkPointOpts(\n",
    "#                        data=[\n",
    "#                             opts.MarkPointItem(type_=\"max\", name=\"最大值\"),\n",
    "#                             opts.MarkPointItem(type_=\"min\", name=\"最小值\"),\n",
    "#                             opts.MarkPointItem(type_=\"average\", name=\"平均值\")])\n",
    "#                    )\n",
    "#         .add_yaxis(\"商家B\",v2,\n",
    "#                   markline_opts=opts.MarkLineOpts(data=[opts.MarkLineItem(type_=\"average\")]))# max min\n",
    "        \n",
    "        # 添加多条线\n",
    "#         .add_yaxis(\"商家B\",v2,\n",
    "#                   markline_opts=opts.MarkLineOpts(\n",
    "#                       data=[\n",
    "#                           opts.MarkLineItem(type_=\"average\",name=\"平均值\"),\n",
    "#                           opts.MarkLineItem(type_=\"max\",name=\"最大值\"),\n",
    "#                           opts.MarkLineItem(type_=\"min\")]))# max min\n",
    "#         .add_yaxis(\"商家C\",v3,is_step=True)\n",
    "        \n",
    "        .set_global_opts(title_opts=opts.TitleOpts(title=\"Line-marker\"))\n",
    "    )\n",
    "    return c"
   ]
  },
  {
   "cell_type": "code",
   "execution_count": 89,
   "metadata": {},
   "outputs": [
    {
     "data": {
      "text/plain": [
       "'C:\\\\Users\\\\ibf\\\\Desktop\\\\python数据分析课件整理\\\\数据可视化\\\\line_smooth.html'"
      ]
     },
     "execution_count": 89,
     "metadata": {},
     "output_type": "execute_result"
    }
   ],
   "source": [
    "line_marker().render(\"line_smooth.html\")"
   ]
  },
  {
   "cell_type": "code",
   "execution_count": null,
   "metadata": {},
   "outputs": [],
   "source": [
    "markpoint_opts=opts.MarkPointOpts(data=[opts.MarkPointItem(type_=\"min\")])"
   ]
  },
  {
   "cell_type": "code",
   "execution_count": null,
   "metadata": {},
   "outputs": [],
   "source": []
  },
  {
   "cell_type": "code",
   "execution_count": null,
   "metadata": {},
   "outputs": [],
   "source": []
  },
  {
   "cell_type": "code",
   "execution_count": null,
   "metadata": {},
   "outputs": [],
   "source": []
  },
  {
   "cell_type": "code",
   "execution_count": null,
   "metadata": {},
   "outputs": [],
   "source": []
  },
  {
   "cell_type": "code",
   "execution_count": null,
   "metadata": {},
   "outputs": [],
   "source": []
  },
  {
   "cell_type": "code",
   "execution_count": null,
   "metadata": {},
   "outputs": [],
   "source": []
  },
  {
   "cell_type": "code",
   "execution_count": 31,
   "metadata": {},
   "outputs": [],
   "source": [
    "# 设置参数\n",
    "def line2(data_x,data_y,labels):\n",
    "    c = Line().set_global_opts(title_opts=opts.TitleOpts(title=\"Line-基本示例\"))\n",
    "    c.add_xaxis(data_x)\n",
    "    for a,b in zip(data_y,labels):\n",
    "        c.add_yaxis(b,a)\n",
    "    return c"
   ]
  },
  {
   "cell_type": "code",
   "execution_count": 33,
   "metadata": {},
   "outputs": [
    {
     "data": {
      "text/plain": [
       "'C:\\\\Users\\\\ibf\\\\Desktop\\\\python数据分析课件整理\\\\数据可视化\\\\render.html'"
      ]
     },
     "execution_count": 33,
     "metadata": {},
     "output_type": "execute_result"
    }
   ],
   "source": [
    "line2(attr,[v1,v2,v3],[\"商家1\",\"商家2\",\"商家3\"]).render()"
   ]
  },
  {
   "cell_type": "code",
   "execution_count": 90,
   "metadata": {},
   "outputs": [
    {
     "data": {
      "text/plain": [
       "'C:\\\\Users\\\\ibf\\\\Desktop\\\\python数据分析课件整理\\\\数据可视化\\\\render.html'"
      ]
     },
     "execution_count": 90,
     "metadata": {},
     "output_type": "execute_result"
    }
   ],
   "source": [
    "line = Line()# 生成绘图对象\n",
    "\n",
    "# # 基本绘图\n",
    "attr = [\"衬衫\", \"羊毛衫\", \"雪纺衫\", \"裤子\", \"高跟鞋\", \"袜子\"]\n",
    "v1 = [5, 20, 36, 10, 10, 100]\n",
    "v2 = [55, 60, 16, 20, 15, 80]\n",
    "line.add_xaxis(attr)\n",
    "line.add_yaxis(\"商家A\",v1)\n",
    "line.add_yaxis(\"商家B\",v2)\n",
    "line.render()"
   ]
  },
  {
   "cell_type": "code",
   "execution_count": null,
   "metadata": {},
   "outputs": [],
   "source": []
  },
  {
   "cell_type": "code",
   "execution_count": null,
   "metadata": {},
   "outputs": [],
   "source": [
    "\n",
    "\n",
    "\n",
    "\n",
    "\n",
    "\n",
    "\n",
    "\n",
    "\n",
    "\n",
    "\n",
    "\n",
    "\n",
    "\n",
    "\n",
    "\n",
    "\n",
    "\n"
   ]
  }
 ],
 "metadata": {
  "kernelspec": {
   "display_name": "Python 3",
   "language": "python",
   "name": "python3"
  },
  "language_info": {
   "codemirror_mode": {
    "name": "ipython",
    "version": 3
   },
   "file_extension": ".py",
   "mimetype": "text/x-python",
   "name": "python",
   "nbconvert_exporter": "python",
   "pygments_lexer": "ipython3",
   "version": "3.6.5"
  }
 },
 "nbformat": 4,
 "nbformat_minor": 2
}
