{
 "cells": [
  {
   "cell_type": "code",
   "execution_count": 13,
   "metadata": {},
   "outputs": [],
   "source": [
    "from pyecharts import options as opts\n",
    "from pyecharts.charts import Boxplot\n",
    "from random import randint"
   ]
  },
  {
   "cell_type": "code",
   "execution_count": 27,
   "metadata": {},
   "outputs": [],
   "source": [
    "def boxpolt() -> Boxplot:\n",
    "    # v1 v2为嵌套列表\n",
    "    v1 =[[randint(0,100) for i in range(100)]]\n",
    "    print(v1)\n",
    "    c = Boxplot()\n",
    "    # c.prepare_data(v1)求 min 1/4位数 中位数 3/4位数 max\n",
    "    c.add_xaxis([\"变量1\"]).add_yaxis(\"A\", c.prepare_data(v1))\n",
    "    c.set_global_opts(title_opts=opts.TitleOpts(title=\"BoxPlot\"))\n",
    "    print(c.prepare_data(v1))\n",
    "    return c"
   ]
  },
  {
   "cell_type": "code",
   "execution_count": 28,
   "metadata": {},
   "outputs": [
    {
     "name": "stdout",
     "output_type": "stream",
     "text": [
      "[[58, 92, 81, 37, 79, 24, 9, 81, 62, 69, 67, 1, 18, 56, 42, 31, 71, 13, 1, 26, 8, 87, 73, 72, 48, 68, 18, 49, 19, 21, 10, 90, 41, 16, 63, 89, 9, 27, 18, 70, 76, 19, 96, 30, 30, 71, 77, 29, 0, 12, 100, 20, 14, 69, 15, 43, 29, 25, 8, 89, 73, 12, 82, 80, 58, 85, 48, 22, 92, 89, 34, 13, 52, 78, 52, 15, 47, 70, 20, 50, 38, 18, 46, 15, 12, 30, 44, 9, 95, 90, 19, 66, 81, 85, 39, 56, 50, 52, 80, 27]]\n",
      "[[0, 19.0, 46.5, 72.75, 100]]\n"
     ]
    },
    {
     "data": {
      "text/plain": [
       "'C:\\\\Users\\\\ibf\\\\Desktop\\\\python数据分析课件整理\\\\数据可视化\\\\render.html'"
      ]
     },
     "execution_count": 28,
     "metadata": {},
     "output_type": "execute_result"
    }
   ],
   "source": [
    "boxpolt().render()"
   ]
  },
  {
   "cell_type": "code",
   "execution_count": null,
   "metadata": {},
   "outputs": [],
   "source": []
  },
  {
   "cell_type": "code",
   "execution_count": null,
   "metadata": {},
   "outputs": [],
   "source": []
  },
  {
   "cell_type": "code",
   "execution_count": 29,
   "metadata": {},
   "outputs": [],
   "source": [
    "def boxpolt_base() -> Boxplot:\n",
    "    # v1 v2为嵌套列表\n",
    "    v1 = [\n",
    "        [850, 740, 900, 1070, 930, 850, 950, 980, 980, 880]\n",
    "        + [1000, 980, 930, 650, 760, 810, 1000, 1000, 960, 960],\n",
    "        [960, 940, 960, 940, 880, 800, 850, 880, 900]\n",
    "        + [840, 830, 790, 810, 880, 880, 830, 800, 790, 760, 800],\n",
    "    ]\n",
    "    v2 = [\n",
    "        [890, 810, 810, 820, 800, 770, 760, 740, 750, 760]\n",
    "        + [910, 920, 890, 860, 880, 720, 840, 850, 850, 780],\n",
    "        [890, 840, 780, 810, 760, 810, 790, 810, 820, 850, 870]\n",
    "        + [870, 810, 740, 810, 940, 950, 800, 810, 870],\n",
    "    ]\n",
    "    c = Boxplot()\n",
    "    c.add_xaxis([\"变量1\", \"变量2\"]).add_yaxis(\"A\", c.prepare_data(v1)).add_yaxis(\n",
    "        \"B\", c.prepare_data(v2)\n",
    "    ).set_global_opts(title_opts=opts.TitleOpts(title=\"BoxPlot-基本示例\"))\n",
    "    return c"
   ]
  },
  {
   "cell_type": "code",
   "execution_count": 30,
   "metadata": {},
   "outputs": [
    {
     "data": {
      "text/plain": [
       "'C:\\\\Users\\\\ibf\\\\Desktop\\\\python数据分析课件整理\\\\数据可视化\\\\render.html'"
      ]
     },
     "execution_count": 30,
     "metadata": {},
     "output_type": "execute_result"
    }
   ],
   "source": [
    "boxpolt_base().render()"
   ]
  },
  {
   "cell_type": "code",
   "execution_count": 4,
   "metadata": {},
   "outputs": [],
   "source": [
    "# https://pyecharts.org/#/zh-cn/rectangular_charts?id=line%ef%bc%9a%e6%8a%98%e7%ba%bf%e9%9d%a2%e7%a7%af%e5%9b%be"
   ]
  },
  {
   "cell_type": "code",
   "execution_count": null,
   "metadata": {},
   "outputs": [],
   "source": []
  },
  {
   "cell_type": "code",
   "execution_count": null,
   "metadata": {},
   "outputs": [],
   "source": []
  }
 ],
 "metadata": {
  "kernelspec": {
   "display_name": "Python 3",
   "language": "python",
   "name": "python3"
  },
  "language_info": {
   "codemirror_mode": {
    "name": "ipython",
    "version": 3
   },
   "file_extension": ".py",
   "mimetype": "text/x-python",
   "name": "python",
   "nbconvert_exporter": "python",
   "pygments_lexer": "ipython3",
   "version": "3.6.5"
  }
 },
 "nbformat": 4,
 "nbformat_minor": 2
}
