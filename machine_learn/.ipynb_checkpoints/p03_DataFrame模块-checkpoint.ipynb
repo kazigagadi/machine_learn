{
 "cells": [
  {
   "cell_type": "code",
   "execution_count": 1,
   "metadata": {},
   "outputs": [],
   "source": [
    "import numpy as np\n",
    "import pandas as pd\n",
    "import warnings\n",
    "warnings.filterwarnings(\"ignore\")# 忽略warning"
   ]
  },
  {
   "cell_type": "code",
   "execution_count": 6,
   "metadata": {},
   "outputs": [
    {
     "name": "stdout",
     "output_type": "stream",
     "text": [
      "    A   B   C   D   E   F\n",
      "a   0   1   2   3   4   5\n",
      "b   6   7   8   9  10  11\n",
      "c  12  13  14  15  16  17\n",
      "d  18  19  20  21  22  23 <class 'pandas.core.frame.DataFrame'>\n"
     ]
    }
   ],
   "source": [
    "# 创建Dataframe\n",
    "df=pd.DataFrame(np.arange(24).reshape(4,6),index=list(\"abcd\"),columns=list(\"ABCDEF\"))\n",
    "print(df,type(df))"
   ]
  },
  {
   "cell_type": "code",
   "execution_count": 20,
   "metadata": {},
   "outputs": [
    {
     "data": {
      "text/html": [
       "<div>\n",
       "<style scoped>\n",
       "    .dataframe tbody tr th:only-of-type {\n",
       "        vertical-align: middle;\n",
       "    }\n",
       "\n",
       "    .dataframe tbody tr th {\n",
       "        vertical-align: top;\n",
       "    }\n",
       "\n",
       "    .dataframe thead th {\n",
       "        text-align: right;\n",
       "    }\n",
       "</style>\n",
       "<table border=\"1\" class=\"dataframe\">\n",
       "  <thead>\n",
       "    <tr style=\"text-align: right;\">\n",
       "      <th></th>\n",
       "      <th>r1</th>\n",
       "      <th>r2</th>\n",
       "      <th>r3</th>\n",
       "      <th>r4</th>\n",
       "      <th>r5</th>\n",
       "    </tr>\n",
       "  </thead>\n",
       "  <tbody>\n",
       "    <tr>\n",
       "      <th>城市</th>\n",
       "      <td>北京</td>\n",
       "      <td>上海</td>\n",
       "      <td>广州</td>\n",
       "      <td>深圳</td>\n",
       "      <td>沈阳</td>\n",
       "    </tr>\n",
       "    <tr>\n",
       "      <th>环比</th>\n",
       "      <td>101.5</td>\n",
       "      <td>101.2</td>\n",
       "      <td>101.3</td>\n",
       "      <td>102</td>\n",
       "      <td>100.1</td>\n",
       "    </tr>\n",
       "    <tr>\n",
       "      <th>同比</th>\n",
       "      <td>120.7</td>\n",
       "      <td>127.3</td>\n",
       "      <td>119.4</td>\n",
       "      <td>140.9</td>\n",
       "      <td>101.4</td>\n",
       "    </tr>\n",
       "    <tr>\n",
       "      <th>定基</th>\n",
       "      <td>121.4</td>\n",
       "      <td>127.8</td>\n",
       "      <td>122</td>\n",
       "      <td>145.5</td>\n",
       "      <td>101.6</td>\n",
       "    </tr>\n",
       "  </tbody>\n",
       "</table>\n",
       "</div>"
      ],
      "text/plain": [
       "       r1     r2     r3     r4     r5\n",
       "城市     北京     上海     广州     深圳     沈阳\n",
       "环比  101.5  101.2  101.3    102  100.1\n",
       "同比  120.7  127.3  119.4  140.9  101.4\n",
       "定基  121.4  127.8    122  145.5  101.6"
      ]
     },
     "execution_count": 20,
     "metadata": {},
     "output_type": "execute_result"
    }
   ],
   "source": [
    "data={'城市':['北京','上海','广州','深圳','沈阳'],\n",
    "    '环比':[101.5,101.2,101.3,102.,100.1],\n",
    "    '同比':[120.7,127.3,119.4,140.9,101.4],\n",
    "    '定基':[121.4,127.8,122.0,145.5,101.6]}\n",
    "df=pd.DataFrame(data,index=['r1','r2','r3','r4','r5'])\n",
    "# Dataframe中包含的属性\n",
    "df.index# 查看行索引（index对象无法修改）\n",
    "df.columns\n",
    "df.values\n",
    "df.T# 对dataframe进行转置"
   ]
  },
  {
   "cell_type": "code",
   "execution_count": 29,
   "metadata": {},
   "outputs": [
    {
     "name": "stdout",
     "output_type": "stream",
     "text": [
      "    城市     环比     同比     定基\n",
      "r1  北京  101.5  120.7  121.4\n",
      "r2  上海  101.2  127.3  127.8\n",
      "r3  广州  101.3  119.4  122.0\n",
      "r4  深圳  102.0  140.9  145.5\n",
      "r5  沈阳  100.1  101.4  101.6\n",
      "**************************************************\n",
      "r1    120.7\n",
      "r2    127.3\n",
      "r3    119.4\n",
      "r4    140.9\n",
      "r5    101.4\n",
      "Name: 同比, dtype: float64\n",
      "**************************************************\n",
      "140.9\n",
      "**************************************************\n",
      "    城市     同比  城市\n",
      "r1  北京  120.7  北京\n",
      "r2  上海  127.3  上海\n",
      "r3  广州  119.4  广州\n",
      "r4  深圳  140.9  深圳\n",
      "r5  沈阳  101.4  沈阳\n"
     ]
    }
   ],
   "source": [
    "# 查看数据\n",
    "print(df)\n",
    "print(\"*\"*50)\n",
    "print(df['同比'])\n",
    "print(\"*\"*50)\n",
    "print(df['同比']['r4'])# df['同比'][3]\n",
    "print(\"*\"*50)\n",
    "# 查看多列数据\n",
    "print(df[['城市','同比']])"
   ]
  },
  {
   "cell_type": "code",
   "execution_count": 36,
   "metadata": {},
   "outputs": [
    {
     "name": "stdout",
     "output_type": "stream",
     "text": [
      "获取单个数据:\n",
      "广州\n",
      "**************************************************\n",
      "获取多个数据:\n",
      "城市       广州\n",
      "环比    101.3\n",
      "同比    119.4\n",
      "Name: r3, dtype: object\n",
      "    城市     环比     同比\n",
      "r2  上海  101.2  127.3\n",
      "r3  广州  101.3  119.4\n",
      "**************************************************\n",
      "通过切片的方式选取数据:\n",
      "    城市     环比     同比\n",
      "r1  北京  101.5  120.7\n",
      "r2  上海  101.2  127.3\n",
      "r3  广州  101.3  119.4\n",
      "**************************************************\n",
      "常用索引方式:\n",
      "    城市     环比     同比\n",
      "r3  广州  101.3  119.4\n",
      "r4  深圳  102.0  140.9\n",
      "r5  沈阳  100.1  101.4\n",
      "    城市     环比     同比\n",
      "r1  北京  101.5  120.7\n",
      "r2  上海  101.2  127.3\n",
      "r3  广州  101.3  119.4\n",
      "r4  深圳  102.0  140.9\n",
      "    城市     同比\n",
      "r1  北京  120.7\n",
      "r2  上海  127.3\n",
      "r3  广州  119.4\n",
      "r4  深圳  140.9\n",
      "r5  沈阳  101.4\n"
     ]
    }
   ],
   "source": [
    "# 用df.loc[行索引,列索引]\n",
    "# 通过名称属性选取数据\n",
    "print(\"获取单个数据:\")\n",
    "print(df.loc[\"r3\",\"城市\"])\n",
    "print(\"*\"*50)\n",
    "print(\"获取多个数据:\")\n",
    "print(df.loc[\"r3\",[\"城市\",\"环比\",\"同比\"]])\n",
    "print(df.loc[[\"r2\",\"r3\"],[\"城市\",\"环比\",\"同比\"]])\n",
    "print(\"*\"*50)\n",
    "print(\"通过切片的方式选取数据:\")\n",
    "print(df.loc[\"r1\":\"r3\",\"城市\":\"同比\"])\n",
    "print(\"*\"*50)\n",
    "print(\"常用索引方式:\")\n",
    "print(df.loc[\"r3\":,\"城市\":\"同比\"])\n",
    "print(df.loc[:\"r4\",\"城市\":\"同比\"])\n",
    "print(df.loc[:,[\"城市\",\"同比\"]])"
   ]
  },
  {
   "cell_type": "code",
   "execution_count": 52,
   "metadata": {},
   "outputs": [
    {
     "name": "stdout",
     "output_type": "stream",
     "text": [
      "    城市     环比     同比     定基\n",
      "r1  北京  101.5  120.7  121.4\n",
      "r2  上海  101.2  127.3  127.8\n",
      "r3  广州  101.3  119.4  122.0\n",
      "r4  深圳  102.0  140.9  145.5\n",
      "r5  沈阳  100.1  101.4  101.6\n",
      "获取单个数据:\n",
      "广州\n",
      "**************************************************\n",
      "获取多个数据:\n",
      "城市       广州\n",
      "环比    101.3\n",
      "同比    119.4\n",
      "Name: r3, dtype: object\n",
      "    城市     环比     同比\n",
      "r1  北京  101.5  120.7\n",
      "r3  广州  101.3  119.4\n",
      "**************************************************\n",
      "通过切片的方式选取数据:\n",
      "    城市     环比     同比\n",
      "r1  北京  101.5  120.7\n",
      "r2  上海  101.2  127.3\n",
      "r3  广州  101.3  119.4\n",
      "**************************************************\n",
      "常用索引方式:\n",
      "    城市     环比     同比\n",
      "r3  广州  101.3  119.4\n",
      "r4  深圳  102.0  140.9\n",
      "r5  沈阳  100.1  101.4\n",
      "    城市     环比     同比\n",
      "r1  北京  101.5  120.7\n",
      "r2  上海  101.2  127.3\n",
      "r3  广州  101.3  119.4\n",
      "r4  深圳  102.0  140.9\n",
      "    城市     同比\n",
      "r1  北京  120.7\n",
      "r2  上海  127.3\n",
      "r3  广州  119.4\n",
      "r4  深圳  140.9\n",
      "r5  沈阳  101.4\n"
     ]
    }
   ],
   "source": [
    "# 用df.iloc通过行列的隐式索引提取数据\n",
    "# df.iloc[行位置,列位置]\n",
    "print(df)\n",
    "print(\"获取单个数据:\")\n",
    "print(df.iloc[2,0])\n",
    "print(\"*\"*50)\n",
    "print(\"获取多个数据:\")\n",
    "print(df.iloc[2,[0,1,2]])\n",
    "print(df.iloc[[0,2],[0,1,2]])\n",
    "print(\"*\"*50)\n",
    "print(\"通过切片的方式选取数据:\")\n",
    "print(df.iloc[0:3,0:3])# 左闭右开的规则\n",
    "print(\"*\"*50)\n",
    "print(\"常用索引方式:\")\n",
    "print(df.iloc[2:,0:3])\n",
    "print(df.iloc[:4,0:3])\n",
    "print(df.iloc[:,[0,2]])"
   ]
  },
  {
   "cell_type": "code",
   "execution_count": 54,
   "metadata": {},
   "outputs": [
    {
     "name": "stdout",
     "output_type": "stream",
     "text": [
      "    城市     同比\n",
      "r2  上海  127.3\n",
      "r3  广州  119.4\n",
      "r4  深圳  140.9\n"
     ]
    }
   ],
   "source": [
    "# # df.ix混合模式\n",
    "print(df.ix[1:4,[\"城市\",\"同比\"]])"
   ]
  },
  {
   "cell_type": "code",
   "execution_count": 66,
   "metadata": {},
   "outputs": [
    {
     "name": "stdout",
     "output_type": "stream",
     "text": [
      "    城市     环比     同比     定基\n",
      "r1  北京  101.5  120.7  121.4\n",
      "r2  上海  101.2  127.3  127.8\n",
      "r3  广州  101.3  119.4  122.0\n",
      "r4  深圳  102.0  140.9  145.5\n",
      "r5  沈阳  100.1  101.4  101.6\n",
      "    城市     环比     同比     定基\n",
      "r1  北京  101.5  120.7  121.4\n",
      "r2  上海  101.2  127.3  127.8\n",
      "    城市     环比     同比     定基\n",
      "r1  北京  101.5  120.7  121.4\n",
      "r2  上海  101.2  127.3  127.8\n"
     ]
    }
   ],
   "source": [
    "# 通过布尔值索引进行筛选\n",
    "print(df)\n",
    "# print(df['同比']>120)# 布尔值类型的Series\n",
    "s1=df['同比']>120\n",
    "# print(df[s1])\n",
    "# print(df.loc[s1,:])\n",
    "# # 多重索引判断\n",
    "# s2=(df['同比']>120) & (df['环比']>=102)\n",
    "# print(s2)\n",
    "# print(df[s2])\n",
    "# print(df.loc[s2,:])\n",
    "# s3=(df['同比']>120) | (df['环比']>=101)\n",
    "# print(s3)\n",
    "# print(df[s3])\n",
    "# print(df.loc[s3,:])\n",
    "# 提取环比低于102同时同比高于120的数据\n",
    "# s4=(df['同比']>120) & (df['环比']<102)\n",
    "# print(df[s4])\n",
    "# print(df.loc[s4,:])"
   ]
  },
  {
   "cell_type": "code",
   "execution_count": 76,
   "metadata": {},
   "outputs": [
    {
     "name": "stdout",
     "output_type": "stream",
     "text": [
      "    城市     环比     同比     定基     房价\n",
      "r1  北京  101.5  120.7  121.4  10000\n",
      "r2  上海  101.2  127.3  127.8  20000\n",
      "r3  广州  101.3  119.4  122.0  30000\n",
      "r4  深圳  102.0  140.9  145.5  40000\n",
      "r5  沈阳  100.1  101.4  101.6  50000\n",
      "R6  杭州  102.5  132.1  123.2  15000\n",
      "R7  成都  102.3  123.2  115.5  25000\n",
      "    城市     环比     同比     定基     房价  常驻人口\n",
      "r1  北京  101.5  120.7  121.4  10000   100\n",
      "r2  上海  101.2  127.3  127.8  20000   200\n",
      "r3  广州  101.3  119.4  122.0  30000   300\n",
      "r4  深圳  102.0  140.9  145.5  40000   400\n",
      "r5  沈阳  100.1  101.4  101.6  50000   500\n",
      "R6  杭州  102.5  132.1  123.2  15000   600\n",
      "R7  成都  102.3  123.2  115.5  25000   700\n"
     ]
    }
   ],
   "source": [
    "# 添加数据和修改数据\n",
    "print(df)\n",
    "# 插入列\n",
    "# df['房价']=[10000,20000,30000,40000,50000,60000]\n",
    "# print(df)\n",
    "# 插入行\n",
    "# df.loc['R6']=['杭州',102.5,132.1,123.2,15000]\n",
    "# print(df)\n",
    "# 手动插入两组数据,成都的数据,插入每个城市人口的数据,数据自己随便定义\n",
    "# df.loc[\"R7\"]=[\"成都\",102.3,123.2,115.5,25000]\n",
    "# print(df)\n",
    "# df[\"常驻人口\"]=[(i+1)*100 for i in range(7)]\n",
    "# print(df)"
   ]
  },
  {
   "cell_type": "code",
   "execution_count": 96,
   "metadata": {},
   "outputs": [
    {
     "name": "stdout",
     "output_type": "stream",
     "text": [
      "   A  B   C   D\n",
      "a  0  1   2   3\n",
      "b  4  5   6   7\n",
      "c  8  9  10  11\n",
      "**************************************************\n",
      "   A  B   C   D\n",
      "a  0  1   2   3\n",
      "b  4  5   6   7\n",
      "x  8  9  10  11\n",
      "c  8  9  10  11\n",
      "   A  B   C   D\n",
      "x  8  9  10  11\n",
      "a  0  1   2   3\n",
      "b  4  5   6   7\n",
      "c  8  9  10  11\n"
     ]
    }
   ],
   "source": [
    "# reindex方法改变数据\n",
    "df1=pd.DataFrame(np.arange(12).reshape(3,4),index=list(\"abc\"),columns=list(\"ABCD\"))\n",
    "print(df1)\n",
    "# print(df1.reindex(index=list(\"bca\")))\n",
    "# print(df1.reindex(columns=list(\"DCBA\")))\n",
    "# print(df1.reindex(index=list(\"ca\")))\n",
    "# print(df1.reindex(columns=list(\"AD\")))\n",
    "# print(df1.reindex(columns=list(\"ABAB\")))\n",
    "print(\"*\"*50)\n",
    "# print(df1.reindex(index=list(\"bcd\")))\n",
    "# print(df1.reindex(index=list(\"bcd\"),fill_value=100))\n",
    "# print(df1.reindex(index=list(\"abxc\"),method=\"ffill\"))\n",
    "# print(df1.reindex(index=list(\"xabc\"),method=\"ffill\"))"
   ]
  },
  {
   "cell_type": "code",
   "execution_count": 111,
   "metadata": {
    "scrolled": false
   },
   "outputs": [
    {
     "name": "stdout",
     "output_type": "stream",
     "text": [
      "     A    B     C  new     D\n",
      "a  0.0  1.0   2.0  NaN   3.0\n",
      "b  4.0  5.0   6.0  NaN   7.0\n",
      "x  1.0  2.0   3.0  NaN   4.0\n",
      "c  8.0  9.0  10.0  NaN  11.0\n"
     ]
    }
   ],
   "source": [
    "# 通过reindex在任意位置插入行/列\n",
    "# df1=df1.reindex(index=list(\"abxc\"))\n",
    "# print(df1)\n",
    "# df1.loc['x']=[1,2,3,4]\n",
    "# df1\n",
    "# 通过index的insert函数\n",
    "# new_index=df1.index.insert(3,\"new\")\n",
    "# df1=df1.reindex(index=new_index))\n",
    "# df1.loc['x']=[1,2,3,4]\n",
    "# df1\n",
    "# 插入列\n",
    "# new_columns=df1.columns.insert(3,\"new\")\n",
    "# print(df1.reindex(columns=new_columns))\n",
    "# df1.['new']=[1,2,3,4]\n",
    "# df1"
   ]
  },
  {
   "cell_type": "code",
   "execution_count": 125,
   "metadata": {
    "scrolled": true
   },
   "outputs": [
    {
     "name": "stdout",
     "output_type": "stream",
     "text": [
      "    A   B   C   D   E\n",
      "a   0   1   2   3   4\n",
      "b   5   6   7   8   9\n",
      "c  10  11  12  13  14\n",
      "d  15  16  17  18  19\n",
      "------------------------------修改原对象------------------------------\n",
      "    B   D   E\n",
      "a   1   3   4\n",
      "b   6   8   9\n",
      "c  11  13  14\n",
      "d  16  18  19\n"
     ]
    }
   ],
   "source": [
    "# drop删除数据\n",
    "d=pd.DataFrame(np.arange(20).reshape(4,5),index=list('abcd'),columns=list(\"ABCDE\"))\n",
    "print(d)\n",
    "# print(\"{0}删除一行{0}\".format(\"-\"*30))\n",
    "# print(d.drop(\"c\"))\n",
    "# print(\"{0}删除多行{0}\".format(\"-\"*30))\n",
    "# print(d.drop([\"c\",\"a\"]))\n",
    "# print(d.drop(d.index[0:2]))\n",
    "# print(\"{0}删除一列{0}\".format(\"-\"*30))\n",
    "# print(d.drop(\"C\",axis=1))\n",
    "# print(\"{0}删除多列{0}\".format(\"-\"*30))\n",
    "# print(d.drop([\"A\",\"C\"],axis=\"columns\"))\n",
    "print(\"{0}修改原对象{0}\".format(\"-\"*30))\n",
    "d.drop([\"A\",\"C\"],axis=\"columns\",inplace=True)# 修改原对象\n",
    "print(d)"
   ]
  },
  {
   "cell_type": "code",
   "execution_count": 135,
   "metadata": {},
   "outputs": [
    {
     "name": "stdout",
     "output_type": "stream",
     "text": [
      "    0   1   2   3   4\n",
      "0   0   1   2   3   4\n",
      "1   5   6   7   8   9\n",
      "2  10  11  12  13  14\n",
      "3  15  16  17  18  19\n"
     ]
    }
   ],
   "source": [
    "# 算数计算\n",
    "a=pd.DataFrame(np.arange(20).reshape(4,5))\n",
    "# b=pd.DataFrame(np.arange(20).reshape(4,5))\n",
    "s=pd.Series([100,200,300,400])\n",
    "print(a)\n",
    "# print(a+100)# 加上标量\n",
    "# print(s)\n",
    "# print(a+s)# 通过列索引对齐\n",
    "# print(a.add(s,axis=0))\n",
    "# print(a+a)"
   ]
  },
  {
   "cell_type": "code",
   "execution_count": 145,
   "metadata": {
    "scrolled": true
   },
   "outputs": [
    {
     "name": "stdout",
     "output_type": "stream",
     "text": [
      "    A   B   C   D   E\n",
      "a   0   1   2   3   4\n",
      "b   5   6   7   8   9\n",
      "c  10  11  12  13  14\n",
      "d  15  16  17  18  19\n",
      "    A   B   C   D\n",
      "a   0   1   2   3\n",
      "b   4   5   6   7\n",
      "c   8   9  10  11\n",
      "d  12  13  14  15\n",
      "e  16  17  18  19\n",
      "a    100\n",
      "b    200\n",
      "c    300\n",
      "d    400\n",
      "dtype: int64\n",
      "------------------------------通过索引对齐后进行计算------------------------------\n"
     ]
    }
   ],
   "source": [
    "# 算数计算\n",
    "a=pd.DataFrame(np.arange(20).reshape(4,5),index=list(\"abcd\"),columns=list(\"ABCDE\"))\n",
    "b=pd.DataFrame(np.arange(20).reshape(5,4),index=list(\"abcde\"),columns=list(\"ABCD\"))\n",
    "s=pd.Series([100,200,300,400],index=list(\"abcd\"))\n",
    "print(a);print(b);print(s)\n",
    "print(\"{0}通过索引对齐后进行计算{0}\".format(\"-\"*30))\n",
    "# print(a-b)\n",
    "# print(a+s)\n",
    "# print(a.add(s,axis=0))"
   ]
  },
  {
   "cell_type": "code",
   "execution_count": 165,
   "metadata": {},
   "outputs": [],
   "source": [
    "# 算数比较\n",
    "a=pd.DataFrame(np.arange(20).reshape(4,5),index=list(\"abcd\"),columns=list(\"ABCDE\"))\n",
    "b=pd.DataFrame(np.arange(-20,0).reshape(4,5),index=list(\"abcd\"),columns=list(\"ABCDE\"))\n",
    "s=pd.Series([4,3,2,1,0],index=list(\"ABCDE\"))\n",
    "# print(a);print(b)\n",
    "# a>10\n",
    "# a[a>10]\n",
    "# print(a>s)\n",
    "# b=b.iloc[:3,:4]# 形状不同无法之间进行比较\n",
    "# print(a);print(b)"
   ]
  },
  {
   "cell_type": "code",
   "execution_count": 173,
   "metadata": {},
   "outputs": [
    {
     "data": {
      "text/html": [
       "<div>\n",
       "<style scoped>\n",
       "    .dataframe tbody tr th:only-of-type {\n",
       "        vertical-align: middle;\n",
       "    }\n",
       "\n",
       "    .dataframe tbody tr th {\n",
       "        vertical-align: top;\n",
       "    }\n",
       "\n",
       "    .dataframe thead th {\n",
       "        text-align: right;\n",
       "    }\n",
       "</style>\n",
       "<table border=\"1\" class=\"dataframe\">\n",
       "  <thead>\n",
       "    <tr style=\"text-align: right;\">\n",
       "      <th></th>\n",
       "      <th>索引列</th>\n",
       "      <th>A</th>\n",
       "      <th>B</th>\n",
       "      <th>C</th>\n",
       "      <th>D</th>\n",
       "      <th>E</th>\n",
       "    </tr>\n",
       "  </thead>\n",
       "  <tbody>\n",
       "    <tr>\n",
       "      <th>0</th>\n",
       "      <td>a</td>\n",
       "      <td>0</td>\n",
       "      <td>1</td>\n",
       "      <td>2</td>\n",
       "      <td>3</td>\n",
       "      <td>4</td>\n",
       "    </tr>\n",
       "    <tr>\n",
       "      <th>1</th>\n",
       "      <td>b</td>\n",
       "      <td>5</td>\n",
       "      <td>6</td>\n",
       "      <td>7</td>\n",
       "      <td>8</td>\n",
       "      <td>9</td>\n",
       "    </tr>\n",
       "    <tr>\n",
       "      <th>2</th>\n",
       "      <td>c</td>\n",
       "      <td>10</td>\n",
       "      <td>11</td>\n",
       "      <td>12</td>\n",
       "      <td>13</td>\n",
       "      <td>14</td>\n",
       "    </tr>\n",
       "    <tr>\n",
       "      <th>3</th>\n",
       "      <td>d</td>\n",
       "      <td>15</td>\n",
       "      <td>16</td>\n",
       "      <td>17</td>\n",
       "      <td>18</td>\n",
       "      <td>19</td>\n",
       "    </tr>\n",
       "  </tbody>\n",
       "</table>\n",
       "</div>"
      ],
      "text/plain": [
       "  索引列   A   B   C   D   E\n",
       "0   a   0   1   2   3   4\n",
       "1   b   5   6   7   8   9\n",
       "2   c  10  11  12  13  14\n",
       "3   d  15  16  17  18  19"
      ]
     },
     "execution_count": 173,
     "metadata": {},
     "output_type": "execute_result"
    }
   ],
   "source": [
    "# set_index reset_index\n",
    "a=pd.DataFrame(np.arange(20).reshape(4,5),index=list(\"abcd\"),columns=list(\"ABCDE\"))\n",
    "# a=a.set_index(\"A\")# 将指定列标称索引列\n",
    "# print(a.index)\n",
    "a.index.name=\"索引列\"\n",
    "a.reset_index()# 将索引列变成数据列"
   ]
  },
  {
   "cell_type": "code",
   "execution_count": 179,
   "metadata": {},
   "outputs": [
    {
     "name": "stdout",
     "output_type": "stream",
     "text": [
      "    E   C   B   D   A\n",
      "a   4   2   1   3   0\n",
      "b   9   7   6   8   5\n",
      "c  14  12  11  13  10\n",
      "d  19  17  16  18  15\n",
      "    A   B   C   D   E\n",
      "d  15  16  17  18  19\n",
      "b   5   6   7   8   9\n",
      "c  10  11  12  13  14\n",
      "a   0   1   2   3   4\n"
     ]
    }
   ],
   "source": [
    "# 数据的排序\n",
    "a=pd.DataFrame(np.arange(20).reshape(4,5),index=list(\"abcd\"),columns=list(\"ABCDE\"))\n",
    "a=a.reindex(index=list(\"dbca\"),columns=list(\"ECBDA\"))\n",
    "print(a.sort_index(axis=0))\n",
    "print(a.sort_index(axis=1))"
   ]
  },
  {
   "cell_type": "code",
   "execution_count": 187,
   "metadata": {},
   "outputs": [
    {
     "name": "stdout",
     "output_type": "stream",
     "text": [
      "    A   B   C   D   E\n",
      "d  15  16  17  18  19\n",
      "b   5   6   7   8   9\n",
      "c  10  11  12  13  14\n",
      "a   0   1   2   3   4\n",
      "    E   D   C   B   A\n",
      "d  19  18  17  16  15\n",
      "b   9   8   7   6   5\n",
      "c  14  13  12  11  10\n",
      "a   4   3   2   1   0\n"
     ]
    }
   ],
   "source": [
    "# 列方向和行方向数据的排列\n",
    "# print(a.sort_values(by='A',ascending=1))# 以单一列进行升序排列(默认)\n",
    "# print(a.sort_values(by='A',ascending=0))# 以单一列进行降序排列\n",
    "print(a.sort_values(by='a',ascending=1,axis=1))# 以单一行进行升序排列(默认)\n",
    "print(a.sort_values(by='a',ascending=0,axis=1))# 以单一行进行降序排列"
   ]
  },
  {
   "cell_type": "code",
   "execution_count": 195,
   "metadata": {},
   "outputs": [
    {
     "name": "stdout",
     "output_type": "stream",
     "text": [
      "   A  B  C\n",
      "2  2  3  2\n",
      "0  2  1  4\n",
      "3  1  4  1\n",
      "1  1  2  3\n",
      "   A  B  C\n",
      "1  1  2  3\n",
      "3  1  4  1\n",
      "0  2  1  4\n",
      "2  2  3  2\n"
     ]
    }
   ],
   "source": [
    "d=pd.DataFrame({\"A\":[2,1,2,1],\"B\":[1,2,3,4],\"C\":[4,3,2,1]})\n",
    "print(d.sort_values(by=[\"A\",\"C\"],ascending=[0,1]))# 指定多列进行排序,并指定排序规则\n",
    "print(d.sort_values(by=[\"A\",\"C\"],ascending=[True,False]))# 指定多列进行排序,并指定排序规则"
   ]
  },
  {
   "cell_type": "code",
   "execution_count": null,
   "metadata": {},
   "outputs": [],
   "source": [
    "\n",
    "\n",
    "\n",
    "\n",
    "\n",
    "\n",
    "\n",
    "\n",
    "\n",
    "\n",
    "\n",
    "\n",
    "\n",
    "\n",
    "\n",
    "\n",
    "\n",
    "\n",
    "\n"
   ]
  },
  {
   "cell_type": "code",
   "execution_count": null,
   "metadata": {},
   "outputs": [],
   "source": []
  }
 ],
 "metadata": {
  "kernelspec": {
   "display_name": "Python 3",
   "language": "python",
   "name": "python3"
  },
  "language_info": {
   "codemirror_mode": {
    "name": "ipython",
    "version": 3
   },
   "file_extension": ".py",
   "mimetype": "text/x-python",
   "name": "python",
   "nbconvert_exporter": "python",
   "pygments_lexer": "ipython3",
   "version": "3.6.5"
  }
 },
 "nbformat": 4,
 "nbformat_minor": 2
}
