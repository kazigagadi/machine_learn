{
 "cells": [
  {
   "cell_type": "code",
   "execution_count": 2,
   "metadata": {},
   "outputs": [],
   "source": [
    "import numpy as np\n",
    "import pandas as pd\n",
    "from sklearn.cluster import KMeans"
   ]
  },
  {
   "cell_type": "code",
   "execution_count": 4,
   "metadata": {},
   "outputs": [
    {
     "name": "stdout",
     "output_type": "stream",
     "text": [
      "<class 'pandas.core.frame.DataFrame'>\n",
      "RangeIndex: 940 entries, 0 to 939\n",
      "Data columns (total 4 columns):\n",
      " #   Column  Non-Null Count  Dtype\n",
      "---  ------  --------------  -----\n",
      " 0   Id      940 non-null    int64\n",
      " 1   R       940 non-null    int64\n",
      " 2   F       940 non-null    int64\n",
      " 3   M       940 non-null    int64\n",
      "dtypes: int64(4)\n",
      "memory usage: 29.5 KB\n"
     ]
    }
   ],
   "source": [
    "rfm=pd.read_csv(r\"F:\\DataAnalysis\\python\\资料\\全日制3班_20200507总结\\数据分析课件\\consumption_data.csv\")\n",
    "rfm.head()\n",
    "rfm.info()"
   ]
  },
  {
   "cell_type": "code",
   "execution_count": 6,
   "metadata": {},
   "outputs": [
    {
     "data": {
      "text/plain": [
       "KMeans(random_state=0)"
      ]
     },
     "execution_count": 6,
     "metadata": {},
     "output_type": "execute_result"
    }
   ],
   "source": [
    "new_rfm=rfm.loc[:,[\"R\",\"F\",\"M\"]]\n",
    "#随机种子random_state=0\n",
    "clf=KMeans(n_clusters=8,random_state=0)\n",
    "clf.fit(new_rfm)"
   ]
  },
  {
   "cell_type": "code",
   "execution_count": 8,
   "metadata": {},
   "outputs": [],
   "source": [
    "new_rfm['lable']=clf.labels_"
   ]
  },
  {
   "cell_type": "code",
   "execution_count": 10,
   "metadata": {},
   "outputs": [
    {
     "data": {
      "text/plain": [
       "6    175\n",
       "3    172\n",
       "7    155\n",
       "0    151\n",
       "5    148\n",
       "1    133\n",
       "4      4\n",
       "2      2\n",
       "Name: lable, dtype: int64"
      ]
     },
     "execution_count": 10,
     "metadata": {},
     "output_type": "execute_result"
    }
   ],
   "source": [
    "new_rfm['lable'].value_counts()"
   ]
  },
  {
   "cell_type": "code",
   "execution_count": 21,
   "metadata": {},
   "outputs": [
    {
     "name": "stdout",
     "output_type": "stream",
     "text": [
      "           R          F            M  类别数量\n",
      "0  17.845638  10.510067   931.637584   151\n",
      "1  16.616541  10.571429  1880.729323   133\n",
      "2  14.500000  25.000000  7472.500000     2\n",
      "3  16.809249   4.473988   218.687861   172\n",
      "4  35.250000   9.750000  5759.250000     4\n",
      "5  18.020270  11.716216  1262.945946   148\n",
      "6  14.698864  10.125000   594.511364   175\n",
      "7  16.400000  10.890323  1559.051613   155\n"
     ]
    }
   ],
   "source": [
    "r1=pd.DataFrame(clf.cluster_centers_)\n",
    "# print(r1)\n",
    "r2=new_rfm['lable'].value_counts()\n",
    "# print(r2)\n",
    "r1['类别数量']=r2\n",
    "r1.columns=[\"R\",\"F\",\"M\",\"类别数量\"]\n",
    "print(r1)"
   ]
  },
  {
   "cell_type": "code",
   "execution_count": 24,
   "metadata": {},
   "outputs": [
    {
     "name": "stdout",
     "output_type": "stream",
     "text": [
      "16.712894954148375 10.540747842761267 1410.9987794245862\n",
      "           R          F            M  类别数量    客户分类\n",
      "0  17.845638  10.510067   931.637584   151  一般发展用户\n",
      "1  16.616541  10.571429  1880.729323   133  重点保持用户\n",
      "2  14.500000  25.000000  7472.500000     2  重点保持用户\n",
      "3  16.809249   4.473988   218.687861   172  一般发展用户\n",
      "4  35.250000   9.750000  5759.250000     4  重点发展用户\n",
      "5  18.020270  11.716216  1262.945946   148  一般价值用户\n",
      "6  14.698864  10.125000   594.511364   175    潜在用户\n",
      "7  16.400000  10.890323  1559.051613   155  重点保持用户\n"
     ]
    }
   ],
   "source": [
    "rmd=r1['R'].median()\n",
    "fmd=r1['F'].median()\n",
    "mmd=r1['M'].median()\n",
    "print(rmd,fmd,mmd)\n",
    "cluter=[]\n",
    "for i in range(len(r1)):\n",
    "    if r1.iloc[i,0]>=rmd and r1.iloc[i,1]>=fmd and r1.iloc[i,2]>=mmd:\n",
    "        cluter.append(\"高价值用户\")\n",
    "    elif r1.iloc[i,0]<rmd and r1.iloc[i,1]>=fmd and r1.iloc[i,2]>=mmd:\n",
    "        cluter.append(\"重点保持用户\")\n",
    "    elif r1.iloc[i,0]>=rmd and r1.iloc[i,1]<fmd and r1.iloc[i,2]>=mmd:\n",
    "        cluter.append(\"重点发展用户\")\n",
    "    elif r1.iloc[i,0]<rmd and r1.iloc[i,1]<fmd and r1.iloc[i,2]>=mmd:\n",
    "        cluter.append(\"重点挽留用户\")\n",
    "    elif r1.iloc[i,0]>=rmd and r1.iloc[i,1]>=fmd and r1.iloc[i,2]<mmd:\n",
    "        cluter.append(\"一般价值用户\")\n",
    "    elif r1.iloc[i,0]<rmd and r1.iloc[i,1]>=fmd and r1.iloc[i,2]<mmd:\n",
    "        cluter.append(\"一般保持用户\")\n",
    "    elif r1.iloc[i,0]>=rmd and r1.iloc[i,1]<fmd and r1.iloc[i,2]<mmd:\n",
    "        cluter.append(\"一般发展用户\")\n",
    "    else:\n",
    "        cluter.append(\"潜在用户\")\n",
    "r1['客户分类']=cluter\n",
    "print(r1)"
   ]
  },
  {
   "cell_type": "code",
   "execution_count": 25,
   "metadata": {},
   "outputs": [
    {
     "data": {
      "text/html": [
       "<div>\n",
       "<style scoped>\n",
       "    .dataframe tbody tr th:only-of-type {\n",
       "        vertical-align: middle;\n",
       "    }\n",
       "\n",
       "    .dataframe tbody tr th {\n",
       "        vertical-align: top;\n",
       "    }\n",
       "\n",
       "    .dataframe thead th {\n",
       "        text-align: right;\n",
       "    }\n",
       "</style>\n",
       "<table border=\"1\" class=\"dataframe\">\n",
       "  <thead>\n",
       "    <tr style=\"text-align: right;\">\n",
       "      <th></th>\n",
       "      <th>Id</th>\n",
       "      <th>R</th>\n",
       "      <th>F</th>\n",
       "      <th>M</th>\n",
       "      <th>lable</th>\n",
       "    </tr>\n",
       "  </thead>\n",
       "  <tbody>\n",
       "    <tr>\n",
       "      <th>0</th>\n",
       "      <td>1</td>\n",
       "      <td>27</td>\n",
       "      <td>6</td>\n",
       "      <td>233</td>\n",
       "      <td>3</td>\n",
       "    </tr>\n",
       "    <tr>\n",
       "      <th>1</th>\n",
       "      <td>2</td>\n",
       "      <td>3</td>\n",
       "      <td>5</td>\n",
       "      <td>1507</td>\n",
       "      <td>7</td>\n",
       "    </tr>\n",
       "    <tr>\n",
       "      <th>2</th>\n",
       "      <td>3</td>\n",
       "      <td>4</td>\n",
       "      <td>16</td>\n",
       "      <td>818</td>\n",
       "      <td>0</td>\n",
       "    </tr>\n",
       "    <tr>\n",
       "      <th>3</th>\n",
       "      <td>4</td>\n",
       "      <td>3</td>\n",
       "      <td>11</td>\n",
       "      <td>233</td>\n",
       "      <td>3</td>\n",
       "    </tr>\n",
       "    <tr>\n",
       "      <th>4</th>\n",
       "      <td>5</td>\n",
       "      <td>14</td>\n",
       "      <td>7</td>\n",
       "      <td>1913</td>\n",
       "      <td>1</td>\n",
       "    </tr>\n",
       "  </tbody>\n",
       "</table>\n",
       "</div>"
      ],
      "text/plain": [
       "   Id   R   F     M  lable\n",
       "0   1  27   6   233      3\n",
       "1   2   3   5  1507      7\n",
       "2   3   4  16   818      0\n",
       "3   4   3  11   233      3\n",
       "4   5  14   7  1913      1"
      ]
     },
     "execution_count": 25,
     "metadata": {},
     "output_type": "execute_result"
    }
   ],
   "source": [
    "rfm['lable']=clf.labels_\n",
    "rfm.head()"
   ]
  },
  {
   "cell_type": "code",
   "execution_count": 28,
   "metadata": {},
   "outputs": [
    {
     "name": "stdout",
     "output_type": "stream",
     "text": [
      "<class 'pandas.core.frame.DataFrame'>\n",
      "RangeIndex: 8 entries, 0 to 7\n",
      "Data columns (total 1 columns):\n",
      " #   Column  Non-Null Count  Dtype \n",
      "---  ------  --------------  ----- \n",
      " 0   客户分类    8 non-null      object\n",
      "dtypes: object(1)\n",
      "memory usage: 192.0+ bytes\n"
     ]
    }
   ],
   "source": [
    "rr=pd.DataFrame(r1['客户分类'])\n",
    "rr.info()"
   ]
  },
  {
   "cell_type": "code",
   "execution_count": 33,
   "metadata": {},
   "outputs": [
    {
     "name": "stdout",
     "output_type": "stream",
     "text": [
      "   Id   R   F    M  lable    客户分类\n",
      "0   1  27   6  233      3  一般发展用户\n",
      "3   4   3  11  233      3  一般发展用户\n",
      "5   6  19   6  220      3  一般发展用户\n",
      "8   9  21   9  305      3  一般发展用户\n",
      "      Id   R   F     M  lable    客户分类\n",
      "0      1  27   6   233      3  一般发展用户\n",
      "1      2   3   5  1507      7  重点保持用户\n",
      "2      3   4  16   818      0  一般发展用户\n",
      "3      4   3  11   233      3  一般发展用户\n",
      "4      5  14   7  1913      1  重点保持用户\n",
      "..   ...  ..  ..   ...    ...     ...\n",
      "935  938  19   4  1163      5  一般价值用户\n",
      "936  939   9   7  1007      0  一般发展用户\n",
      "937  940  27   7  1323      5  一般价值用户\n",
      "938  941  30   4   860      0  一般发展用户\n",
      "939  942  22   1   777      0  一般发展用户\n",
      "\n",
      "[940 rows x 6 columns]\n"
     ]
    }
   ],
   "source": [
    "resut=pd.merge(rfm,pd.DataFrame(r1['客户分类']),left_on='lable',right_index=True)\n",
    "print(resut.head(4))\n",
    "resut.sort_values('Id',inplace=True)\n",
    "print(resut)"
   ]
  }
 ],
 "metadata": {
  "kernelspec": {
   "display_name": "Python 3",
   "language": "python",
   "name": "python3"
  },
  "language_info": {
   "codemirror_mode": {
    "name": "ipython",
    "version": 3
   },
   "file_extension": ".py",
   "mimetype": "text/x-python",
   "name": "python",
   "nbconvert_exporter": "python",
   "pygments_lexer": "ipython3",
   "version": "3.8.3"
  }
 },
 "nbformat": 4,
 "nbformat_minor": 4
}
