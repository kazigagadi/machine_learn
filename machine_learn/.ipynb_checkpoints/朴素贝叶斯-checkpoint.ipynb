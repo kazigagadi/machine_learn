{
 "cells": [
  {
   "cell_type": "code",
   "execution_count": 1,
   "metadata": {},
   "outputs": [],
   "source": [
    "import numpy as np\n",
    "import pandas as pd\n",
    "from sklearn.datasets import fetch_20newsgroups #新闻数据集\n",
    "from sklearn.model_selection import train_test_split #划分数据集\n",
    "from sklearn.feature_extraction.text import TfidfVectorizer #特征抽取TF-IDF\n",
    "from sklearn.naive_bayes import MultinomialNB #贝叶斯\n",
    "from sklearn.metrics import classification_report #精准率，召回率，F1评分"
   ]
  },
  {
   "cell_type": "code",
   "execution_count": 2,
   "metadata": {},
   "outputs": [],
   "source": [
    "#加载数据集\n",
    "news=fetch_20newsgroups(subset='all')\n",
    "#选取特征X与目标Y\n",
    "x=news.data\n",
    "y=news.target"
   ]
  },
  {
   "cell_type": "code",
   "execution_count": 3,
   "metadata": {},
   "outputs": [],
   "source": [
    "#划分训练集与测试集\n",
    "x_train,x_test,y_train,y_test=train_test_split(x,y,test_size=0.25,random_state=0)"
   ]
  },
  {
   "cell_type": "code",
   "execution_count": 6,
   "metadata": {},
   "outputs": [],
   "source": [
    "#特征工程：特征值化（TF-IDF特征抽取）\n",
    "tf=TfidfVectorizer()\n",
    "x_train=tf.fit_transform(x_train)\n",
    "x_test=tf.transform(x_test)"
   ]
  },
  {
   "cell_type": "code",
   "execution_count": 10,
   "metadata": {},
   "outputs": [
    {
     "data": {
      "text/plain": [
       "MultinomialNB(alpha=1.0, class_prior=None, fit_prior=True)"
      ]
     },
     "execution_count": 10,
     "metadata": {},
     "output_type": "execute_result"
    }
   ],
   "source": [
    "#使用朴素贝叶斯进行建模\n",
    "mlt=MultinomialNB(alpha=1.0)\n",
    "mlt.fit(x_train,y_train)"
   ]
  },
  {
   "cell_type": "code",
   "execution_count": 12,
   "metadata": {},
   "outputs": [
    {
     "data": {
      "text/plain": [
       "(array([ 2,  6, 10, ..., 18, 15,  7]), array([ 2,  6, 10, ..., 18, 15,  7]))"
      ]
     },
     "execution_count": 12,
     "metadata": {},
     "output_type": "execute_result"
    }
   ],
   "source": [
    "#预测\n",
    "y_predict=mlt.predict(x_test)\n",
    "y_predict,y_test"
   ]
  },
  {
   "cell_type": "code",
   "execution_count": 13,
   "metadata": {},
   "outputs": [
    {
     "data": {
      "text/plain": [
       "0.8446519524617997"
      ]
     },
     "execution_count": 13,
     "metadata": {},
     "output_type": "execute_result"
    }
   ],
   "source": [
    "#准确率\n",
    "mlt.score(x_test,y_test)"
   ]
  },
  {
   "cell_type": "code",
   "execution_count": 15,
   "metadata": {},
   "outputs": [
    {
     "name": "stdout",
     "output_type": "stream",
     "text": [
      "                          precision    recall  f1-score   support\n",
      "\n",
      "             alt.atheism       0.88      0.73      0.80       205\n",
      "           comp.graphics       0.86      0.76      0.81       245\n",
      " comp.os.ms-windows.misc       0.84      0.81      0.82       250\n",
      "comp.sys.ibm.pc.hardware       0.73      0.87      0.80       243\n",
      "   comp.sys.mac.hardware       0.94      0.82      0.88       255\n",
      "          comp.windows.x       0.91      0.85      0.88       240\n",
      "            misc.forsale       0.94      0.74      0.83       249\n",
      "               rec.autos       0.84      0.91      0.88       219\n",
      "         rec.motorcycles       0.96      0.93      0.95       246\n",
      "      rec.sport.baseball       0.91      0.97      0.94       227\n",
      "        rec.sport.hockey       0.95      0.97      0.96       287\n",
      "               sci.crypt       0.73      0.98      0.83       234\n",
      "         sci.electronics       0.90      0.76      0.82       247\n",
      "                 sci.med       0.97      0.89      0.93       250\n",
      "               sci.space       0.89      0.97      0.93       240\n",
      "  soc.religion.christian       0.55      0.97      0.70       250\n",
      "      talk.politics.guns       0.72      0.98      0.83       211\n",
      "   talk.politics.mideast       0.94      0.97      0.96       246\n",
      "      talk.politics.misc       0.99      0.56      0.72       209\n",
      "      talk.religion.misc       0.97      0.18      0.30       159\n",
      "\n",
      "             avg / total       0.87      0.84      0.84      4712\n",
      "\n"
     ]
    }
   ],
   "source": [
    "#F1评估\n",
    "print(classification_report(y_test,y_predict,target_names=news.target_names))"
   ]
  },
  {
   "cell_type": "code",
   "execution_count": 16,
   "metadata": {},
   "outputs": [],
   "source": [
    "from sklearn.metrics import confusion_matrix #生产混淆矩阵\n",
    "import matplotlib.pyplot as plt\n",
    "import matplotlib\n",
    "import seaborn as sns #画图"
   ]
  },
  {
   "cell_type": "code",
   "execution_count": 17,
   "metadata": {},
   "outputs": [
    {
     "data": {
      "image/png": "[encoded data removed]",
      "text/plain": [
       "<matplotlib.figure.Figure at 0x1e6036b4eb8>"
      ]
     },
     "metadata": {},
     "output_type": "display_data"
    }
   ],
   "source": [
    "#设置中文字体\n",
    "matplotlib.rcParams['font.family']='SimHei'\n",
    "matplotlib.rcParams['font.size']=10\n",
    "mat=confusion_matrix(y_test,y_predict) #生成混淆矩阵\n",
    "sns.heatmap(mat,square=True,annot=True,cbar=False) #annot=True加载标签，cbar=False不显示颜色标记\n",
    "plt.xlabel('预测值')\n",
    "plt.ylabel('真实值')\n",
    "plt.show()"
   ]
  },
  {
   "cell_type": "code",
   "execution_count": null,
   "metadata": {},
   "outputs": [],
   "source": []
  }
 ],
 "metadata": {
  "kernelspec": {
   "display_name": "Python 3",
   "language": "python",
   "name": "python3"
  },
  "language_info": {
   "codemirror_mode": {
    "name": "ipython",
    "version": 3
   },
   "file_extension": ".py",
   "mimetype": "text/x-python",
   "name": "python",
   "nbconvert_exporter": "python",
   "pygments_lexer": "ipython3",
   "version": "3.6.4"
  }
 },
 "nbformat": 4,
 "nbformat_minor": 2
}
