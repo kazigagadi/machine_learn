{
 "cells": [
  {
   "cell_type": "code",
   "execution_count": 1,
   "metadata": {},
   "outputs": [],
   "source": [
    "import numpy as np"
   ]
  },
  {
   "cell_type": "code",
   "execution_count": 4,
   "metadata": {},
   "outputs": [
    {
     "name": "stdout",
     "output_type": "stream",
     "text": [
      "3.59 µs ± 53.4 ns per loop (mean ± std. dev. of 7 runs, 100000 loops each)\n"
     ]
    }
   ],
   "source": [
    "a=[0,1,2,3,4]\n",
    "b=[9,8,7,6,5]\n",
    "def pysum(a,b):\n",
    "    tlist=[]\n",
    "    for i in range(len(a)):\n",
    "        tlist.append(a[i]**2+b[i]**3)\n",
    "    return tlist\n",
    "%timeit pysum(a,b)"
   ]
  },
  {
   "cell_type": "code",
   "execution_count": 3,
   "metadata": {},
   "outputs": [
    {
     "name": "stdout",
     "output_type": "stream",
     "text": [
      "2.92 µs ± 91.2 ns per loop (mean ± std. dev. of 7 runs, 100000 loops each)\n"
     ]
    }
   ],
   "source": [
    "a=np.array([0,1,2,3,4])\n",
    "b=np.array([9,8,7,6,5])\n",
    "%timeit a**2+b**3"
   ]
  },
  {
   "cell_type": "code",
   "execution_count": 18,
   "metadata": {},
   "outputs": [
    {
     "name": "stdout",
     "output_type": "stream",
     "text": [
      "[1 2 3 4]\n",
      "<class 'numpy.ndarray'>\n"
     ]
    }
   ],
   "source": [
    "a=np.array([1,2,3,4])\n",
    "print(a)\n",
    "print(type(a))"
   ]
  },
  {
   "cell_type": "code",
   "execution_count": 22,
   "metadata": {},
   "outputs": [
    {
     "name": "stdout",
     "output_type": "stream",
     "text": [
      "(2, 5)\n",
      "10\n"
     ]
    }
   ],
   "source": [
    "c=np.array([[0,1,2,3,4],[5,6,7,8,9]])\n",
    "print(c.shape)#对象的尺度（m*n）\n",
    "print(c.size)"
   ]
  },
  {
   "cell_type": "code",
   "execution_count": 6,
   "metadata": {},
   "outputs": [
    {
     "name": "stdout",
     "output_type": "stream",
     "text": [
      "[[[1. 1. 1. 1.]\n",
      "  [1. 1. 1. 1.]\n",
      "  [1. 1. 1. 1.]]\n",
      "\n",
      " [[1. 1. 1. 1.]\n",
      "  [1. 1. 1. 1.]\n",
      "  [1. 1. 1. 1.]]]\n",
      "[[1. 0. 0. 0. 0.]\n",
      " [0. 1. 0. 0. 0.]\n",
      " [0. 0. 1. 0. 0.]\n",
      " [0. 0. 0. 1. 0.]\n",
      " [0. 0. 0. 0. 1.]]\n"
     ]
    }
   ],
   "source": [
    "# print(np.zeros((2,3,3)))\n",
    "# print(np.ones((2,3,4)))\n",
    "print(np.eye(5))#单位矩阵"
   ]
  },
  {
   "cell_type": "code",
   "execution_count": 49,
   "metadata": {},
   "outputs": [
    {
     "name": "stdout",
     "output_type": "stream",
     "text": [
      "生成指定形状的0-1之间随机数组\n",
      "[[0.28293242 0.15697794]\n",
      " [0.43980638 0.5488846 ]]\n",
      "生成指定形状的随机数组\n",
      "[[1 0]\n",
      " [2 1]]\n",
      "[[0.28780803 2.53807482]\n",
      " [2.62522902 1.60519689]]\n",
      "4\n",
      "['a', 'd', 'c', 'b']\n"
     ]
    }
   ],
   "source": [
    "print(\"生成指定形状的0-1之间随机数组\")\n",
    "print(np.random.random((2,2)))\n",
    "print(\"生成指定形状的随机数组\")\n",
    "print(np.random.randint(0,3,(2,2)))\n",
    "print(np.random.uniform(0,3,(2,2)))\n",
    "print(np.random.choice(a))\n",
    "l=['a','b','c','d']\n",
    "np.random.shuffle(l)\n",
    "print(l)"
   ]
  },
  {
   "cell_type": "code",
   "execution_count": 54,
   "metadata": {},
   "outputs": [
    {
     "name": "stdout",
     "output_type": "stream",
     "text": [
      "[[ 1.53739588  0.11521509 -1.79394564]\n",
      " [ 1.21970728 -1.27589493  1.40671151]\n",
      " [-0.98168914  0.40710985  0.43163451]]\n",
      "[[-0.24361432  0.22773791 -0.28357626]\n",
      " [-0.38578624  0.55939357 -0.52773765]\n",
      " [-0.63471153  0.48028531  0.57921656]]\n"
     ]
    }
   ],
   "source": [
    "print(np.random.normal(0,1,(3,3)))\n",
    "print(np.random.randn(3,3))"
   ]
  },
  {
   "cell_type": "code",
   "execution_count": 7,
   "metadata": {},
   "outputs": [
    {
     "name": "stdout",
     "output_type": "stream",
     "text": [
      "[ 0.   2.5  5.   7.5 10. ]\n",
      "[0. 2. 4. 6. 8.]\n",
      "[[0 1 2 3 4]\n",
      " [5 6 7 8 9]]\n"
     ]
    }
   ],
   "source": [
    "# print(np.arange(1,10,2))\n",
    "print(np.linspace(0,10,5))#等距离分布\n",
    "print(np.linspace(0,10,5,endpoint=False))#不包含末尾元素\n",
    "print(np.arange(10).reshape(2,5)) #reshape修改元素形状\n",
    "# print(np.arange(10).reshape(5,2))\n",
    "# print(np.arange(100).reshape(10,-1))\n",
    "# print(np.arange(100).reshape(-1,4))"
   ]
  },
  {
   "cell_type": "code",
   "execution_count": 67,
   "metadata": {},
   "outputs": [
    {
     "name": "stdout",
     "output_type": "stream",
     "text": [
      "数组的索引\n",
      "[0 1 2 3 4 5 6 7 8 9]\n",
      "0 1\n",
      "9 8\n",
      "[0 1]\n",
      "[0 1 2 3 4 5 6 7 8 9]\n"
     ]
    }
   ],
   "source": [
    "# 数组的索引和切片\n",
    "print(\"数组的索引\")\n",
    "a=np.arange(10)\n",
    "print(a)\n",
    "print(a[0],a[1])\n",
    "print(a[-1],a[-2])\n",
    "print(a[0:2])\n",
    "print(a[0:20])"
   ]
  },
  {
   "cell_type": "code",
   "execution_count": 73,
   "metadata": {},
   "outputs": [
    {
     "name": "stdout",
     "output_type": "stream",
     "text": [
      "[[[ 0  1  2  3]\n",
      "  [ 4  5  6  7]\n",
      "  [ 8  9 10 11]]\n",
      "\n",
      " [[12 13 14 15]\n",
      "  [16 17 18 19]\n",
      "  [20 21 22 23]]]\n",
      "3 (2, 3, 4)\n",
      "23\n",
      "[[13 14]\n",
      " [17 18]]\n",
      "[[12 13 14 15]\n",
      " [16 17 18 19]]\n"
     ]
    }
   ],
   "source": [
    "# 多维数组的索引切片\n",
    "a=np.arange(24).reshape(2,3,4)\n",
    "print(a)\n",
    "print(a.ndim,a.shape)\n",
    "print(a[1,2,3])\n",
    "print(a[1,0:2,1:3])\n",
    "print(a[1,0:2,:])"
   ]
  },
  {
   "cell_type": "code",
   "execution_count": 77,
   "metadata": {},
   "outputs": [
    {
     "name": "stdout",
     "output_type": "stream",
     "text": [
      "[[ 0  1  2  3  4  5  6  7]\n",
      " [ 8  9 10 11 12 13 14 15]\n",
      " [16 17 18 19 20 21 22 23]\n",
      " [24 25 26 27 28 29 30 31]]\n",
      "------------------------------\n",
      "[12 13 15]\n",
      "[ 1 10 20 29 15]\n"
     ]
    }
   ],
   "source": [
    "arr=np.arange(32).reshape(4,8)\n",
    "print(arr)\n",
    "print(\"-\"*30)\n",
    "print(arr[1,[4,5,7]])\n",
    "print(arr[[0,1,2,3,1],[1,2,4,5,7]])"
   ]
  },
  {
   "cell_type": "code",
   "execution_count": 82,
   "metadata": {},
   "outputs": [
    {
     "name": "stdout",
     "output_type": "stream",
     "text": [
      "int32\n",
      "float64\n",
      "[ 0  1  2  3  4  5  6  7  8  9 10 11]\n",
      "[ 0.  1.  2.  3.  4.  5.  6.  7.  8.  9. 10. 11.]\n"
     ]
    }
   ],
   "source": [
    "# 数据类型转换\n",
    "a=np.arange(12)\n",
    "print(a.dtype)\n",
    "b=a.astype(np.float)\n",
    "print(b.dtype)\n",
    "print(a)\n",
    "print(b)"
   ]
  },
  {
   "cell_type": "code",
   "execution_count": 84,
   "metadata": {},
   "outputs": [
    {
     "name": "stdout",
     "output_type": "stream",
     "text": [
      "[[-12  11  10   9]\n",
      " [  8   7   6   5]\n",
      " [  4   3   2   1]]\n",
      "[[-12  11]\n",
      " [  8   7]]\n",
      "[[-12  11  10   9]\n",
      " [  8   7   6   5]\n",
      " [  4   3   2   1]]\n",
      "[[-12  11]\n",
      " [  8 100]]\n"
     ]
    }
   ],
   "source": [
    "# 数组元素的修改\n",
    "a=np.arange(12,0,-1).reshape(3,4)\n",
    "a[0,0]=-12\n",
    "b=a[0:2,0:2]#得到原数组的视图\n",
    "b[0,0]=-12\n",
    "print(a)\n",
    "print(b)\n",
    "c=a[0:2,0:2].copy()\n",
    "c[-1,-1]=100\n",
    "print(a)\n",
    "print(c)"
   ]
  },
  {
   "cell_type": "code",
   "execution_count": 14,
   "metadata": {},
   "outputs": [
    {
     "name": "stdout",
     "output_type": "stream",
     "text": [
      "[[ 0  1]\n",
      " [ 2  3]\n",
      " [ 9 10]\n",
      " [11 12]]\n",
      "[[ 0  1  9 10]\n",
      " [ 2  3 11 12]]\n",
      "[[ 0  1]\n",
      " [ 2  3]\n",
      " [ 9 10]\n",
      " [11 12]]\n",
      "[[0 1 0 1]\n",
      " [2 3 2 3]]\n"
     ]
    }
   ],
   "source": [
    "# 数组拼接\n",
    "# x=np.arange(1,4)\n",
    "# y=np.arange(4,7)\n",
    "# print(x)\n",
    "# print(y)\n",
    "# print(np.concatenate([x,y]))\n",
    "x=np.arange(4).reshape(2,-1)\n",
    "y=np.arange(9,13).reshape(2,2)\n",
    "z=np.arange(4).reshape(2,2)\n",
    "# print(x)\n",
    "# print(y)\n",
    "print(np.concatenate([x,y],axis=0))  #行方向拼接需要保证其他轴相同\n",
    "print(np.concatenate([x,y],axis=1))    #列方向拼接需要保证其他轴相同\n",
    "print(np.vstack([x,y]))  #沿第一个轴方向拼接\n",
    "print(np.hstack([x,z]))  #沿第二个轴方向拼接"
   ]
  },
  {
   "cell_type": "code",
   "execution_count": 15,
   "metadata": {},
   "outputs": [
    {
     "name": "stdout",
     "output_type": "stream",
     "text": [
      "(2, 3, 4, 2)\n",
      "(2, 3, 4, 2)\n",
      "(4, 3, 4, 2)\n",
      "(2, 6, 4, 2)\n",
      "(2, 3, 8, 2)\n"
     ]
    }
   ],
   "source": [
    "x=np.arange(48).reshape(2,3,4,2)\n",
    "y=np.arange(-48,0).reshape(2,3,4,2)\n",
    "print(x.shape)\n",
    "print(y.shape)\n",
    "print(np.concatenate([x,y],axis=0).shape)\n",
    "print(np.concatenate([x,y],axis=1).shape)\n",
    "print(np.concatenate([x,y],axis=2).shape)"
   ]
  },
  {
   "cell_type": "code",
   "execution_count": 102,
   "metadata": {},
   "outputs": [
    {
     "name": "stdout",
     "output_type": "stream",
     "text": [
      "[10 11 12 13 14 15 16 17 18 19]\n",
      "[array([10, 11, 12]), array([13, 14, 15]), array([16, 17, 18, 19])]\n",
      "[[ 0  1  2  3  4]\n",
      " [ 5  6  7  8  9]\n",
      " [10 11 12 13 14]\n",
      " [15 16 17 18 19]]\n",
      "vsplit沿第一个轴进行分割 [array([[0, 1, 2, 3, 4]]), array([[ 5,  6,  7,  8,  9],\n",
      "       [10, 11, 12, 13, 14]]), array([[15, 16, 17, 18, 19]])]\n",
      "hsplit沿第一个轴进行分割 [array([[ 0],\n",
      "       [ 5],\n",
      "       [10],\n",
      "       [15]]), array([[ 1,  2],\n",
      "       [ 6,  7],\n",
      "       [11, 12],\n",
      "       [16, 17]]), array([[ 3,  4],\n",
      "       [ 8,  9],\n",
      "       [13, 14],\n",
      "       [18, 19]])]\n"
     ]
    }
   ],
   "source": [
    "# 数组的分割\n",
    "x=np.arange(10,20)\n",
    "print(x)\n",
    "print(np.split(x,[3,6]))\n",
    "x=np.arange(20).reshape(4,5)\n",
    "print(x)\n",
    "print(\"vsplit沿第一个轴进行分割\",np.vsplit(x,[1,3]))\n",
    "print(\"hsplit沿第一个轴进行分割\",np.hsplit(x,[1,3]))"
   ]
  },
  {
   "cell_type": "code",
   "execution_count": 105,
   "metadata": {},
   "outputs": [
    {
     "name": "stdout",
     "output_type": "stream",
     "text": [
      "[[0 1 2]\n",
      " [3 4 5]]\n",
      "[[1 2 3]\n",
      " [4 5 6]]\n",
      "[[ 0  2  4]\n",
      " [ 6  8 10]]\n"
     ]
    }
   ],
   "source": [
    "# 数组的标量计算(广播计算)\n",
    "a=np.arange(6).reshape(2,3)\n",
    "print(a)\n",
    "print(a+1)\n",
    "print(a*2)"
   ]
  },
  {
   "cell_type": "code",
   "execution_count": 106,
   "metadata": {},
   "outputs": [
    {
     "data": {
      "text/plain": [
       "array([[ 0,  2,  4],\n",
       "       [ 6,  8, 10]])"
      ]
     },
     "execution_count": 106,
     "metadata": {},
     "output_type": "execute_result"
    }
   ],
   "source": [
    "# 数组的计算\n",
    "a=np.arange(6).reshape(2,3)\n",
    "b=np.arange(6).reshape(2,3)\n",
    "a+b"
   ]
  },
  {
   "cell_type": "code",
   "execution_count": 110,
   "metadata": {},
   "outputs": [
    {
     "name": "stdout",
     "output_type": "stream",
     "text": [
      "[[34 37 54 57 57]\n",
      " [93 -1 73 11 26]]\n",
      "441\n",
      "[127  36 127  68  83]\n",
      "[239 202]\n",
      "[47.8 40.4]\n",
      "[54. 26.]\n"
     ]
    }
   ],
   "source": [
    "# 一元函数\n",
    "np.random.seed(0)\n",
    "a=np.random.randint(-10,100,size=(2,5))\n",
    "print(a)\n",
    "print(np.sum(a))\n",
    "print(np.sum(a,axis=0))\n",
    "print(np.sum(a,axis=1))\n",
    "print(np.mean(a,axis=1))\n",
    "print(np.median(a,axis=1))"
   ]
  },
  {
   "cell_type": "code",
   "execution_count": 123,
   "metadata": {},
   "outputs": [
    {
     "name": "stdout",
     "output_type": "stream",
     "text": [
      "-1281166184\n",
      "[[5.83095189 6.08276253 7.34846923 7.54983444 7.54983444]\n",
      " [9.64365076 1.         8.54400375 3.31662479 5.09901951]]\n",
      "[[1156 1369 2916 3249 3249]\n",
      " [8649    1 5329  121  676]]\n",
      "[[2. 2. 3.]\n",
      " [1. 3. 2.]\n",
      " [3. 2. 2.]]\n"
     ]
    }
   ],
   "source": [
    "print(np.prod(a))\n",
    "print(np.sqrt(np.abs(a)))\n",
    "print(np.square(a))\n",
    "b=np.random.uniform(1,3,(3,3))\n",
    "print(np.rint(b))"
   ]
  },
  {
   "cell_type": "code",
   "execution_count": 121,
   "metadata": {},
   "outputs": [
    {
     "name": "stdout",
     "output_type": "stream",
     "text": [
      "0.8414709848078965\n"
     ]
    }
   ],
   "source": [
    "# 数学函数\n",
    "# print(np.log(np.abs(a)))\n",
    "# print(np.log2(np.abs(a)))\n",
    "# print(np.exp(np.abs(a)))\n",
    "# print(np.power(3,a))\n",
    "print(np.sin(1))"
   ]
  },
  {
   "cell_type": "code",
   "execution_count": 127,
   "metadata": {},
   "outputs": [
    {
     "name": "stdout",
     "output_type": "stream",
     "text": [
      "[0 1 2 3 4 5 6 7 8 9]\n",
      "[ 5  6  7  8  9 10 11 12 13 14]\n",
      "[False False False False False  True  True  True  True  True]\n"
     ]
    }
   ],
   "source": [
    "a=np.arange(10)\n",
    "b=np.arange(5,15)\n",
    "print(a);print(b)\n",
    "print(np.isin(a,b))"
   ]
  },
  {
   "cell_type": "code",
   "execution_count": 129,
   "metadata": {},
   "outputs": [
    {
     "name": "stdout",
     "output_type": "stream",
     "text": [
      "[1 1 5 6 6 7 9 5 2 5]\n",
      "1.51 µs ± 9.86 ns per loop (mean ± std. dev. of 7 runs, 1000000 loops each)\n"
     ]
    }
   ],
   "source": [
    "# 效率测试\n",
    "a=np.random.randint(1,10,size=10)\n",
    "print(a)\n",
    "%timeit a**1000"
   ]
  },
  {
   "cell_type": "code",
   "execution_count": 132,
   "metadata": {},
   "outputs": [
    {
     "name": "stdout",
     "output_type": "stream",
     "text": [
      "[[ 0  1  2  3]\n",
      " [ 4  5  6  7]\n",
      " [ 8  9 10 11]]\n",
      "[[ 0  4  8]\n",
      " [ 1  5  9]\n",
      " [ 2  6 10]\n",
      " [ 3  7 11]]\n"
     ]
    }
   ],
   "source": [
    "# 转置\n",
    "a=np.arange(12).reshape(3,4)\n",
    "print(a)\n",
    "print(a.T)"
   ]
  }
 ],
 "metadata": {
  "kernelspec": {
   "display_name": "Python 3",
   "language": "python",
   "name": "python3"
  },
  "language_info": {
   "codemirror_mode": {
    "name": "ipython",
    "version": 3
   },
   "file_extension": ".py",
   "mimetype": "text/x-python",
   "name": "python",
   "nbconvert_exporter": "python",
   "pygments_lexer": "ipython3",
   "version": "3.8.3"
  }
 },
 "nbformat": 4,
 "nbformat_minor": 4
}
