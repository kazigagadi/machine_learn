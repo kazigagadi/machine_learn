{
 "cells": [
  {
   "cell_type": "code",
   "execution_count": 2,
   "metadata": {},
   "outputs": [],
   "source": [
    "import numpy as np\n",
    "import pandas as pd"
   ]
  },
  {
   "cell_type": "code",
   "execution_count": 7,
   "metadata": {},
   "outputs": [
    {
     "name": "stdout",
     "output_type": "stream",
     "text": [
      "--------------------------------------------------\n",
      "--------------------------------------------------\n"
     ]
    }
   ],
   "source": [
    "# 数据的拼接\n",
    "ser1=pd.Series(['A','B','C'],index=[1,2,3])\n",
    "ser2=pd.Series(['D','E','F'],index=[4,5,6])\n",
    "# print(ser1);print(ser2)\n",
    "print(\"-\"*50)\n",
    "# print(pd.concat([ser1,ser2]))\n"
   ]
  },
  {
   "cell_type": "code",
   "execution_count": 12,
   "metadata": {},
   "outputs": [
    {
     "name": "stdout",
     "output_type": "stream",
     "text": [
      "--------------------------------------------------\n",
      "    a   b   c   d   e\n",
      "0   0   1   2   3   4\n",
      "1   5   6   7   8   9\n",
      "2  10  11  12  13  14\n",
      "3  15  16  17  18  19\n",
      "0   0   1   2   3   4\n",
      "1   5   6   7   8   9\n",
      "2  10  11  12  13  14\n",
      "3  15  16  17  18  19\n",
      "    a   b   c   d   e   a   b   c   d   e\n",
      "0   0   1   2   3   4   0   1   2   3   4\n",
      "1   5   6   7   8   9   5   6   7   8   9\n",
      "2  10  11  12  13  14  10  11  12  13  14\n",
      "3  15  16  17  18  19  15  16  17  18  19\n"
     ]
    }
   ],
   "source": [
    "df1=pd.DataFrame(np.arange(20).reshape(4,5),columns=list(\"abcde\"))\n",
    "df2=pd.DataFrame(np.arange(20).reshape(4,5),columns=list(\"abcde\"))\n",
    "# print(df1);print(df2)\n",
    "print(\"-\"*50)\n",
    "print(pd.concat([df1,df2],axis=0))\n",
    "print(pd.concat([df1,df2],axis=1))"
   ]
  },
  {
   "cell_type": "code",
   "execution_count": 17,
   "metadata": {},
   "outputs": [],
   "source": [
    "# df1=pd.DataFrame(np.arange(20).reshape(4,5),columns=list(\"abcde\"))\n",
    "# df2=pd.DataFrame(np.arange(20).reshape(4,5),columns=list(\"cdefg\"))\n",
    "# # print(df1);print(df2)\n",
    "# print(\"-\"*50)\n",
    "# print(pd.concat([df1,df2],axis=0))\n",
    "# # print(pd.concat([df1,df2],axis=1))\n",
    "# print(pd.concat([df1,df2],axis=0,join='inner'))# 内连接,只保留相同部分\n",
    "# print(pd.concat([df1,df2],axis=0,ignore_index=True))# 自动排列索引"
   ]
  },
  {
   "cell_type": "code",
   "execution_count": 28,
   "metadata": {},
   "outputs": [],
   "source": [
    "# # 数据连接merge\n",
    "# df1=pd.DataFrame({'cid':['001','002','003','004','005'],\n",
    "#                  'cname':['math','english','Python','R','excel']})\n",
    "# df2=pd.DataFrame({'sname':['小李','小李','小王','小东','小东','小黑','小灭'],\n",
    "#                  'cid':['001','005','004','005','004','002','006']})\n",
    "# print(df1);print(df2);\n",
    "# # print(pd.merge(df1,df2,on='cid'))\n",
    "# print('{0}内连接{0}'.format(\"-\"*30))\n",
    "# print(pd.merge(df1,df2,on='cid',how='inner'))\n",
    "# print('{0}外连接{0}'.format(\"-\"*30))\n",
    "# print(pd.merge(df1,df2,on='cid',how='outer'))\n",
    "# print('{0}左连接{0}'.format(\"-\"*30))\n",
    "# print(pd.merge(df1,df2,on='cid',how='left'))\n",
    "# print('{0}右连接{0}'.format(\"-\"*30))\n",
    "# print(pd.merge(df1,df2,on='cid',how='right'))"
   ]
  },
  {
   "cell_type": "code",
   "execution_count": 37,
   "metadata": {},
   "outputs": [],
   "source": [
    "df1=pd.DataFrame({'cid':['001','002','003','004','005'],\n",
    "                 'cname':['math','english','Python','R','excel']})\n",
    "df2=pd.DataFrame({'sname':['小李','小李','小王','小东','小东','小黑','小灭'],\n",
    "                 'classid':['001','005','004','005','004','002','006']})\n",
    "# print(df1);print(df2);\n",
    "# print(pd.merge(df1,df2,on='cid'))\n",
    "# print('{0}内连接{0}'.format(\"-\"*30))\n",
    "# print(pd.merge(df1,df2,left_on='cid',right_on='classid',how='inner'))\n",
    "# df1=df1.set_index(\"cid\")\n",
    "# print(df1);print(df2)\n",
    "# print(pd.merge(df1,df2,left_index=True,right_on='classid',how='inner'))"
   ]
  },
  {
   "cell_type": "code",
   "execution_count": 50,
   "metadata": {
    "scrolled": true
   },
   "outputs": [
    {
     "name": "stdout",
     "output_type": "stream",
     "text": [
      "   A  B  C\n",
      "0  a  1  1\n",
      "1  b  1  1\n",
      "2  c  2  2\n",
      "3  c  2  3\n",
      "4  c  2  2\n",
      "5  b  1  1\n",
      "6  b  1  1\n",
      "None\n",
      "   A  B  C\n",
      "0  a  1  1\n",
      "1  b  1  1\n",
      "2  c  2  2\n"
     ]
    }
   ],
   "source": [
    "# 出重\n",
    "data = pd.DataFrame({'A':['a','b','c','c','c','b','b'],'B':[1,1,2,2,2,1,1],'C':[1,1,2,3,2,1,1]})\n",
    "print(data)\n",
    "# print('{0}删除除第一次出现以外的重复数据{0}'.format('-'*10))\n",
    "# print(data.drop_duplicates(keep='first'))\n",
    "# # print('{0}删除除最后一次出现以外的重复数据{0}'.format('-'*10))\n",
    "# # print(data.drop_duplicates(keep='last'))\n",
    "# print('{0}根据指定列删除重复数据{0}'.format('-'*10))\n",
    "# print(data.drop_duplicates(subset=[\"A\"],keep='first'))\n",
    "# print(data.drop_duplicates(subset=[\"A\",\"C\"],keep='first'))\n",
    "# inplace改变原对象\n",
    "# print(data.drop_duplicates(subset=[\"A\"],keep='first',inplace=True))\n",
    "# print(data)"
   ]
  },
  {
   "cell_type": "code",
   "execution_count": 62,
   "metadata": {},
   "outputs": [
    {
     "name": "stdout",
     "output_type": "stream",
     "text": [
      "  sid  money  age\n",
      "0   A      0   28\n",
      "1   B      1   20\n",
      "2   C      2   27\n",
      "3   A      3   28\n",
      "4   B      4   25\n",
      "5   C      5   29\n"
     ]
    }
   ],
   "source": [
    "# groupby 分组 应用函数 聚合\n",
    "df=pd.DataFrame({'sid':list('ABCABC'),'money':range(6),'age':np.random.randint(20,30,6)})\n",
    "print(df)\n",
    "# print(df.groupby('sid').sum())\n",
    "# print(df.groupby('sid')['money'].sum())\n",
    "# print(df['money'].groupby(df['sid']).sum())\n",
    "# 求每个sid的平均年龄\n",
    "# print(df.groupby('sid')['age'].mean())"
   ]
  },
  {
   "cell_type": "code",
   "execution_count": 7,
   "metadata": {},
   "outputs": [
    {
     "name": "stdout",
     "output_type": "stream",
     "text": [
      "   PassengerId  Survived  Pclass  \\\n",
      "0            1         0       3   \n",
      "1            2         1       1   \n",
      "2            3         1       3   \n",
      "3            4         1       1   \n",
      "4            5         0       3   \n",
      "5            6         0       3   \n",
      "6            7         0       1   \n",
      "7            8         0       3   \n",
      "8            9         1       3   \n",
      "9           10         1       2   \n",
      "\n",
      "                                                Name     Sex   Age  SibSp  \\\n",
      "0                            Braund, Mr. Owen Harris    male  22.0      1   \n",
      "1  Cumings, Mrs. John Bradley (Florence Briggs Th...  female  38.0      1   \n",
      "2                             Heikkinen, Miss. Laina  female  26.0      0   \n",
      "3       Futrelle, Mrs. Jacques Heath (Lily May Peel)  female  35.0      1   \n",
      "4                           Allen, Mr. William Henry    male  35.0      0   \n",
      "5                                   Moran, Mr. James    male   NaN      0   \n",
      "6                            McCarthy, Mr. Timothy J    male  54.0      0   \n",
      "7                     Palsson, Master. Gosta Leonard    male   2.0      3   \n",
      "8  Johnson, Mrs. Oscar W (Elisabeth Vilhelmina Berg)  female  27.0      0   \n",
      "9                Nasser, Mrs. Nicholas (Adele Achem)  female  14.0      1   \n",
      "\n",
      "   Parch            Ticket     Fare Cabin Embarked  \n",
      "0      0         A/5 21171   7.2500   NaN        S  \n",
      "1      0          PC 17599  71.2833   C85        C  \n",
      "2      0  STON/O2. 3101282   7.9250   NaN        S  \n",
      "3      0            113803  53.1000  C123        S  \n",
      "4      0            373450   8.0500   NaN        S  \n",
      "5      0            330877   8.4583   NaN        Q  \n",
      "6      0             17463  51.8625   E46        S  \n",
      "7      1            349909  21.0750   NaN        S  \n",
      "8      2            347742  11.1333   NaN        S  \n",
      "9      0            237736  30.0708   NaN        C  \n"
     ]
    }
   ],
   "source": [
    "# 求男女分别生还人数是多少\n",
    "f=open(r\"C:\\Users\\ibf\\Desktop\\python数据分析课件整理\\数据可视化\\数据\\titanic_train.csv\")\n",
    "titan=pd.read_csv(f)\n",
    "print(titan.head(10))\n",
    "f.close()"
   ]
  },
  {
   "cell_type": "code",
   "execution_count": 70,
   "metadata": {},
   "outputs": [
    {
     "name": "stdout",
     "output_type": "stream",
     "text": [
      "Sex\n",
      "female    0.742038\n",
      "male      0.188908\n",
      "Name: Survived, dtype: float64\n",
      "Sex\n",
      "female    0.742038\n",
      "male      0.188908\n",
      "Name: Survived, dtype: float64\n"
     ]
    }
   ],
   "source": [
    "# print(titan.groupby(\"Sex\")['Survived'].sum())\n",
    "# print(titan.groupby(\"Sex\")['Survived'].count())\n",
    "rate=titan.groupby(\"Sex\")['Survived'].sum()/titan.groupby(\"Sex\")['Survived'].count()\n",
    "print(rate)\n",
    "print(titan.groupby(\"Sex\")['Survived'].mean())# 0 0 1 1 "
   ]
  },
  {
   "cell_type": "code",
   "execution_count": 72,
   "metadata": {},
   "outputs": [
    {
     "data": {
      "text/html": [
       "<div>\n",
       "<style scoped>\n",
       "    .dataframe tbody tr th:only-of-type {\n",
       "        vertical-align: middle;\n",
       "    }\n",
       "\n",
       "    .dataframe tbody tr th {\n",
       "        vertical-align: top;\n",
       "    }\n",
       "\n",
       "    .dataframe thead th {\n",
       "        text-align: right;\n",
       "    }\n",
       "</style>\n",
       "<table border=\"1\" class=\"dataframe\">\n",
       "  <thead>\n",
       "    <tr style=\"text-align: right;\">\n",
       "      <th></th>\n",
       "      <th></th>\n",
       "      <th>PassengerId</th>\n",
       "      <th>Survived</th>\n",
       "      <th>Age</th>\n",
       "      <th>SibSp</th>\n",
       "      <th>Parch</th>\n",
       "      <th>Fare</th>\n",
       "    </tr>\n",
       "    <tr>\n",
       "      <th>Sex</th>\n",
       "      <th>Pclass</th>\n",
       "      <th></th>\n",
       "      <th></th>\n",
       "      <th></th>\n",
       "      <th></th>\n",
       "      <th></th>\n",
       "      <th></th>\n",
       "    </tr>\n",
       "  </thead>\n",
       "  <tbody>\n",
       "    <tr>\n",
       "      <th rowspan=\"3\" valign=\"top\">female</th>\n",
       "      <th>1</th>\n",
       "      <td>469.212766</td>\n",
       "      <td>0.968085</td>\n",
       "      <td>34.611765</td>\n",
       "      <td>0.553191</td>\n",
       "      <td>0.457447</td>\n",
       "      <td>106.125798</td>\n",
       "    </tr>\n",
       "    <tr>\n",
       "      <th>2</th>\n",
       "      <td>443.105263</td>\n",
       "      <td>0.921053</td>\n",
       "      <td>28.722973</td>\n",
       "      <td>0.486842</td>\n",
       "      <td>0.605263</td>\n",
       "      <td>21.970121</td>\n",
       "    </tr>\n",
       "    <tr>\n",
       "      <th>3</th>\n",
       "      <td>399.729167</td>\n",
       "      <td>0.500000</td>\n",
       "      <td>21.750000</td>\n",
       "      <td>0.895833</td>\n",
       "      <td>0.798611</td>\n",
       "      <td>16.118810</td>\n",
       "    </tr>\n",
       "    <tr>\n",
       "      <th rowspan=\"3\" valign=\"top\">male</th>\n",
       "      <th>1</th>\n",
       "      <td>455.729508</td>\n",
       "      <td>0.368852</td>\n",
       "      <td>41.281386</td>\n",
       "      <td>0.311475</td>\n",
       "      <td>0.278689</td>\n",
       "      <td>67.226127</td>\n",
       "    </tr>\n",
       "    <tr>\n",
       "      <th>2</th>\n",
       "      <td>447.962963</td>\n",
       "      <td>0.157407</td>\n",
       "      <td>30.740707</td>\n",
       "      <td>0.342593</td>\n",
       "      <td>0.222222</td>\n",
       "      <td>19.741782</td>\n",
       "    </tr>\n",
       "    <tr>\n",
       "      <th>3</th>\n",
       "      <td>455.515850</td>\n",
       "      <td>0.135447</td>\n",
       "      <td>26.507589</td>\n",
       "      <td>0.498559</td>\n",
       "      <td>0.224784</td>\n",
       "      <td>12.661633</td>\n",
       "    </tr>\n",
       "  </tbody>\n",
       "</table>\n",
       "</div>"
      ],
      "text/plain": [
       "               PassengerId  Survived        Age     SibSp     Parch  \\\n",
       "Sex    Pclass                                                         \n",
       "female 1        469.212766  0.968085  34.611765  0.553191  0.457447   \n",
       "       2        443.105263  0.921053  28.722973  0.486842  0.605263   \n",
       "       3        399.729167  0.500000  21.750000  0.895833  0.798611   \n",
       "male   1        455.729508  0.368852  41.281386  0.311475  0.278689   \n",
       "       2        447.962963  0.157407  30.740707  0.342593  0.222222   \n",
       "       3        455.515850  0.135447  26.507589  0.498559  0.224784   \n",
       "\n",
       "                     Fare  \n",
       "Sex    Pclass              \n",
       "female 1       106.125798  \n",
       "       2        21.970121  \n",
       "       3        16.118810  \n",
       "male   1        67.226127  \n",
       "       2        19.741782  \n",
       "       3        12.661633  "
      ]
     },
     "execution_count": 72,
     "metadata": {},
     "output_type": "execute_result"
    }
   ],
   "source": [
    "titan.groupby([\"Sex\",\"Pclass\"])['Survived'].mean()\n",
    "titan.groupby([\"Sex\",\"Pclass\"]).mean()"
   ]
  },
  {
   "cell_type": "code",
   "execution_count": 90,
   "metadata": {},
   "outputs": [
    {
     "name": "stdout",
     "output_type": "stream",
     "text": [
      "Pclass              1         2         3\n",
      "Sex    年龄划分                              \n",
      "female 小     0.931034  0.933333  0.514706\n",
      "       中     0.978723  0.926829  0.333333\n",
      "       NaN   1.000000  0.666667  1.000000\n",
      "male   小     0.533333  0.270270  0.157143\n",
      "       中     0.453125  0.075472  0.149533\n",
      "       NaN   0.136364  0.111111  0.000000\n",
      "Pclass        1   2   3\n",
      "Sex    年龄划分            \n",
      "female 小     27  28  35\n",
      "       中     46  38  11\n",
      "       NaN    9   2   1\n",
      "male   小      8  10  22\n",
      "       中     29   4  16\n",
      "       NaN    3   1   0\n"
     ]
    }
   ],
   "source": [
    "# 透视表\n",
    "print(titan.pivot_table(\"Survived\",index=[\"Sex\",\"年龄划分\"],columns=\"Pclass\",aggfunc=\"mean\"))\n",
    "print(titan.pivot_table(\"Survived\",index=[\"Sex\",\"年龄划分\"],columns=\"Pclass\",aggfunc=\"sum\"))"
   ]
  },
  {
   "cell_type": "code",
   "execution_count": 87,
   "metadata": {},
   "outputs": [
    {
     "name": "stdout",
     "output_type": "stream",
     "text": [
      "(16.336, 32.252]    346\n",
      "(32.252, 48.168]    188\n",
      "(0.34, 16.336]      100\n",
      "(48.168, 64.084]     69\n",
      "(64.084, 80.0]       11\n",
      "Name: Age, dtype: int64\n"
     ]
    },
    {
     "data": {
      "text/plain": [
       "b    346\n",
       "c    188\n",
       "a    100\n",
       "d     69\n",
       "e     11\n",
       "Name: Age, dtype: int64"
      ]
     },
     "execution_count": 87,
     "metadata": {},
     "output_type": "execute_result"
    }
   ],
   "source": [
    "# 对数据进行分组\n",
    "# titan['Age']\n",
    "# print(titan['Sex'])\n",
    "# print(titan['Sex'].value_counts())\n",
    "# pct=pd.cut(titan['Age'],5)# 按年龄进行等距划分\n",
    "# print(pct.value_counts())\n",
    "# pct=pd.cut(titan['Age'],5,labels=list('abcde'))# 按年龄进行等距划分\n",
    "# pct.value_counts()"
   ]
  },
  {
   "cell_type": "code",
   "execution_count": 97,
   "metadata": {},
   "outputs": [],
   "source": []
  },
  {
   "cell_type": "code",
   "execution_count": 106,
   "metadata": {},
   "outputs": [],
   "source": [
    "# 缺失值处理\n",
    "# index=titan['Age'].isna()\n",
    "# titan.loc[index,'Age']=np.mean(titan['Age'])\n",
    "# titan"
   ]
  },
  {
   "cell_type": "code",
   "execution_count": 108,
   "metadata": {},
   "outputs": [],
   "source": [
    "# titan['年龄划分']=pd.cut(titan['Age'],3,labels=['小','中','老'])\n",
    "# titan['年龄划分']"
   ]
  },
  {
   "cell_type": "code",
   "execution_count": 109,
   "metadata": {},
   "outputs": [
    {
     "name": "stdout",
     "output_type": "stream",
     "text": [
      "Pclass              1         2         3\n",
      "Sex    年龄划分                              \n",
      "female 小     0.931034  0.933333  0.514706\n",
      "       中     0.982143  0.930233  0.480000\n",
      "       老     1.000000  0.666667  1.000000\n",
      "male   小     0.533333  0.270270  0.157143\n",
      "       中     0.400000  0.096774  0.124378\n",
      "       老     0.136364  0.111111  0.000000\n",
      "Pclass        1   2   3\n",
      "Sex    年龄划分            \n",
      "female 小     27  28  35\n",
      "       中     55  40  36\n",
      "       老      9   2   1\n",
      "male   小      8  10  22\n",
      "       中     34   6  25\n",
      "       老      3   1   0\n"
     ]
    }
   ],
   "source": [
    "# 透视表\n",
    "print(titan.pivot_table(\"Survived\",index=[\"Sex\",\"年龄划分\"],columns=\"Pclass\",aggfunc=\"mean\"))\n",
    "print(titan.pivot_table(\"Survived\",index=[\"Sex\",\"年龄划分\"],columns=\"Pclass\",aggfunc=\"sum\"))"
   ]
  },
  {
   "cell_type": "code",
   "execution_count": 110,
   "metadata": {},
   "outputs": [
    {
     "data": {
      "text/plain": [
       "array([5, 2, 7, 8, 0, 7, 4, 0, 0, 2])"
      ]
     },
     "execution_count": 110,
     "metadata": {},
     "output_type": "execute_result"
    }
   ],
   "source": [
    "# cut函数\n",
    "factors=np.random.randint(0,10,10)\n",
    "factors"
   ]
  },
  {
   "cell_type": "code",
   "execution_count": 118,
   "metadata": {},
   "outputs": [
    {
     "name": "stdout",
     "output_type": "stream",
     "text": [
      "[(2.667, 5.333], (-0.008, 2.667], (5.333, 8.0], (5.333, 8.0], (-0.008, 2.667], (5.333, 8.0], (2.667, 5.333], (-0.008, 2.667], (-0.008, 2.667], (-0.008, 2.667]]\n",
      "Categories (3, interval[float64]): [(-0.008, 2.667] < (2.667, 5.333] < (5.333, 8.0]]\n",
      "[b, a, c, c, a, c, b, a, a, a]\n",
      "Categories (3, object): [a < b < c]\n",
      "[(3, 6], (-1, 3], (6, 9], (6, 9], (-1, 3], (6, 9], (3, 6], (-1, 3], (-1, 3], (-1, 3]]\n",
      "Categories (3, interval[int64]): [(-1, 3] < (3, 6] < (6, 9]]\n"
     ]
    }
   ],
   "source": [
    "print(pd.cut(factors,3))# 等距划分为3组\n",
    "print(pd.cut(factors,3,labels=['a','b','c']))# 等距划分为3组\n",
    "print(pd.cut(factors,[-1,3,6,9]))# 指定分割点进行划分"
   ]
  },
  {
   "cell_type": "code",
   "execution_count": 124,
   "metadata": {},
   "outputs": [
    {
     "data": {
      "text/plain": [
       "array([26.43500056, 58.32152045, 68.61385181, 13.40184018, 27.93102766,\n",
       "        4.34156511, 19.03187048, 92.43419052, 25.55065372, 72.41825703,\n",
       "       65.58651961, 55.60807739, 26.33455704, 25.96595353, 21.74688076,\n",
       "       19.50707328, 69.74483645, 91.5328765 ,  9.57367587, 74.52904617,\n",
       "       25.00876263, 83.29151773, 31.61005354, 53.51062514, 21.10222255,\n",
       "       64.42687892, 37.73536914, 97.63169892, 95.10867122, 40.48128376,\n",
       "       82.47434102, 49.10753702, 74.72926957, 43.08435773,  5.04452445,\n",
       "       83.57086171, 22.89873712, 11.28449471, 84.03033038, 61.29174174,\n",
       "       92.1663218 , 78.95542502, 60.45153421, 80.74966966, 17.67615252,\n",
       "       62.67657828, 79.60750548, 87.10753681, 70.07114698,  4.55507016,\n",
       "       44.66504241, 32.59479129, 94.85764987,  9.73512312,  0.19835617,\n",
       "       47.60208392,  3.87458536, 14.85131811, 79.96859413, 62.40317239,\n",
       "       63.39221472, 27.22451239, 19.81719246, 85.67048154, 50.06201728,\n",
       "       93.50084382, 76.10874749, 88.99461276, 33.12411785, 57.70437618,\n",
       "       98.70652585, 81.80934442, 12.16980369,  6.65395138, 76.92274536,\n",
       "       62.04370871, 56.32419577, 50.20412137, 78.22357992, 19.04886131,\n",
       "       66.61880104, 89.42527407, 88.98562115, 76.43553517, 19.88310206,\n",
       "       12.80898365, 19.41435893, 87.45801124, 68.63830553, 52.80676053,\n",
       "       91.02361946,  1.7874651 , 35.86963144, 58.19885862, 75.66404083,\n",
       "       93.6720021 , 72.31735581, 79.85872665, 63.01073213, 68.76270242])"
      ]
     },
     "execution_count": 124,
     "metadata": {},
     "output_type": "execute_result"
    }
   ],
   "source": [
    "factors=np.random.uniform(0,100,100)\n",
    "factors"
   ]
  },
  {
   "cell_type": "code",
   "execution_count": 128,
   "metadata": {},
   "outputs": [
    {
     "name": "stdout",
     "output_type": "stream",
     "text": [
      "(0.197, 33.124]     34\n",
      "(33.124, 72.418]    33\n",
      "(72.418, 98.707]    33\n",
      "dtype: int64\n",
      "a    34\n",
      "b    33\n",
      "c    33\n",
      "dtype: int64\n"
     ]
    }
   ],
   "source": [
    "qct=pd.qcut(factors,3)# 等距划分为3组\n",
    "print(qct.value_counts())\n",
    "qct=pd.qcut(factors,3,labels=['a','b','c'])# 等距划分为3组\n",
    "print(qct.value_counts())"
   ]
  },
  {
   "cell_type": "code",
   "execution_count": 146,
   "metadata": {},
   "outputs": [
    {
     "name": "stdout",
     "output_type": "stream",
     "text": [
      "    城市     环比     同比     定基\n",
      "0  NaN  101.5  120.7  121.4\n",
      "1   上海  101.2  127.3  127.8\n",
      "2   广州  101.3  119.4  120.0\n",
      "3  NaN  101.0    NaT    NaN\n",
      "4   沈阳  100.1  101.4  101.6\n"
     ]
    }
   ],
   "source": [
    "# 缺失值的处理\n",
    "dict_2={'城市':[np.nan,'上海','广州',np.nan,'沈阳'],\n",
    "    '环比':[101.5,101.2,101.3,101,100.1],\n",
    "    '同比':[120.7,127.3,119.4,pd.NaT,101.4],\n",
    "    '定基':[121.4,127.8,120.0,None,101.6]}\n",
    "df=pd.DataFrame(dict_2)\n",
    "print(df)\n",
    "# df.dropna()# 删除出现缺失值的行\n",
    "# df.dropna(axis=1)# 删除出现缺失值的列\n",
    "# df.dropna(how='all')# any:出现任意缺失值时删除  all:所有值都为缺失值时删除\n",
    "# df.dropna(subset=['同比','定基'])# subset指定列进行缺失值检测"
   ]
  },
  {
   "cell_type": "code",
   "execution_count": 155,
   "metadata": {},
   "outputs": [
    {
     "name": "stdout",
     "output_type": "stream",
     "text": [
      "    城市     环比     同比     定基\n",
      "0  NaN  101.5  120.7  121.4\n",
      "1   上海  101.2  127.3  127.8\n",
      "2   广州  101.3  119.4  120.0\n",
      "3  NaN  101.0    NaT    NaN\n",
      "4   沈阳  100.1  101.4  101.6\n",
      "   城市     环比     同比      定基\n",
      "0  未知  101.5  120.7  121.40\n",
      "1  上海  101.2  127.3  127.80\n",
      "2  广州  101.3  119.4  120.00\n",
      "3  未知  101.0  117.2  120.05\n",
      "4  沈阳  100.1  101.4  101.60\n"
     ]
    },
    {
     "data": {
      "text/html": [
       "<div>\n",
       "<style scoped>\n",
       "    .dataframe tbody tr th:only-of-type {\n",
       "        vertical-align: middle;\n",
       "    }\n",
       "\n",
       "    .dataframe tbody tr th {\n",
       "        vertical-align: top;\n",
       "    }\n",
       "\n",
       "    .dataframe thead th {\n",
       "        text-align: right;\n",
       "    }\n",
       "</style>\n",
       "<table border=\"1\" class=\"dataframe\">\n",
       "  <thead>\n",
       "    <tr style=\"text-align: right;\">\n",
       "      <th></th>\n",
       "      <th>城市</th>\n",
       "      <th>环比</th>\n",
       "      <th>同比</th>\n",
       "      <th>定基</th>\n",
       "    </tr>\n",
       "  </thead>\n",
       "  <tbody>\n",
       "    <tr>\n",
       "      <th>0</th>\n",
       "      <td>未知</td>\n",
       "      <td>101.5</td>\n",
       "      <td>120.7</td>\n",
       "      <td>121.4</td>\n",
       "    </tr>\n",
       "    <tr>\n",
       "      <th>1</th>\n",
       "      <td>上海</td>\n",
       "      <td>101.2</td>\n",
       "      <td>127.3</td>\n",
       "      <td>127.8</td>\n",
       "    </tr>\n",
       "    <tr>\n",
       "      <th>2</th>\n",
       "      <td>广州</td>\n",
       "      <td>101.3</td>\n",
       "      <td>119.4</td>\n",
       "      <td>120.0</td>\n",
       "    </tr>\n",
       "    <tr>\n",
       "      <th>3</th>\n",
       "      <td>未知</td>\n",
       "      <td>101.0</td>\n",
       "      <td>NaT</td>\n",
       "      <td>NaN</td>\n",
       "    </tr>\n",
       "    <tr>\n",
       "      <th>4</th>\n",
       "      <td>沈阳</td>\n",
       "      <td>100.1</td>\n",
       "      <td>101.4</td>\n",
       "      <td>101.6</td>\n",
       "    </tr>\n",
       "  </tbody>\n",
       "</table>\n",
       "</div>"
      ],
      "text/plain": [
       "   城市     环比     同比     定基\n",
       "0  未知  101.5  120.7  121.4\n",
       "1  上海  101.2  127.3  127.8\n",
       "2  广州  101.3  119.4  120.0\n",
       "3  未知  101.0    NaT    NaN\n",
       "4  沈阳  100.1  101.4  101.6"
      ]
     },
     "execution_count": 155,
     "metadata": {},
     "output_type": "execute_result"
    }
   ],
   "source": [
    "# 缺失值的填充\n",
    "print(df)\n",
    "# print(df['同比'].fillna(0))# 填充为标量值\n",
    "# print(df['同比'].fillna(method='ffill'))# 向上填充\n",
    "# print(df['同比'].fillna(method='bfill'))# 向下填充\n",
    "print(df.fillna({'同比':df['同比'].mean(),# 对每个字段指定填充方法\n",
    "                '环比':df['同比'].mean(),\n",
    "                 '定基':df['同比'].median(),\n",
    "                '城市':'未知'}))\n",
    "df.loc[df['城市'].isna(),'城市']='未知'# 通过布尔索引选取数据进行重新赋值填充\n",
    "df"
   ]
  },
  {
   "cell_type": "code",
   "execution_count": 1,
   "metadata": {},
   "outputs": [],
   "source": [
    "# titan.info()\n",
    "# titan['Cabin']\n",
    "# 将Age中的缺失值以均值填充\n",
    "# 将Cabin中的缺失值以'未知'进行填充\n",
    "# 生成一个新的字段对年龄进行划分,分为 0-12少儿 13-18 未成年 19-30 青年 30-60中年 60-100老年\n",
    "# 生成一个新的字段对票价进行等量划分划分,分为3类,分别是低价票 普通票 高价票"
   ]
  },
  {
   "cell_type": "code",
   "execution_count": 6,
   "metadata": {},
   "outputs": [
    {
     "name": "stdout",
     "output_type": "stream",
     "text": [
      "['a', 'b', 'c']\n",
      "A1    a,b,c\n",
      "A2    d,e,f\n",
      "A3    h,i,j\n",
      "dtype: object\n"
     ]
    }
   ],
   "source": [
    "# 字符串的向量化处理方法\n",
    "string='a,b,c'\n",
    "print(string.split(\",\"))\n",
    "ser=pd.Series(['a,b,c','d,e,f','h,i,j'],index=[\"A1\",\"A2\",\"A3\"])\n",
    "print(ser)"
   ]
  },
  {
   "cell_type": "code",
   "execution_count": 39,
   "metadata": {},
   "outputs": [],
   "source": [
    "# 基于python标准库模块的字符串向量化方法\n",
    "# print(titan.head(10))# head tail\n",
    "# print(len(titan['Name']))# 这个Series的长度\n",
    "# print(titan['Name'].head(5))\n",
    "# print(\"-\"*50)\n",
    "# print(titan['Name'].str.len())# 求元素长度\n",
    "# print(titan['Name'].str.lower().head(5))# 将字符串变成小写\n",
    "# print(titan['Name'].str.upper().head(5))# 将字符串变成大写\n",
    "# print(titan['Name'].str.startswith(\"B\").head(5))# 以什么字符进行开始,返回布尔值\n",
    "# print(titan['Name'].str.endswith(\"s\").head(5))# 以什么字符进行结束,返回布尔值\n",
    "# print(titan['Name'].str.split(\",\").head(5))# split分割指定字符\n",
    "# titan['strip']='----strip函数----'\n",
    "# print(titan['strip'].str.strip(\"-\").head(5))# strip去除前后指定字符\n",
    "# print(titan['Name'].str[:3])# 进行切片\n",
    "# print(titan['Name'].str.slice(0,3))# 进行切片\n",
    "# print(titan['Name'].str.get(0))# 获取指定索引位置的元素\n",
    "# print(titan['Name'].str.split(\",\").str.get(-1))# 获取指定位置的元素\n",
    "# titan.head()"
   ]
  },
  {
   "cell_type": "code",
   "execution_count": 67,
   "metadata": {},
   "outputs": [
    {
     "name": "stdout",
     "output_type": "stream",
     "text": [
      "0                              Braund, Mr. Owen Harris\n",
      "1    Cumings, Mrs. John Bradley (Florence Briggs Th...\n",
      "2                               Heikkinen, Miss. Laina\n",
      "3         Futrelle, Mrs. Jacques Heath (Lily May Peel)\n",
      "4                             Allen, Mr. William Henry\n",
      "Name: Name, dtype: object\n",
      "--------------------------------------------------\n"
     ]
    }
   ],
   "source": [
    "# 基于正则表达式的字符串向量化方法\n",
    "print(titan['Name'].head(5))\n",
    "print(\"-\"*50)\n",
    "# print(titan['Name'].str.extract(\"(\\w+)\").head(5))# 类似于search方法进行元素提取\n",
    "# print(titan['Name'].str.match(\"M\\w+\").head(5))# 从开头进行匹配,返回布尔值\n",
    "# print(titan['Name'].str.replace(\"\\w\",\"QQ\",1).head(5))#\n",
    "# print(titan['Name'].str.count(\"\\w+\").head(5))#\n",
    "# print(titan['Name'].str.split(\"[,|\\s+]\").str.join(\";\").head(5))#"
   ]
  },
  {
   "cell_type": "code",
   "execution_count": 69,
   "metadata": {},
   "outputs": [
    {
     "name": "stdout",
     "output_type": "stream",
     "text": [
      "[1, 4, 9, 16, 25]\n"
     ]
    }
   ],
   "source": [
    "num=[1,2,3,4,5]\n",
    "result=[]\n",
    "for i in num:\n",
    "    result.append(i*i)\n",
    "print(result)"
   ]
  },
  {
   "cell_type": "code",
   "execution_count": 71,
   "metadata": {},
   "outputs": [
    {
     "data": {
      "text/plain": [
       "[1, 4, 9, 16, 25]"
      ]
     },
     "execution_count": 71,
     "metadata": {},
     "output_type": "execute_result"
    }
   ],
   "source": [
    "list(map(lambda x:x**2,num))"
   ]
  },
  {
   "cell_type": "code",
   "execution_count": 83,
   "metadata": {},
   "outputs": [],
   "source": [
    "# titan['Name'].map(lambda x:x.lower())\n",
    "# titan['Name'].map(lambda x:x[:3])\n",
    "# def f(data):\n",
    "#     print(data,type(data))\n",
    "#     return data\n",
    "# titan['Name'].map(f)\n",
    "# def change(data):\n",
    "#     if data==0:\n",
    "#         return \"未生还\"\n",
    "#     else:\n",
    "#         return \"生还\"\n",
    "# titan['Survived'].map(change)"
   ]
  },
  {
   "cell_type": "code",
   "execution_count": 104,
   "metadata": {},
   "outputs": [
    {
     "name": "stdout",
     "output_type": "stream",
     "text": [
      "   A  B   C   D\n",
      "a  0  1   2   3\n",
      "b  4  5   6   7\n",
      "c  8  9  10  11\n",
      "--------------------------------------------------\n"
     ]
    }
   ],
   "source": [
    "# 分组  应用函数  聚合\n",
    "# apply函数\n",
    "a=pd.DataFrame(np.arange(12).reshape(3,4),index=list(\"abc\"),columns=list(\"ABCD\"))\n",
    "print(a)\n",
    "print(\"-\"*50)\n",
    "# print(a.apply(sum,axis=0))\n",
    "# print(\"-\"*50)\n",
    "# print(a.apply(np.mean,axis=0))\n",
    "# print(\"-\"*50)\n",
    "# print(a.apply(sum,axis=1))\n",
    "# print(\"-\"*50)\n",
    "# print(a.apply(np.mean,axis=1))\n",
    "# print(\"-\"*50)\n"
   ]
  },
  {
   "cell_type": "code",
   "execution_count": 110,
   "metadata": {},
   "outputs": [
    {
     "name": "stdout",
     "output_type": "stream",
     "text": [
      "A    4\n",
      "B    4\n",
      "C    4\n",
      "D    4\n",
      "dtype: int64\n"
     ]
    }
   ],
   "source": [
    "# def f(data):\n",
    "# #     print(data,type(data))\n",
    "#     return data.max()-data.min()# \n",
    "# print(a.apply(f,axis=0))# np.mean(data)\n",
    "# # print(a.apply(np.sum,axis=0))# np.mean(data)\n",
    "\n",
    "def f(data):\n",
    "#     print(data,type(data))\n",
    "#     print(\"-\"*50)\n",
    "    return data['c']-data['b']# \n",
    "print(a.apply(f,axis=0))# np.mean(data)"
   ]
  },
  {
   "cell_type": "code",
   "execution_count": 130,
   "metadata": {
    "scrolled": true
   },
   "outputs": [
    {
     "name": "stdout",
     "output_type": "stream",
     "text": [
      "    A   B   C   D   E\n",
      "0  37  12  72   9  75\n",
      "1   5  79  64  16   1\n",
      "2  76  71   6  25  50\n",
      "3  20  18  84  11  28\n",
      "4  29  14  50  68  87\n",
      "5  87  94  96  86  13\n",
      "6   9   7  63  61  22\n",
      "7  57   1   0  60  81\n",
      "8   8  88  13  47  72\n",
      "9  30  71   3  70  21\n"
     ]
    }
   ],
   "source": [
    "np.random.seed(1)\n",
    "df=pd.DataFrame(np.random.randint(0,100,50).reshape(10,5),columns=list(\"ABCDE\"))\n",
    "# df# 求每列第4大的值和第3大的值之差\n",
    "print(df)\n",
    "# def f(data):\n",
    "# 方法1\n",
    "#     result=data.sort_values()\n",
    "# #     print(result)\n",
    "# #     print(result.iloc[3])\n",
    "# #     print(\"-\"*50)\n",
    "#     return result.iloc[-3]-result.iloc[-4]\n",
    "# 方法2\n",
    "#     result=list(data)\n",
    "#     result.sort()\n",
    "#     print(result)\n",
    "#     return result[-3]-result[-4]\n",
    "# df.apply(f)"
   ]
  },
  {
   "cell_type": "code",
   "execution_count": 154,
   "metadata": {
    "scrolled": true
   },
   "outputs": [
    {
     "name": "stdout",
     "output_type": "stream",
     "text": [
      "  sid  money  age\n",
      "0   A      0   24\n",
      "1   B      1   26\n",
      "2   C      2   28\n",
      "3   A      3   28\n",
      "4   B      4   29\n",
      "5   C      5   22\n"
     ]
    }
   ],
   "source": [
    "# groupby 分组 应用函数 聚合\n",
    "df=pd.DataFrame({'sid':list('ABCABC'),'money':range(6),'age':np.random.randint(20,30,6)})\n",
    "print(df)\n",
    "def dt(data):\n",
    "    print(data[['money','age']])\n",
    "#     print(data['money'])\n",
    "#     print(\"-\"*50)\n",
    "#     print(type(data))\n",
    "#     print(\"-\"*50)\n",
    "    return data['money'].max()-data['money'].min()# 返回值为单个值时,结果为Series  返回值为Series时,结果为DataFrame\n",
    "# print(df.groupby('sid').apply(dt))\n",
    "# print(df.groupby('sid').sum())"
   ]
  },
  {
   "cell_type": "code",
   "execution_count": 155,
   "metadata": {},
   "outputs": [],
   "source": [
    "import pymysql\n",
    "conn=pymysql.connect(host=\"localhost\",user=\"root\",password=\"123456\",db=\"spider\",charset=\"utf8\")\n",
    "order_info=pd.read_sql(\"select * from `order`\",con=conn)\n",
    "conn.close()"
   ]
  },
  {
   "cell_type": "code",
   "execution_count": 166,
   "metadata": {},
   "outputs": [],
   "source": [
    "# 求每个用户第二次购买和第一次购买记录之差\n",
    "def f(data):\n",
    "#     print(data)\n",
    "#     print(\"-\"*50)\n",
    "#     print(type(data))\n",
    "#     print(\"-\"*50)\n",
    "    t=data['create_time'].sort_values()\n",
    "    result=t.iloc[1]-t.iloc[0]\n",
    "    return result.days# 第二次消费时间减第一次消费时间\n",
    "# order_info.groupby(\"user_id\").apply(f)"
   ]
  },
  {
   "cell_type": "code",
   "execution_count": 168,
   "metadata": {},
   "outputs": [
    {
     "data": {
      "text/plain": [
       "0     1\n",
       "1     2\n",
       "2     3\n",
       "3     5\n",
       "4     7\n",
       "5    19\n",
       "6    12\n",
       "7    14\n",
       "8    28\n",
       "9    30\n",
       "dtype: int64"
      ]
     },
     "execution_count": 168,
     "metadata": {},
     "output_type": "execute_result"
    }
   ],
   "source": [
    "# 窗口函数rolling\n",
    "df=pd.DataFrame(np.arange(20).reshape(4,5),index=list(\"abcd\"),columns=list(\"ABCDE\"))\n",
    "ser=pd.Series([1,2,3,5,7,19,12,14,28,30])\n",
    "ser"
   ]
  },
  {
   "cell_type": "code",
   "execution_count": 175,
   "metadata": {},
   "outputs": [
    {
     "name": "stdout",
     "output_type": "stream",
     "text": [
      "0     NaN\n",
      "1     NaN\n",
      "2     6.0\n",
      "3    10.0\n",
      "4    15.0\n",
      "5    31.0\n",
      "6    38.0\n",
      "7    45.0\n",
      "8    54.0\n",
      "9    72.0\n",
      "dtype: float64\n",
      "0          NaN\n",
      "1          NaN\n",
      "2     2.000000\n",
      "3     3.333333\n",
      "4     5.000000\n",
      "5    10.333333\n",
      "6    12.666667\n",
      "7    15.000000\n",
      "8    18.000000\n",
      "9    24.000000\n",
      "dtype: float64\n"
     ]
    }
   ],
   "source": [
    "print(ser.rolling(window=3).sum())\n",
    "print(ser.rolling(window=3).mean())"
   ]
  },
  {
   "cell_type": "code",
   "execution_count": 176,
   "metadata": {},
   "outputs": [
    {
     "name": "stdout",
     "output_type": "stream",
     "text": [
      "0     1.0\n",
      "1     3.0\n",
      "2     6.0\n",
      "3    10.0\n",
      "4    15.0\n",
      "5    31.0\n",
      "6    38.0\n",
      "7    45.0\n",
      "8    54.0\n",
      "9    72.0\n",
      "dtype: float64\n",
      "0     1.000000\n",
      "1     1.500000\n",
      "2     2.000000\n",
      "3     3.333333\n",
      "4     5.000000\n",
      "5    10.333333\n",
      "6    12.666667\n",
      "7    15.000000\n",
      "8    18.000000\n",
      "9    24.000000\n",
      "dtype: float64\n"
     ]
    }
   ],
   "source": [
    "print(ser.rolling(window=3,min_periods=1).sum())# 防止不满足窗口数量出现NaT值\n",
    "print(ser.rolling(window=3,min_periods=1).mean())"
   ]
  },
  {
   "cell_type": "code",
   "execution_count": 178,
   "metadata": {},
   "outputs": [
    {
     "name": "stdout",
     "output_type": "stream",
     "text": [
      "0     1\n",
      "1     2\n",
      "2     3\n",
      "3     5\n",
      "4     7\n",
      "5    19\n",
      "6    12\n",
      "7    14\n",
      "8    28\n",
      "9    30\n",
      "dtype: int64\n",
      "0     1.500000\n",
      "1     2.000000\n",
      "2     3.333333\n",
      "3     5.000000\n",
      "4    10.333333\n",
      "5    12.666667\n",
      "6    15.000000\n",
      "7    18.000000\n",
      "8    24.000000\n",
      "9    29.000000\n",
      "dtype: float64\n"
     ]
    }
   ],
   "source": [
    "print(ser)\n",
    "print(ser.rolling(window=3,min_periods=1,center=True).mean())# 以中心点进行采样"
   ]
  },
  {
   "cell_type": "code",
   "execution_count": 181,
   "metadata": {},
   "outputs": [
    {
     "name": "stdout",
     "output_type": "stream",
     "text": [
      "    A   B   C   D   E\n",
      "a   0   1   2   3   4\n",
      "b   5   6   7   8   9\n",
      "c  10  11  12  13  14\n",
      "d  15  16  17  18  19\n"
     ]
    },
    {
     "data": {
      "text/html": [
       "<div>\n",
       "<style scoped>\n",
       "    .dataframe tbody tr th:only-of-type {\n",
       "        vertical-align: middle;\n",
       "    }\n",
       "\n",
       "    .dataframe tbody tr th {\n",
       "        vertical-align: top;\n",
       "    }\n",
       "\n",
       "    .dataframe thead th {\n",
       "        text-align: right;\n",
       "    }\n",
       "</style>\n",
       "<table border=\"1\" class=\"dataframe\">\n",
       "  <thead>\n",
       "    <tr style=\"text-align: right;\">\n",
       "      <th></th>\n",
       "      <th>A</th>\n",
       "      <th>B</th>\n",
       "      <th>C</th>\n",
       "      <th>D</th>\n",
       "      <th>E</th>\n",
       "    </tr>\n",
       "  </thead>\n",
       "  <tbody>\n",
       "    <tr>\n",
       "      <th>a</th>\n",
       "      <td>2.5</td>\n",
       "      <td>3.5</td>\n",
       "      <td>4.5</td>\n",
       "      <td>5.5</td>\n",
       "      <td>6.5</td>\n",
       "    </tr>\n",
       "    <tr>\n",
       "      <th>b</th>\n",
       "      <td>5.0</td>\n",
       "      <td>6.0</td>\n",
       "      <td>7.0</td>\n",
       "      <td>8.0</td>\n",
       "      <td>9.0</td>\n",
       "    </tr>\n",
       "    <tr>\n",
       "      <th>c</th>\n",
       "      <td>10.0</td>\n",
       "      <td>11.0</td>\n",
       "      <td>12.0</td>\n",
       "      <td>13.0</td>\n",
       "      <td>14.0</td>\n",
       "    </tr>\n",
       "    <tr>\n",
       "      <th>d</th>\n",
       "      <td>12.5</td>\n",
       "      <td>13.5</td>\n",
       "      <td>14.5</td>\n",
       "      <td>15.5</td>\n",
       "      <td>16.5</td>\n",
       "    </tr>\n",
       "  </tbody>\n",
       "</table>\n",
       "</div>"
      ],
      "text/plain": [
       "      A     B     C     D     E\n",
       "a   2.5   3.5   4.5   5.5   6.5\n",
       "b   5.0   6.0   7.0   8.0   9.0\n",
       "c  10.0  11.0  12.0  13.0  14.0\n",
       "d  12.5  13.5  14.5  15.5  16.5"
      ]
     },
     "execution_count": 181,
     "metadata": {},
     "output_type": "execute_result"
    }
   ],
   "source": [
    "print(df)\n",
    "df.rolling(window=3,min_periods=1,center=True).mean()"
   ]
  },
  {
   "cell_type": "code",
   "execution_count": 196,
   "metadata": {},
   "outputs": [
    {
     "name": "stdout",
     "output_type": "stream",
     "text": [
      "    1  2  3  4  5  6  7  8  9  10 11 12\n",
      "张三   早  休  早  早  休  早  早  休  早  早  休  早\n",
      "李四   休  早  休  早  早  休  早  早  休  早  早  休\n",
      "王五   正  正  休  休  正  正  正  正  正  早  早  正\n",
      "刘七   早  早  早  休  早  休  早  早  休  休  早  早\n",
      "赵老一  早  休  早  早  休  早  休  早  休  早  早  休\n",
      "糊糊   休  早  休  早  早  休  早  早  休  早  休  早\n",
      "Index(['day1', 'day2', 'day3', 'day4', 'day5', 'day6', 'day7', 'day8', 'day9',\n",
      "       'day10', 'day11', 'day12'],\n",
      "      dtype='object')\n",
      "  day1 day2 day3 day4 day5 day6 day7 day8 day9 day10 day11 day12\n",
      "0   张三   李四   张三   张三   李四   张三   张三   李四   张三    张三    李四    张三\n",
      "1   刘七   刘七   刘七   李四   刘七  赵老一   李四   刘七  NaN    李四    王五    刘七\n",
      "2  赵老一   糊糊  赵老一  赵老一   糊糊  NaN   刘七  赵老一  NaN    王五    刘七    糊糊\n",
      "3  NaN  NaN  NaN   糊糊  NaN  NaN   糊糊   糊糊  NaN   赵老一   赵老一   NaN\n",
      "4  NaN  NaN  NaN  NaN  NaN  NaN  NaN  NaN  NaN    糊糊   NaN   NaN\n"
     ]
    }
   ],
   "source": [
    "df=pd.read_excel(\"D:\\cs2433_文件迁移\\桌面\\excel&csv\\排班原始表.xlsx\")\n",
    "print(df)\n",
    "def f(data):\n",
    "    zb=(data==\"早\")\n",
    "    return pd.Series(list(data.index[zb]))\n",
    "result=df.apply(f)\n",
    "result.columns=['day'+str(i) for i in range(1,13)]\n",
    "print(result.columns)\n",
    "print(result)"
   ]
  },
  {
   "cell_type": "code",
   "execution_count": null,
   "metadata": {},
   "outputs": [],
   "source": [
    "\n",
    "\n",
    "\n",
    "\n",
    "\n",
    "\n",
    "\n",
    "\n",
    "\n",
    "\n",
    "\n",
    "\n",
    "\n",
    "\n",
    "\n",
    "\n",
    "\n",
    "\n",
    "\n",
    "\n",
    "\n",
    "\n",
    "\n",
    "\n",
    "\n",
    "\n",
    "\n"
   ]
  }
 ],
 "metadata": {
  "kernelspec": {
   "display_name": "Python 3",
   "language": "python",
   "name": "python3"
  },
  "language_info": {
   "codemirror_mode": {
    "name": "ipython",
    "version": 3
   },
   "file_extension": ".py",
   "mimetype": "text/x-python",
   "name": "python",
   "nbconvert_exporter": "python",
   "pygments_lexer": "ipython3",
   "version": "3.8.3"
  }
 },
 "nbformat": 4,
 "nbformat_minor": 2
}
