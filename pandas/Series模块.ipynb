{
 "cells": [
  {
   "cell_type": "code",
   "execution_count": 2,
   "metadata": {},
   "outputs": [],
   "source": [
    "import numpy as np\n",
    "import pandas as pd"
   ]
  },
  {
   "cell_type": "code",
   "execution_count": 9,
   "metadata": {},
   "outputs": [
    {
     "name": "stdout",
     "output_type": "stream",
     "text": [
      "<class 'pandas.core.series.Series'>\n",
      "a    9\n",
      "b    8\n",
      "c    7\n",
      "d    6\n",
      "dtype: int64\n"
     ]
    }
   ],
   "source": [
    "a=pd.Series([9,8,7,6])#不设置索引默认0,1,2,3\n",
    "b=pd.Series([9,8,7,6],index=('a','b','c','d'))\n",
    "print(type(a))\n",
    "\n",
    "print(b)"
   ]
  },
  {
   "cell_type": "code",
   "execution_count": 15,
   "metadata": {},
   "outputs": [
    {
     "name": "stdout",
     "output_type": "stream",
     "text": [
      "b    0\n",
      "c    1\n",
      "d    2\n",
      "e    3\n",
      "f    4\n",
      "dtype: int32\n"
     ]
    }
   ],
   "source": [
    "# 通过标量创建索引\n",
    "# print(pd.Series(25,index=[1,2,3,4]))\n",
    "# print('-'*30)\n",
    "# print(pd.Series(25,index=['a','b','c']))\n",
    "# print('-'*30)\n",
    "# print(pd.Series([10,20,30],index=['a','b','c']))\n",
    "# print('-'*30)\n",
    "# print(pd.Series({\"A\":10,'B':20,'C':30}))\n",
    "# print('-'*30)\n",
    "print(pd.Series(np.arange(5),index=list('bcdef')))"
   ]
  },
  {
   "cell_type": "code",
   "execution_count": 18,
   "metadata": {},
   "outputs": [
    {
     "name": "stdout",
     "output_type": "stream",
     "text": [
      "a    9\n",
      "b    8\n",
      "c    7\n",
      "d    6\n",
      "dtype: int64\n",
      "Index(['a', 'b', 'c', 'd'], dtype='object')\n",
      "[9 8 7 6]\n",
      "a    9\n",
      "b    8\n",
      "c    7\n",
      "d    6\n",
      "Name: Series_a, dtype: int64\n"
     ]
    }
   ],
   "source": [
    "# index的value属性\n",
    "a=pd.Series([9,8,7,6],index=['a','b','c','d'])\n",
    "print(a)\n",
    "print(a.index)\n",
    "print(a.values)\n",
    "a.name=\"Series_a\"\n",
    "print(a)"
   ]
  },
  {
   "cell_type": "code",
   "execution_count": 24,
   "metadata": {},
   "outputs": [
    {
     "name": "stdout",
     "output_type": "stream",
     "text": [
      "b    2\n",
      "c    3\n",
      "dtype: int64\n",
      "a    1\n",
      "b    2\n",
      "dtype: int64\n"
     ]
    }
   ],
   "source": [
    "# 索引操作\n",
    "b=pd.Series([1,2,3,4],index=list(\"abcd\"))\n",
    "# print(b)\n",
    "# print(b['a'])\n",
    "# print(b[1])\n",
    "# print(b[-1])\n",
    "print(b[[1,2]])\n",
    "print(b[['a','b']])"
   ]
  },
  {
   "cell_type": "code",
   "execution_count": 28,
   "metadata": {},
   "outputs": [
    {
     "name": "stdout",
     "output_type": "stream",
     "text": [
      "e    4\n",
      "d    3\n",
      "c    2\n",
      "b    1\n",
      "a    0\n",
      "dtype: int32\n"
     ]
    }
   ],
   "source": [
    "# 切片索引\n",
    "d=pd.Series(np.arange(5),index=list(\"abcde\"))\n",
    "# print(d)\n",
    "# print(d[0:3])\n",
    "# print(d['a':'c'])\n",
    "# print(d[:3])\n",
    "print(d[::-1])"
   ]
  },
  {
   "cell_type": "code",
   "execution_count": 33,
   "metadata": {},
   "outputs": [
    {
     "name": "stdout",
     "output_type": "stream",
     "text": [
      "c    5\n",
      "d    4\n",
      "f    3\n",
      "f    2\n",
      "g    1\n",
      "dtype: int32\n",
      "a    NaN\n",
      "b    NaN\n",
      "c    7.0\n",
      "d    7.0\n",
      "e    NaN\n",
      "f    NaN\n",
      "f    NaN\n",
      "g    NaN\n",
      "dtype: float64\n"
     ]
    }
   ],
   "source": [
    "# 算数计算\n",
    "a=pd.Series(np.arange(5),index=list(\"abcde\"))\n",
    "b=pd.Series(np.arange(5),index=list(\"cdffg\"))\n",
    "# print(a)\n",
    "# print(a+10)\n",
    "# print(a+b)\n",
    "c=pd.Series(np.arange(5,0,-1),index=list(\"cdffg\"))\n",
    "print(c)\n",
    "print(a+c)"
   ]
  },
  {
   "cell_type": "code",
   "execution_count": 39,
   "metadata": {},
   "outputs": [
    {
     "name": "stdout",
     "output_type": "stream",
     "text": [
      "A    False\n",
      "B    False\n",
      "C     True\n",
      "D     True\n",
      "E     True\n",
      "dtype: bool\n",
      "a    0\n",
      "b    1\n",
      "c    2\n",
      "d    3\n",
      "e   -4\n",
      "dtype: int32\n"
     ]
    }
   ],
   "source": [
    "a=pd.Series([2,3,4,5,6],index=list(\"ABCDE\"))\n",
    "# print(a.mean())\n",
    "# print(a.sum())\n",
    "# print(a.median())\n",
    "# print(a.std())#标准差\n",
    "# print(a.var())#方差\n",
    "# print(a.max())\n",
    "print(a>3)\n",
    "d[d>3]=d[d>3]*(-1)\n",
    "print(d)"
   ]
  },
  {
   "cell_type": "code",
   "execution_count": 41,
   "metadata": {},
   "outputs": [
    {
     "data": {
      "text/plain": [
       "A      2\n",
       "B      3\n",
       "C      4\n",
       "D      5\n",
       "E      6\n",
       "a    100\n",
       "dtype: int64"
      ]
     },
     "execution_count": 41,
     "metadata": {},
     "output_type": "execute_result"
    }
   ],
   "source": [
    "#修改数据\n",
    "d=pd.Series([2,3,4,5,6],index=list(\"ABCDE\"))\n",
    "d.append(d)\n",
    "d['a']=100\n",
    "d"
   ]
  },
  {
   "cell_type": "code",
   "execution_count": 49,
   "metadata": {},
   "outputs": [
    {
     "data": {
      "text/plain": [
       "C    4\n",
       "D    5\n",
       "E    6\n",
       "dtype: int64"
      ]
     },
     "execution_count": 49,
     "metadata": {},
     "output_type": "execute_result"
    }
   ],
   "source": [
    "# 删除数据\n",
    "# del d['a']\n",
    "d=d.drop([\"A\",\"B\"])\n",
    "d"
   ]
  },
  {
   "cell_type": "code",
   "execution_count": 55,
   "metadata": {},
   "outputs": [
    {
     "name": "stdout",
     "output_type": "stream",
     "text": [
      "[1 3 2 5]\n"
     ]
    }
   ],
   "source": [
    "#其他常用操作\n",
    "a=pd.Series([1,2,3,'4',5],index=list(\"ABCDE\"))\n",
    "a=a.astype(np.int)\n",
    "# print(a.dtype)\n",
    "# \"A\" in a\n",
    "# a.get(\"a\",100)\n",
    "\n",
    "d=pd.Series([1,1,3,2,5],index=list(\"ABCDE\"))#去重\n",
    "print(d.unique())"
   ]
  },
  {
   "cell_type": "code",
   "execution_count": 57,
   "metadata": {},
   "outputs": [
    {
     "name": "stdout",
     "output_type": "stream",
     "text": [
      "a    False\n",
      "b    False\n",
      "c     True\n",
      "d     True\n",
      "dtype: bool\n"
     ]
    }
   ],
   "source": [
    "#成员判断\n",
    "a=pd.Series([1,2,3,4],index=list(\"abcd\"))\n",
    "b=pd.Series([3,4,5,6],index=list(\"ABCD\"))\n",
    "print(a.isin(b))"
   ]
  },
  {
   "cell_type": "code",
   "execution_count": 61,
   "metadata": {},
   "outputs": [
    {
     "name": "stdout",
     "output_type": "stream",
     "text": [
      "A    69\n",
      "B    65\n",
      "C    51\n",
      "D    56\n",
      "E    75\n",
      "dtype: int32\n",
      "E    75\n",
      "D    56\n",
      "C    51\n",
      "B    65\n",
      "A    69\n",
      "dtype: int32\n",
      "E    75\n",
      "A    69\n",
      "B    65\n",
      "D    56\n",
      "C    51\n",
      "dtype: int32\n"
     ]
    }
   ],
   "source": [
    "# 对Series进行排序\n",
    "a=pd.Series(np.random.randint(0,100,5),index=list(\"ABCDE\"))\n",
    "print(a)\n",
    "print(a.sort_index(ascending=False))\n",
    "print(a.sort_values(ascending=False))"
   ]
  },
  {
   "cell_type": "code",
   "execution_count": 65,
   "metadata": {},
   "outputs": [
    {
     "data": {
      "text/plain": [
       "0    False\n",
       "1    False\n",
       "2    False\n",
       "3    False\n",
       "4    False\n",
       "5    False\n",
       "dtype: bool"
      ]
     },
     "execution_count": 65,
     "metadata": {},
     "output_type": "execute_result"
    }
   ],
   "source": [
    "# 判断元素是否为空\n",
    "a=pd.Series([0,None,11,100,np.nan,pd.NaT])\n",
    "# print(a)\n",
    "# print(a.isnull())\n",
    "# print(a.notnull())\n",
    "a[a.isnull()]=0\n",
    "pd.isna(a)"
   ]
  }
 ],
 "metadata": {
  "kernelspec": {
   "display_name": "Python 3",
   "language": "python",
   "name": "python3"
  },
  "language_info": {
   "codemirror_mode": {
    "name": "ipython",
    "version": 3
   },
   "file_extension": ".py",
   "mimetype": "text/x-python",
   "name": "python",
   "nbconvert_exporter": "python",
   "pygments_lexer": "ipython3",
   "version": "3.8.3"
  }
 },
 "nbformat": 4,
 "nbformat_minor": 4
}
