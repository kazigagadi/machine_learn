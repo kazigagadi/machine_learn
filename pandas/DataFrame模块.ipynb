{
 "cells": [
  {
   "cell_type": "code",
   "execution_count": 2,
   "metadata": {},
   "outputs": [],
   "source": [
    "import numpy as np\n",
    "import pandas as pd\n",
    "import warnings\n",
    "warnings.filterwarnings(\"ignore\")#忽略warning警告"
   ]
  },
  {
   "cell_type": "code",
   "execution_count": 6,
   "metadata": {},
   "outputs": [
    {
     "name": "stdout",
     "output_type": "stream",
     "text": [
      "    A   B   C   D   E   F\n",
      "a   0   1   2   3   4   5\n",
      "b   6   7   8   9  10  11\n",
      "c  12  13  14  15  16  17\n",
      "d  18  19  20  21  22  23 <class 'pandas.core.frame.DataFrame'>\n"
     ]
    }
   ],
   "source": [
    "# 创建DataFrame\n",
    "df=pd.DataFrame(np.arange(24).reshape(4,6),index=list(\"abcd\"),columns=list(\"ABCDEF\"),)\n",
    "print(df,type(df))"
   ]
  },
  {
   "cell_type": "code",
   "execution_count": 18,
   "metadata": {},
   "outputs": [
    {
     "data": {
      "text/html": [
       "<div>\n",
       "<style scoped>\n",
       "    .dataframe tbody tr th:only-of-type {\n",
       "        vertical-align: middle;\n",
       "    }\n",
       "\n",
       "    .dataframe tbody tr th {\n",
       "        vertical-align: top;\n",
       "    }\n",
       "\n",
       "    .dataframe thead th {\n",
       "        text-align: right;\n",
       "    }\n",
       "</style>\n",
       "<table border=\"1\" class=\"dataframe\">\n",
       "  <thead>\n",
       "    <tr style=\"text-align: right;\">\n",
       "      <th></th>\n",
       "      <th>r1</th>\n",
       "      <th>r2</th>\n",
       "      <th>r3</th>\n",
       "      <th>r4</th>\n",
       "      <th>r5</th>\n",
       "    </tr>\n",
       "  </thead>\n",
       "  <tbody>\n",
       "    <tr>\n",
       "      <th>城市</th>\n",
       "      <td>北京</td>\n",
       "      <td>上海</td>\n",
       "      <td>广州</td>\n",
       "      <td>深圳</td>\n",
       "      <td>沈阳</td>\n",
       "    </tr>\n",
       "    <tr>\n",
       "      <th>环比</th>\n",
       "      <td>101.5</td>\n",
       "      <td>101.2</td>\n",
       "      <td>101.3</td>\n",
       "      <td>102</td>\n",
       "      <td>100.1</td>\n",
       "    </tr>\n",
       "    <tr>\n",
       "      <th>同比</th>\n",
       "      <td>120.7</td>\n",
       "      <td>127.3</td>\n",
       "      <td>119.4</td>\n",
       "      <td>140.9</td>\n",
       "      <td>101.4</td>\n",
       "    </tr>\n",
       "    <tr>\n",
       "      <th>定基</th>\n",
       "      <td>121.4</td>\n",
       "      <td>127.8</td>\n",
       "      <td>122</td>\n",
       "      <td>145.5</td>\n",
       "      <td>101.6</td>\n",
       "    </tr>\n",
       "  </tbody>\n",
       "</table>\n",
       "</div>"
      ],
      "text/plain": [
       "       r1     r2     r3     r4     r5\n",
       "城市     北京     上海     广州     深圳     沈阳\n",
       "环比  101.5  101.2  101.3    102  100.1\n",
       "同比  120.7  127.3  119.4  140.9  101.4\n",
       "定基  121.4  127.8    122  145.5  101.6"
      ]
     },
     "execution_count": 18,
     "metadata": {},
     "output_type": "execute_result"
    }
   ],
   "source": [
    "data={'城市':['北京','上海','广州','深圳','沈阳'],\n",
    "    '环比':[101.5,101.2,101.3,102.,100.1],\n",
    "    '同比':[120.7,127.3,119.4,140.9,101.4],\n",
    "    '定基':[121.4,127.8,122.0,145.5,101.6]}\n",
    "# type(data)\n",
    "df=pd.DataFrame(data,index=['r1','r2','r3','r4','r5'])\n",
    "# DataFrame中包含的属性\n",
    "# df.index\n",
    "# df.columns\n",
    "# df.values\n",
    "df.T\n"
   ]
  },
  {
   "cell_type": "code",
   "execution_count": 23,
   "metadata": {},
   "outputs": [
    {
     "name": "stdout",
     "output_type": "stream",
     "text": [
      "    城市     环比     同比     定基\n",
      "r1  北京  101.5  120.7  121.4\n",
      "r2  上海  101.2  127.3  127.8\n",
      "r3  广州  101.3  119.4  122.0\n",
      "r4  深圳  102.0  140.9  145.5\n",
      "r5  沈阳  100.1  101.4  101.6\n",
      "r1    120.7\n",
      "r2    127.3\n",
      "r3    119.4\n",
      "r4    140.9\n",
      "r5    101.4\n",
      "Name: 同比, dtype: float64\n",
      "140.9\n",
      "    城市     同比\n",
      "r1  北京  120.7\n",
      "r2  上海  127.3\n",
      "r3  广州  119.4\n",
      "r4  深圳  140.9\n",
      "r5  沈阳  101.4\n"
     ]
    }
   ],
   "source": [
    "# 查看数据类型\n",
    "# print(df)\n",
    "# print(df[\"同比\"])\n",
    "# print(df[\"同比\"]['r4'])\n",
    "print(df[['城市','同比']])"
   ]
  },
  {
   "cell_type": "code",
   "execution_count": 32,
   "metadata": {},
   "outputs": [
    {
     "name": "stdout",
     "output_type": "stream",
     "text": [
      "    城市     环比     同比\n",
      "r1  北京  101.5  120.7\n",
      "r2  上海  101.2  127.3\n",
      "r3  广州  101.3  119.4\n",
      "r4  深圳  102.0  140.9\n",
      "r5  沈阳  100.1  101.4\n"
     ]
    }
   ],
   "source": [
    "# 用df.loc[行索引,列索引]\n",
    "# print(df.loc['r3','城市'])\n",
    "# print(df.loc['r3',['城市','环比','同比']])\n",
    "# print(df.loc[['r3','r2'],['城市','环比','同比']])\n",
    "# print(df.loc['r1':'r3','城市':'同比'])\n",
    "# print(df.loc['r1':,'城市':'同比'])\n",
    "print(df.loc[:,['城市','环比','同比']])"
   ]
  },
  {
   "cell_type": "code",
   "execution_count": 40,
   "metadata": {},
   "outputs": [
    {
     "name": "stdout",
     "output_type": "stream",
     "text": [
      "    城市     环比     同比\n",
      "r1  北京  101.5  120.7\n",
      "r2  上海  101.2  127.3\n",
      "r3  广州  101.3  119.4\n",
      "    城市     环比     同比\n",
      "r3  广州  101.3  119.4\n",
      "r4  深圳  102.0  140.9\n",
      "r5  沈阳  100.1  101.4\n",
      "    城市     环比     同比\n",
      "r1  北京  101.5  120.7\n",
      "r2  上海  101.2  127.3\n",
      "r3  广州  101.3  119.4\n",
      "r4  深圳  102.0  140.9\n",
      "r5  沈阳  100.1  101.4\n"
     ]
    }
   ],
   "source": [
    "# 用df.iloc通过行列的隐式索引提取数据\n",
    "# df.iloc[行索引,列索引]\n",
    "# print(df.iloc[2,0])\n",
    "# print(df.iloc[2,[0,1,2]])\n",
    "# print(df.iloc[[0,2],[0,1,2]])\n",
    "print(df.iloc[0:3,0:3])#左闭右开的规则\n",
    "print(df.iloc[2:,0:3])\n",
    "print(df.iloc[:,0:3])"
   ]
  },
  {
   "cell_type": "code",
   "execution_count": 43,
   "metadata": {},
   "outputs": [
    {
     "ename": "AttributeError",
     "evalue": "'DataFrame' object has no attribute 'ix'",
     "output_type": "error",
     "traceback": [
      "\u001b[1;31m---------------------------------------------------------------------------\u001b[0m",
      "\u001b[1;31mAttributeError\u001b[0m                            Traceback (most recent call last)",
      "\u001b[1;32m<ipython-input-43-a34d60aae744>\u001b[0m in \u001b[0;36m<module>\u001b[1;34m\u001b[0m\n\u001b[0;32m      1\u001b[0m \u001b[1;31m# ix混合还用\u001b[0m\u001b[1;33m\u001b[0m\u001b[1;33m\u001b[0m\u001b[1;33m\u001b[0m\u001b[0m\n\u001b[1;32m----> 2\u001b[1;33m \u001b[0mprint\u001b[0m\u001b[1;33m(\u001b[0m\u001b[0mdf\u001b[0m\u001b[1;33m.\u001b[0m\u001b[0mix\u001b[0m\u001b[1;33m[\u001b[0m\u001b[1;33m:\u001b[0m\u001b[1;33m,\u001b[0m\u001b[1;33m[\u001b[0m\u001b[1;34m'城市'\u001b[0m\u001b[1;33m,\u001b[0m\u001b[1;34m'同比'\u001b[0m\u001b[1;33m]\u001b[0m\u001b[1;33m]\u001b[0m\u001b[1;33m)\u001b[0m\u001b[1;33m\u001b[0m\u001b[1;33m\u001b[0m\u001b[0m\n\u001b[0m",
      "\u001b[1;32mD:\\Program Files\\anaconda3\\lib\\site-packages\\pandas\\core\\generic.py\u001b[0m in \u001b[0;36m__getattr__\u001b[1;34m(self, name)\u001b[0m\n\u001b[0;32m   5272\u001b[0m             \u001b[1;32mif\u001b[0m \u001b[0mself\u001b[0m\u001b[1;33m.\u001b[0m\u001b[0m_info_axis\u001b[0m\u001b[1;33m.\u001b[0m\u001b[0m_can_hold_identifiers_and_holds_name\u001b[0m\u001b[1;33m(\u001b[0m\u001b[0mname\u001b[0m\u001b[1;33m)\u001b[0m\u001b[1;33m:\u001b[0m\u001b[1;33m\u001b[0m\u001b[1;33m\u001b[0m\u001b[0m\n\u001b[0;32m   5273\u001b[0m                 \u001b[1;32mreturn\u001b[0m \u001b[0mself\u001b[0m\u001b[1;33m[\u001b[0m\u001b[0mname\u001b[0m\u001b[1;33m]\u001b[0m\u001b[1;33m\u001b[0m\u001b[1;33m\u001b[0m\u001b[0m\n\u001b[1;32m-> 5274\u001b[1;33m             \u001b[1;32mreturn\u001b[0m \u001b[0mobject\u001b[0m\u001b[1;33m.\u001b[0m\u001b[0m__getattribute__\u001b[0m\u001b[1;33m(\u001b[0m\u001b[0mself\u001b[0m\u001b[1;33m,\u001b[0m \u001b[0mname\u001b[0m\u001b[1;33m)\u001b[0m\u001b[1;33m\u001b[0m\u001b[1;33m\u001b[0m\u001b[0m\n\u001b[0m\u001b[0;32m   5275\u001b[0m \u001b[1;33m\u001b[0m\u001b[0m\n\u001b[0;32m   5276\u001b[0m     \u001b[1;32mdef\u001b[0m \u001b[0m__setattr__\u001b[0m\u001b[1;33m(\u001b[0m\u001b[0mself\u001b[0m\u001b[1;33m,\u001b[0m \u001b[0mname\u001b[0m\u001b[1;33m:\u001b[0m \u001b[0mstr\u001b[0m\u001b[1;33m,\u001b[0m \u001b[0mvalue\u001b[0m\u001b[1;33m)\u001b[0m \u001b[1;33m->\u001b[0m \u001b[1;32mNone\u001b[0m\u001b[1;33m:\u001b[0m\u001b[1;33m\u001b[0m\u001b[1;33m\u001b[0m\u001b[0m\n",
      "\u001b[1;31mAttributeError\u001b[0m: 'DataFrame' object has no attribute 'ix'"
     ]
    }
   ],
   "source": [
    "# ix混合还用\n",
    "print(df.ix[:,['城市','同比']])"
   ]
  },
  {
   "cell_type": "code",
   "execution_count": 54,
   "metadata": {},
   "outputs": [
    {
     "name": "stdout",
     "output_type": "stream",
     "text": [
      "    城市     环比     同比     定基\n",
      "r1  北京  101.5  120.7  121.4\n",
      "r2  上海  101.2  127.3  127.8\n"
     ]
    }
   ],
   "source": [
    "# 通过布尔值索引进行筛选\n",
    "s1=df['同比']>120\n",
    "# df[s1]\n",
    "# df.loc[s1,:]\n",
    "# 多重索引判断\n",
    "# s2=(df['同比']>120) & (df['环比']>=102)\n",
    "# print(df[s2])\n",
    "# s3=(df['同比']>120) | (df['环比']>=101)\n",
    "# print(df[s3])\n",
    "# print(df.loc[s3,:])\n",
    "s4=(df['环比']<102) & (df['同比']>120)\n",
    "print(df.loc[s4,:])"
   ]
  },
  {
   "cell_type": "code",
   "execution_count": 66,
   "metadata": {},
   "outputs": [
    {
     "data": {
      "text/html": [
       "<div>\n",
       "<style scoped>\n",
       "    .dataframe tbody tr th:only-of-type {\n",
       "        vertical-align: middle;\n",
       "    }\n",
       "\n",
       "    .dataframe tbody tr th {\n",
       "        vertical-align: top;\n",
       "    }\n",
       "\n",
       "    .dataframe thead th {\n",
       "        text-align: right;\n",
       "    }\n",
       "</style>\n",
       "<table border=\"1\" class=\"dataframe\">\n",
       "  <thead>\n",
       "    <tr style=\"text-align: right;\">\n",
       "      <th></th>\n",
       "      <th>城市</th>\n",
       "      <th>环比</th>\n",
       "      <th>同比</th>\n",
       "      <th>定基</th>\n",
       "      <th>房价</th>\n",
       "      <th>人口</th>\n",
       "    </tr>\n",
       "  </thead>\n",
       "  <tbody>\n",
       "    <tr>\n",
       "      <th>r1</th>\n",
       "      <td>北京</td>\n",
       "      <td>101.5</td>\n",
       "      <td>120.7</td>\n",
       "      <td>121.4</td>\n",
       "      <td>300</td>\n",
       "      <td>200</td>\n",
       "    </tr>\n",
       "    <tr>\n",
       "      <th>r2</th>\n",
       "      <td>上海</td>\n",
       "      <td>101.2</td>\n",
       "      <td>127.3</td>\n",
       "      <td>127.8</td>\n",
       "      <td>400</td>\n",
       "      <td>400</td>\n",
       "    </tr>\n",
       "    <tr>\n",
       "      <th>r3</th>\n",
       "      <td>广州</td>\n",
       "      <td>101.3</td>\n",
       "      <td>119.4</td>\n",
       "      <td>122.0</td>\n",
       "      <td>200</td>\n",
       "      <td>600</td>\n",
       "    </tr>\n",
       "    <tr>\n",
       "      <th>r4</th>\n",
       "      <td>深圳</td>\n",
       "      <td>102.0</td>\n",
       "      <td>140.9</td>\n",
       "      <td>145.5</td>\n",
       "      <td>100</td>\n",
       "      <td>800</td>\n",
       "    </tr>\n",
       "    <tr>\n",
       "      <th>r5</th>\n",
       "      <td>沈阳</td>\n",
       "      <td>100.1</td>\n",
       "      <td>101.4</td>\n",
       "      <td>101.6</td>\n",
       "      <td>209</td>\n",
       "      <td>234</td>\n",
       "    </tr>\n",
       "    <tr>\n",
       "      <th>r6</th>\n",
       "      <td>杭州</td>\n",
       "      <td>102.3</td>\n",
       "      <td>132.1</td>\n",
       "      <td>123.2</td>\n",
       "      <td>2489</td>\n",
       "      <td>345</td>\n",
       "    </tr>\n",
       "    <tr>\n",
       "      <th>r7</th>\n",
       "      <td>成都</td>\n",
       "      <td>120.0</td>\n",
       "      <td>234.0</td>\n",
       "      <td>1294.0</td>\n",
       "      <td>200</td>\n",
       "      <td>900</td>\n",
       "    </tr>\n",
       "  </tbody>\n",
       "</table>\n",
       "</div>"
      ],
      "text/plain": [
       "    城市     环比     同比      定基    房价   人口\n",
       "r1  北京  101.5  120.7   121.4   300  200\n",
       "r2  上海  101.2  127.3   127.8   400  400\n",
       "r3  广州  101.3  119.4   122.0   200  600\n",
       "r4  深圳  102.0  140.9   145.5   100  800\n",
       "r5  沈阳  100.1  101.4   101.6   209  234\n",
       "r6  杭州  102.3  132.1   123.2  2489  345\n",
       "r7  成都  120.0  234.0  1294.0   200  900"
      ]
     },
     "execution_count": 66,
     "metadata": {},
     "output_type": "execute_result"
    }
   ],
   "source": [
    "# 添加数据和修改数据\n",
    "# df['房价']=[300,400,200,100,209]\n",
    "# df\n",
    "# print(df)\n",
    "# df.loc['r6']=['杭州',102.3,132.1,123.2,2489]\n",
    "# df\n",
    "# df.loc['r7']=['成都',120,234,1294,200]\n",
    "# df\n",
    "df['人口']=[200,400,600,800,234,345,900]\n",
    "df"
   ]
  },
  {
   "cell_type": "code",
   "execution_count": 71,
   "metadata": {},
   "outputs": [
    {
     "name": "stdout",
     "output_type": "stream",
     "text": [
      "   A  B   C   D\n",
      "a  0  1   2   3\n",
      "b  4  5   6   7\n",
      "c  8  9  10  11\n",
      "   A  B   C   D\n",
      "a  0  1   2   3\n",
      "b  4  5   6   7\n",
      "x  8  9  10  11\n",
      "c  8  9  10  11\n"
     ]
    }
   ],
   "source": [
    "# reindex方法改变数据\n",
    "df1=pd.DataFrame(np.arange(12).reshape(3,4),index=list(\"abc\"),columns=list(\"ABCD\"))\n",
    "print(df1)\n",
    "# print(df1.reindex(index=list(\"bca\")))\n",
    "# print(df1.reindex(columns=list(\"DCBA\")))\n",
    "# print(df1.reindex(index=list(\"ca\")))\n",
    "\n",
    "# print(df1.reindex(index=list(\"bcd\")))\n",
    "# print(df1.reindex(index=list(\"bcd\"),fill_value=100))\n",
    "# print(df1.reindex(index=list(\"abxc\"),method=\"ffill\"))\n",
    "print(df1.reindex(index=list(\"abxc\"),method=\"ffill\"))"
   ]
  },
  {
   "cell_type": "code",
   "execution_count": 76,
   "metadata": {},
   "outputs": [
    {
     "data": {
      "text/html": [
       "<div>\n",
       "<style scoped>\n",
       "    .dataframe tbody tr th:only-of-type {\n",
       "        vertical-align: middle;\n",
       "    }\n",
       "\n",
       "    .dataframe tbody tr th {\n",
       "        vertical-align: top;\n",
       "    }\n",
       "\n",
       "    .dataframe thead th {\n",
       "        text-align: right;\n",
       "    }\n",
       "</style>\n",
       "<table border=\"1\" class=\"dataframe\">\n",
       "  <thead>\n",
       "    <tr style=\"text-align: right;\">\n",
       "      <th></th>\n",
       "      <th>A</th>\n",
       "      <th>B</th>\n",
       "      <th>C</th>\n",
       "      <th>D</th>\n",
       "    </tr>\n",
       "  </thead>\n",
       "  <tbody>\n",
       "    <tr>\n",
       "      <th>a</th>\n",
       "      <td>0.0</td>\n",
       "      <td>1.0</td>\n",
       "      <td>2.0</td>\n",
       "      <td>3.0</td>\n",
       "    </tr>\n",
       "    <tr>\n",
       "      <th>b</th>\n",
       "      <td>4.0</td>\n",
       "      <td>5.0</td>\n",
       "      <td>6.0</td>\n",
       "      <td>7.0</td>\n",
       "    </tr>\n",
       "    <tr>\n",
       "      <th>x</th>\n",
       "      <td>1.0</td>\n",
       "      <td>2.0</td>\n",
       "      <td>3.0</td>\n",
       "      <td>4.0</td>\n",
       "    </tr>\n",
       "    <tr>\n",
       "      <th>new</th>\n",
       "      <td>NaN</td>\n",
       "      <td>NaN</td>\n",
       "      <td>NaN</td>\n",
       "      <td>NaN</td>\n",
       "    </tr>\n",
       "    <tr>\n",
       "      <th>new</th>\n",
       "      <td>NaN</td>\n",
       "      <td>NaN</td>\n",
       "      <td>NaN</td>\n",
       "      <td>NaN</td>\n",
       "    </tr>\n",
       "    <tr>\n",
       "      <th>c</th>\n",
       "      <td>8.0</td>\n",
       "      <td>9.0</td>\n",
       "      <td>10.0</td>\n",
       "      <td>11.0</td>\n",
       "    </tr>\n",
       "  </tbody>\n",
       "</table>\n",
       "</div>"
      ],
      "text/plain": [
       "       A    B     C     D\n",
       "a    0.0  1.0   2.0   3.0\n",
       "b    4.0  5.0   6.0   7.0\n",
       "x    1.0  2.0   3.0   4.0\n",
       "new  NaN  NaN   NaN   NaN\n",
       "new  NaN  NaN   NaN   NaN\n",
       "c    8.0  9.0  10.0  11.0"
      ]
     },
     "execution_count": 76,
     "metadata": {},
     "output_type": "execute_result"
    }
   ],
   "source": [
    "# 通过reindex在任意位置插入行/列\n",
    "# df1=df1.reindex(index=list(\"abxc\"))\n",
    "# print(df1)\n",
    "# df1.loc['x']=[1,2,3,4]\n",
    "# print(df1)\n",
    "# new_index=df1.index.insert(3,\"new\")\n",
    "# df1=df1.reindex(index=new_index)\n",
    "df1.loc['x']=[1,2,3,4]\n",
    "df1"
   ]
  },
  {
   "cell_type": "code",
   "execution_count": 85,
   "metadata": {},
   "outputs": [
    {
     "data": {
      "text/html": [
       "<div>\n",
       "<style scoped>\n",
       "    .dataframe tbody tr th:only-of-type {\n",
       "        vertical-align: middle;\n",
       "    }\n",
       "\n",
       "    .dataframe tbody tr th {\n",
       "        vertical-align: top;\n",
       "    }\n",
       "\n",
       "    .dataframe thead th {\n",
       "        text-align: right;\n",
       "    }\n",
       "</style>\n",
       "<table border=\"1\" class=\"dataframe\">\n",
       "  <thead>\n",
       "    <tr style=\"text-align: right;\">\n",
       "      <th></th>\n",
       "      <th>C</th>\n",
       "      <th>D</th>\n",
       "      <th>E</th>\n",
       "    </tr>\n",
       "  </thead>\n",
       "  <tbody>\n",
       "    <tr>\n",
       "      <th>a</th>\n",
       "      <td>2</td>\n",
       "      <td>3</td>\n",
       "      <td>4</td>\n",
       "    </tr>\n",
       "    <tr>\n",
       "      <th>b</th>\n",
       "      <td>7</td>\n",
       "      <td>8</td>\n",
       "      <td>9</td>\n",
       "    </tr>\n",
       "    <tr>\n",
       "      <th>c</th>\n",
       "      <td>12</td>\n",
       "      <td>13</td>\n",
       "      <td>14</td>\n",
       "    </tr>\n",
       "    <tr>\n",
       "      <th>d</th>\n",
       "      <td>17</td>\n",
       "      <td>18</td>\n",
       "      <td>19</td>\n",
       "    </tr>\n",
       "  </tbody>\n",
       "</table>\n",
       "</div>"
      ],
      "text/plain": [
       "    C   D   E\n",
       "a   2   3   4\n",
       "b   7   8   9\n",
       "c  12  13  14\n",
       "d  17  18  19"
      ]
     },
     "execution_count": 85,
     "metadata": {},
     "output_type": "execute_result"
    }
   ],
   "source": [
    "# 删除数据\n",
    "d=pd.DataFrame(np.arange(20).reshape(4,5),index=list('abcd'),columns=list(\"ABCDE\"))\n",
    "# print(d.drop('c'))\n",
    "# print(d.drop(['c','d']))\n",
    "# print(d.drop(d.index[0:2]))\n",
    "# print(d.drop(\"C\",axis=1))\n",
    "# print(d.drop(['C','D'],axis=1))\n",
    "d.drop(['A','B'],axis=\"columns\",inplace=True) #修改原对象\n",
    "d"
   ]
  },
  {
   "cell_type": "code",
   "execution_count": 4,
   "metadata": {},
   "outputs": [
    {
     "name": "stdout",
     "output_type": "stream",
     "text": [
      "    0   1   2   3   4\n",
      "0   0   1   2   3   4\n",
      "1   5   6   7   8   9\n",
      "2  10  11  12  13  14\n",
      "3  15  16  17  18  19\n",
      "       0      1      2      3   4\n",
      "0  100.0  201.0  302.0  403.0 NaN\n",
      "1  105.0  206.0  307.0  408.0 NaN\n",
      "2  110.0  211.0  312.0  413.0 NaN\n",
      "3  115.0  216.0  317.0  418.0 NaN\n",
      "     0    1    2    3    4\n",
      "0  100  101  102  103  104\n",
      "1  205  206  207  208  209\n",
      "2  310  311  312  313  314\n",
      "3  415  416  417  418  419\n"
     ]
    }
   ],
   "source": [
    "# 数算计算\n",
    "a=pd.DataFrame(np.arange(20).reshape(4,5))\n",
    "s=pd.Series([100,200,300,400])\n",
    "print(a)\n",
    "# print(s)\n",
    "# print(a+s)\n",
    "print(a.add(s))\n",
    "print(a.add(s,axis=0))"
   ]
  },
  {
   "cell_type": "code",
   "execution_count": 91,
   "metadata": {},
   "outputs": [
    {
     "name": "stdout",
     "output_type": "stream",
     "text": [
      "     A    B    C    D    E\n",
      "a  100  101  102  103  104\n",
      "b  205  206  207  208  209\n",
      "c  310  311  312  313  314\n",
      "d  415  416  417  418  419\n"
     ]
    }
   ],
   "source": [
    "# 数算计算\n",
    "a=pd.DataFrame(np.arange(20).reshape(4,5),index=list('abcd'),columns=list(\"ABCDE\"))\n",
    "b=pd.DataFrame(np.arange(20).reshape(5,4),index=list('abcde'),columns=list(\"ABCD\"))\n",
    "s=pd.Series([100,200,300,400],index=list('abcd'))\n",
    "# print(a+b)\n",
    "# print(a+s)\n",
    "print(a.add(s,axis=0))"
   ]
  },
  {
   "cell_type": "code",
   "execution_count": 94,
   "metadata": {},
   "outputs": [
    {
     "data": {
      "text/html": [
       "<div>\n",
       "<style scoped>\n",
       "    .dataframe tbody tr th:only-of-type {\n",
       "        vertical-align: middle;\n",
       "    }\n",
       "\n",
       "    .dataframe tbody tr th {\n",
       "        vertical-align: top;\n",
       "    }\n",
       "\n",
       "    .dataframe thead th {\n",
       "        text-align: right;\n",
       "    }\n",
       "</style>\n",
       "<table border=\"1\" class=\"dataframe\">\n",
       "  <thead>\n",
       "    <tr style=\"text-align: right;\">\n",
       "      <th></th>\n",
       "      <th>A</th>\n",
       "      <th>B</th>\n",
       "      <th>C</th>\n",
       "      <th>D</th>\n",
       "      <th>E</th>\n",
       "    </tr>\n",
       "  </thead>\n",
       "  <tbody>\n",
       "    <tr>\n",
       "      <th>a</th>\n",
       "      <td>False</td>\n",
       "      <td>False</td>\n",
       "      <td>False</td>\n",
       "      <td>True</td>\n",
       "      <td>True</td>\n",
       "    </tr>\n",
       "    <tr>\n",
       "      <th>b</th>\n",
       "      <td>True</td>\n",
       "      <td>True</td>\n",
       "      <td>True</td>\n",
       "      <td>True</td>\n",
       "      <td>True</td>\n",
       "    </tr>\n",
       "    <tr>\n",
       "      <th>c</th>\n",
       "      <td>True</td>\n",
       "      <td>True</td>\n",
       "      <td>True</td>\n",
       "      <td>True</td>\n",
       "      <td>True</td>\n",
       "    </tr>\n",
       "    <tr>\n",
       "      <th>d</th>\n",
       "      <td>True</td>\n",
       "      <td>True</td>\n",
       "      <td>True</td>\n",
       "      <td>True</td>\n",
       "      <td>True</td>\n",
       "    </tr>\n",
       "  </tbody>\n",
       "</table>\n",
       "</div>"
      ],
      "text/plain": [
       "       A      B      C     D     E\n",
       "a  False  False  False  True  True\n",
       "b   True   True   True  True  True\n",
       "c   True   True   True  True  True\n",
       "d   True   True   True  True  True"
      ]
     },
     "execution_count": 94,
     "metadata": {},
     "output_type": "execute_result"
    }
   ],
   "source": [
    "# 算术比较\n",
    "a=pd.DataFrame(np.arange(20).reshape(4,5),index=list('abcd'),columns=list(\"ABCDE\"))\n",
    "b=pd.DataFrame(np.arange(-20,0).reshape(4,5),index=list('abcd'),columns=list(\"ABCDE\"))\n",
    "s=pd.Series([4,3,2,1,0],index=list('ABCDE'))\n",
    "a>s"
   ]
  },
  {
   "cell_type": "code",
   "execution_count": 97,
   "metadata": {},
   "outputs": [
    {
     "data": {
      "text/html": [
       "<div>\n",
       "<style scoped>\n",
       "    .dataframe tbody tr th:only-of-type {\n",
       "        vertical-align: middle;\n",
       "    }\n",
       "\n",
       "    .dataframe tbody tr th {\n",
       "        vertical-align: top;\n",
       "    }\n",
       "\n",
       "    .dataframe thead th {\n",
       "        text-align: right;\n",
       "    }\n",
       "</style>\n",
       "<table border=\"1\" class=\"dataframe\">\n",
       "  <thead>\n",
       "    <tr style=\"text-align: right;\">\n",
       "      <th></th>\n",
       "      <th>索隐裂</th>\n",
       "      <th>A</th>\n",
       "      <th>B</th>\n",
       "      <th>C</th>\n",
       "      <th>D</th>\n",
       "      <th>E</th>\n",
       "    </tr>\n",
       "  </thead>\n",
       "  <tbody>\n",
       "    <tr>\n",
       "      <th>0</th>\n",
       "      <td>a</td>\n",
       "      <td>0</td>\n",
       "      <td>1</td>\n",
       "      <td>2</td>\n",
       "      <td>3</td>\n",
       "      <td>4</td>\n",
       "    </tr>\n",
       "    <tr>\n",
       "      <th>1</th>\n",
       "      <td>b</td>\n",
       "      <td>5</td>\n",
       "      <td>6</td>\n",
       "      <td>7</td>\n",
       "      <td>8</td>\n",
       "      <td>9</td>\n",
       "    </tr>\n",
       "    <tr>\n",
       "      <th>2</th>\n",
       "      <td>c</td>\n",
       "      <td>10</td>\n",
       "      <td>11</td>\n",
       "      <td>12</td>\n",
       "      <td>13</td>\n",
       "      <td>14</td>\n",
       "    </tr>\n",
       "    <tr>\n",
       "      <th>3</th>\n",
       "      <td>d</td>\n",
       "      <td>15</td>\n",
       "      <td>16</td>\n",
       "      <td>17</td>\n",
       "      <td>18</td>\n",
       "      <td>19</td>\n",
       "    </tr>\n",
       "  </tbody>\n",
       "</table>\n",
       "</div>"
      ],
      "text/plain": [
       "  索隐裂   A   B   C   D   E\n",
       "0   a   0   1   2   3   4\n",
       "1   b   5   6   7   8   9\n",
       "2   c  10  11  12  13  14\n",
       "3   d  15  16  17  18  19"
      ]
     },
     "execution_count": 97,
     "metadata": {},
     "output_type": "execute_result"
    }
   ],
   "source": [
    "# set_index reset_index\n",
    "a=pd.DataFrame(np.arange(20).reshape(4,5),index=list('abcd'),columns=list(\"ABCDE\"))\n",
    "# a=a.set_index(\"A\")\n",
    "# print(a.index)\n",
    "a.index.name='索隐裂'\n",
    "a.reset_index()"
   ]
  },
  {
   "cell_type": "code",
   "execution_count": 99,
   "metadata": {},
   "outputs": [
    {
     "name": "stdout",
     "output_type": "stream",
     "text": [
      "    E   C   B   D   A\n",
      "a   4   2   1   3   0\n",
      "b   9   7   6   8   5\n",
      "c  14  12  11  13  10\n",
      "d  19  17  16  18  15\n",
      "    A   B   C   D   E\n",
      "d  15  16  17  18  19\n",
      "b   5   6   7   8   9\n",
      "c  10  11  12  13  14\n",
      "a   0   1   2   3   4\n"
     ]
    }
   ],
   "source": [
    "# 数据的排序\n",
    "a=pd.DataFrame(np.arange(20).reshape(4,5),index=list('abcd'),columns=list(\"ABCDE\"))\n",
    "a=a.reindex(index=list(\"dbca\"),columns=list(\"ECBDA\"))\n",
    "print(a.sort_index(axis=0))\n",
    "print(a.sort_index(axis=1))"
   ]
  },
  {
   "cell_type": "code",
   "execution_count": 104,
   "metadata": {},
   "outputs": [
    {
     "name": "stdout",
     "output_type": "stream",
     "text": [
      "    A   B   C   D   E\n",
      "d  15  16  17  18  19\n",
      "b   5   6   7   8   9\n",
      "c  10  11  12  13  14\n",
      "a   0   1   2   3   4\n",
      "    E   D   C   B   A\n",
      "d  19  18  17  16  15\n",
      "b   9   8   7   6   5\n",
      "c  14  13  12  11  10\n",
      "a   4   3   2   1   0\n"
     ]
    }
   ],
   "source": [
    "# print(a.sort_values(by=\"A\",ascending=1))#以单一列进行升序排序\n",
    "# print(a.sort_values(by=\"A\",ascending=0))#以单一列进行升序排序\n",
    "print(a.sort_values(by=\"a\",ascending=1,axis=1))#以单一行进行升序排序\n",
    "print(a.sort_values(by=\"a\",ascending=0,axis=1))#以单一行进行升序排序"
   ]
  },
  {
   "cell_type": "code",
   "execution_count": 106,
   "metadata": {},
   "outputs": [
    {
     "name": "stdout",
     "output_type": "stream",
     "text": [
      "   A  B  C\n",
      "2  2  3  2\n",
      "1  2  2  3\n",
      "3  1  4  1\n",
      "0  1  1  4\n",
      "   A  B  C\n",
      "0  1  1  4\n",
      "3  1  4  1\n",
      "1  2  2  3\n",
      "2  2  3  2\n"
     ]
    }
   ],
   "source": [
    "d=pd.DataFrame({\"A\":[1,2,2,1],\"B\":[1,2,3,4],\"C\":[4,3,2,1]})\n",
    "print(d.sort_values(by=[\"A\",\"C\"],ascending=[0,1]))\n",
    "print(d.sort_values(by=[\"A\",\"C\"],ascending=[True,False]))"
   ]
  }
 ],
 "metadata": {
  "kernelspec": {
   "display_name": "Python 3",
   "language": "python",
   "name": "python3"
  },
  "language_info": {
   "codemirror_mode": {
    "name": "ipython",
    "version": 3
   },
   "file_extension": ".py",
   "mimetype": "text/x-python",
   "name": "python",
   "nbconvert_exporter": "python",
   "pygments_lexer": "ipython3",
   "version": "3.8.3"
  }
 },
 "nbformat": 4,
 "nbformat_minor": 4
}
