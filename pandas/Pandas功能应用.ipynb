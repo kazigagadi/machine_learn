{
 "cells": [
  {
   "cell_type": "code",
   "execution_count": 2,
   "metadata": {},
   "outputs": [],
   "source": [
    "import numpy as np\n",
    "import pandas as pd"
   ]
  },
  {
   "cell_type": "code",
   "execution_count": 2,
   "metadata": {},
   "outputs": [
    {
     "name": "stdout",
     "output_type": "stream",
     "text": [
      "1    A\n",
      "2    B\n",
      "3    C\n",
      "4    D\n",
      "5    E\n",
      "6    F\n",
      "dtype: object\n"
     ]
    }
   ],
   "source": [
    "# 数据拼接\n",
    "ser1=pd.Series(['A','B','C'],index=[1,2,3])\n",
    "ser2=pd.Series(['D','E','F'],index=[4,5,6])\n",
    "print(pd.concat([ser1,ser2]))"
   ]
  },
  {
   "cell_type": "code",
   "execution_count": 5,
   "metadata": {},
   "outputs": [
    {
     "name": "stdout",
     "output_type": "stream",
     "text": [
      "    c   d   e\n",
      "0   2   3   4\n",
      "1   7   8   9\n",
      "2  12  13  14\n",
      "3  17  18  19\n",
      "0   0   1   2\n",
      "1   5   6   7\n",
      "2  10  11  12\n",
      "3  15  16  17\n",
      "      a     b   c   d   e     f     g\n",
      "0   0.0   1.0   2   3   4   NaN   NaN\n",
      "1   5.0   6.0   7   8   9   NaN   NaN\n",
      "2  10.0  11.0  12  13  14   NaN   NaN\n",
      "3  15.0  16.0  17  18  19   NaN   NaN\n",
      "4   NaN   NaN   0   1   2   3.0   4.0\n",
      "5   NaN   NaN   5   6   7   8.0   9.0\n",
      "6   NaN   NaN  10  11  12  13.0  14.0\n",
      "7   NaN   NaN  15  16  17  18.0  19.0\n"
     ]
    }
   ],
   "source": [
    "df1=pd.DataFrame(np.arange(20).reshape(4,5),columns=list(\"abcde\"))\n",
    "df2=pd.DataFrame(np.arange(20).reshape(4,5),columns=list(\"cdefg\"))\n",
    "# print(pd.concat([df1,df2],axis=0))\n",
    "# print(pd.concat([df1,df2],axis=1))\n",
    "print(pd.concat([df1,df2],axis=0,join='inner'))#内连接\n",
    "print(pd.concat([df1,df2],axis=0,ignore_index=True))#自动排序索引"
   ]
  },
  {
   "cell_type": "code",
   "execution_count": 11,
   "metadata": {},
   "outputs": [
    {
     "name": "stdout",
     "output_type": "stream",
     "text": [
      "   cid  cname sname\n",
      "0  001   math    小李\n",
      "1  004      R    小王\n",
      "2  004      R    小东\n",
      "3  005  excel    小李\n",
      "4  005  excel    小东\n",
      "5  005  excel    小黑\n",
      "   cid   cname sname\n",
      "0  001    math    小李\n",
      "1  002  englih   NaN\n",
      "2  003  python   NaN\n",
      "3  004       R    小王\n",
      "4  004       R    小东\n",
      "5  005   excel    小李\n",
      "6  005   excel    小东\n",
      "7  005   excel    小黑\n",
      "   cid   cname sname\n",
      "0  001    math    小李\n",
      "1  002  englih   NaN\n",
      "2  003  python   NaN\n",
      "3  004       R    小王\n",
      "4  004       R    小东\n",
      "5  005   excel    小李\n",
      "6  005   excel    小东\n",
      "7  005   excel    小黑\n",
      "   cid  cname sname\n",
      "0  001   math    小李\n",
      "1  004      R    小王\n",
      "2  004      R    小东\n",
      "3  005  excel    小李\n",
      "4  005  excel    小东\n",
      "5  005  excel    小黑\n"
     ]
    }
   ],
   "source": [
    "# 数据连接merge\n",
    "df1=pd.DataFrame({'cid':['001','002','003','004','005'],\n",
    "                 'cname':['math','englih','python','R','excel']})\n",
    "df2=pd.DataFrame({'cid':['001','005','004','005','004','005'],\n",
    "                 'sname':['小李','小李','小王','小东','小东','小黑']})\n",
    "print(pd.merge(df1,df2,on='cid',how='inner')) #默认内连接\n",
    "print(pd.merge(df1,df2,on='cid',how='outer')) #外连接\n",
    "print(pd.merge(df1,df2,on='cid',how='left')) #左连接\n",
    "print(pd.merge(df1,df2,on='cid',how='right')) #右连接"
   ]
  },
  {
   "cell_type": "code",
   "execution_count": 12,
   "metadata": {},
   "outputs": [
    {
     "name": "stdout",
     "output_type": "stream",
     "text": [
      "   cid  cname classid sname\n",
      "0  001   math     001    小李\n",
      "1  004      R     004    小王\n",
      "2  004      R     004    小东\n",
      "3  005  excel     005    小李\n",
      "4  005  excel     005    小东\n",
      "5  005  excel     005    小黑\n"
     ]
    }
   ],
   "source": [
    "df1=pd.DataFrame({'cid':['001','002','003','004','005'],\n",
    "                 'cname':['math','englih','python','R','excel']})\n",
    "df2=pd.DataFrame({'classid':['001','005','004','005','004','005'],\n",
    "                 'sname':['小李','小李','小王','小东','小东','小黑']})\n",
    "\n",
    "print(pd.merge(df1,df2,left_on='cid',right_on='classid',how='inner')) #默认内连接"
   ]
  },
  {
   "cell_type": "code",
   "execution_count": 14,
   "metadata": {},
   "outputs": [
    {
     "name": "stdout",
     "output_type": "stream",
     "text": [
      "   cname classid sname\n",
      "0   math     001    小李\n",
      "2      R     004    小王\n",
      "4      R     004    小东\n",
      "1  excel     005    小李\n",
      "3  excel     005    小东\n",
      "5  excel     005    小黑\n"
     ]
    }
   ],
   "source": [
    "df1=pd.DataFrame({'cid':['001','002','003','004','005'],\n",
    "                 'cname':['math','englih','python','R','excel']})\n",
    "df2=pd.DataFrame({'classid':['001','005','004','005','004','005'],\n",
    "                 'sname':['小李','小李','小王','小东','小东','小黑']})\n",
    "df1=df1.set_index('cid')\n",
    "print(pd.merge(df1,df2,left_index=True,right_on='classid',how='inner')) #默认内连接"
   ]
  },
  {
   "cell_type": "code",
   "execution_count": 6,
   "metadata": {},
   "outputs": [
    {
     "name": "stdout",
     "output_type": "stream",
     "text": [
      "   A  B  C\n",
      "0  a  1  1\n",
      "1  b  1  1\n",
      "2  c  2  2\n",
      "3  c  2  3\n",
      "4  c  2  2\n",
      "None\n",
      "   A  B  C\n",
      "0  a  1  1\n",
      "1  b  1  1\n",
      "2  c  2  2\n"
     ]
    }
   ],
   "source": [
    "# 去重\n",
    "data=pd.DataFrame({\"A\":['a','b','c','c','c'],'B':[1,1,2,2,2],'C':[1,1,2,3,2]})\n",
    "print(data)\n",
    "# print(data.drop_duplicates(keep='first')) #删除第一次出现以外的重复数据\n",
    "# print(data.drop_duplicates(keep='last'))#删除最后一次出现以外的重复数据\n",
    "# print(data.drop_duplicates(subset=['A'],keep='first'))#删除最后一次出现以外的重复数据\n",
    "# print(data.drop_duplicates(subset=['A','C'],keep='first'))#删除最后一次出现以外的重复数据\n",
    "\n",
    "print(data.drop_duplicates(subset=['A'],keep='first',inplace=True))#修改原对象\n",
    "print(data)\n"
   ]
  },
  {
   "cell_type": "code",
   "execution_count": 34,
   "metadata": {},
   "outputs": [
    {
     "name": "stdout",
     "output_type": "stream",
     "text": [
      "sid\n",
      "A    26\n",
      "B    28\n",
      "C    26\n",
      "Name: age, dtype: int32\n"
     ]
    }
   ],
   "source": [
    "#group by分组\n",
    "\n",
    "df=pd.DataFrame({'sid':list(\"ABCABC\"),'money':range(6),'age':np.random.randint(20,30,6)})\n",
    "# print(df)\n",
    "# print(df.groupby('sid').sum())\n",
    "# print(df.groupby('sid')['money'].sum())\n",
    "# print(df['money'].groupby(df['sid']).sum())\n",
    "print(df.groupby('sid')['age'].mean())"
   ]
  },
  {
   "cell_type": "code",
   "execution_count": 41,
   "metadata": {},
   "outputs": [
    {
     "name": "stdout",
     "output_type": "stream",
     "text": [
      "Sex\n",
      "female    0.742038\n",
      "male      0.188908\n",
      "Name: Survived, dtype: float64\n"
     ]
    }
   ],
   "source": [
    "# 男女性别比例\n",
    "titan=pd.read_csv(r\"F:\\DataAnalysis\\python\\资料\\全日制3班_20200507总结\\数据分析课件\\titanic_train.csv\")\n",
    "# print(titan.head(10))\n",
    "# print(titan.groupby(\"Sex\")[\"Survived\"].sum())\n",
    "# print(titan.groupby(\"Sex\")[\"Survived\"].count())\n",
    "# rate=titan.groupby(\"Sex\")[\"Survived\"].sum()/titan.groupby(\"Sex\")[\"Survived\"].count()\n",
    "# print(rate)\n",
    "print(titan.groupby(\"Sex\")[\"Survived\"].mean())"
   ]
  },
  {
   "cell_type": "code",
   "execution_count": 43,
   "metadata": {},
   "outputs": [
    {
     "name": "stdout",
     "output_type": "stream",
     "text": [
      "Sex     Pclass\n",
      "female  1         0.968085\n",
      "        2         0.921053\n",
      "        3         0.500000\n",
      "male    1         0.368852\n",
      "        2         0.157407\n",
      "        3         0.135447\n",
      "Name: Survived, dtype: float64\n"
     ]
    },
    {
     "data": {
      "text/html": [
       "<div>\n",
       "<style scoped>\n",
       "    .dataframe tbody tr th:only-of-type {\n",
       "        vertical-align: middle;\n",
       "    }\n",
       "\n",
       "    .dataframe tbody tr th {\n",
       "        vertical-align: top;\n",
       "    }\n",
       "\n",
       "    .dataframe thead th {\n",
       "        text-align: right;\n",
       "    }\n",
       "</style>\n",
       "<table border=\"1\" class=\"dataframe\">\n",
       "  <thead>\n",
       "    <tr style=\"text-align: right;\">\n",
       "      <th></th>\n",
       "      <th></th>\n",
       "      <th>PassengerId</th>\n",
       "      <th>Survived</th>\n",
       "      <th>Age</th>\n",
       "      <th>SibSp</th>\n",
       "      <th>Parch</th>\n",
       "      <th>Fare</th>\n",
       "    </tr>\n",
       "    <tr>\n",
       "      <th>Sex</th>\n",
       "      <th>Pclass</th>\n",
       "      <th></th>\n",
       "      <th></th>\n",
       "      <th></th>\n",
       "      <th></th>\n",
       "      <th></th>\n",
       "      <th></th>\n",
       "    </tr>\n",
       "  </thead>\n",
       "  <tbody>\n",
       "    <tr>\n",
       "      <th rowspan=\"3\" valign=\"top\">female</th>\n",
       "      <th>1</th>\n",
       "      <td>469.212766</td>\n",
       "      <td>0.968085</td>\n",
       "      <td>34.611765</td>\n",
       "      <td>0.553191</td>\n",
       "      <td>0.457447</td>\n",
       "      <td>106.125798</td>\n",
       "    </tr>\n",
       "    <tr>\n",
       "      <th>2</th>\n",
       "      <td>443.105263</td>\n",
       "      <td>0.921053</td>\n",
       "      <td>28.722973</td>\n",
       "      <td>0.486842</td>\n",
       "      <td>0.605263</td>\n",
       "      <td>21.970121</td>\n",
       "    </tr>\n",
       "    <tr>\n",
       "      <th>3</th>\n",
       "      <td>399.729167</td>\n",
       "      <td>0.500000</td>\n",
       "      <td>21.750000</td>\n",
       "      <td>0.895833</td>\n",
       "      <td>0.798611</td>\n",
       "      <td>16.118810</td>\n",
       "    </tr>\n",
       "    <tr>\n",
       "      <th rowspan=\"3\" valign=\"top\">male</th>\n",
       "      <th>1</th>\n",
       "      <td>455.729508</td>\n",
       "      <td>0.368852</td>\n",
       "      <td>41.281386</td>\n",
       "      <td>0.311475</td>\n",
       "      <td>0.278689</td>\n",
       "      <td>67.226127</td>\n",
       "    </tr>\n",
       "    <tr>\n",
       "      <th>2</th>\n",
       "      <td>447.962963</td>\n",
       "      <td>0.157407</td>\n",
       "      <td>30.740707</td>\n",
       "      <td>0.342593</td>\n",
       "      <td>0.222222</td>\n",
       "      <td>19.741782</td>\n",
       "    </tr>\n",
       "    <tr>\n",
       "      <th>3</th>\n",
       "      <td>455.515850</td>\n",
       "      <td>0.135447</td>\n",
       "      <td>26.507589</td>\n",
       "      <td>0.498559</td>\n",
       "      <td>0.224784</td>\n",
       "      <td>12.661633</td>\n",
       "    </tr>\n",
       "  </tbody>\n",
       "</table>\n",
       "</div>"
      ],
      "text/plain": [
       "               PassengerId  Survived        Age     SibSp     Parch  \\\n",
       "Sex    Pclass                                                         \n",
       "female 1        469.212766  0.968085  34.611765  0.553191  0.457447   \n",
       "       2        443.105263  0.921053  28.722973  0.486842  0.605263   \n",
       "       3        399.729167  0.500000  21.750000  0.895833  0.798611   \n",
       "male   1        455.729508  0.368852  41.281386  0.311475  0.278689   \n",
       "       2        447.962963  0.157407  30.740707  0.342593  0.222222   \n",
       "       3        455.515850  0.135447  26.507589  0.498559  0.224784   \n",
       "\n",
       "                     Fare  \n",
       "Sex    Pclass              \n",
       "female 1       106.125798  \n",
       "       2        21.970121  \n",
       "       3        16.118810  \n",
       "male   1        67.226127  \n",
       "       2        19.741782  \n",
       "       3        12.661633  "
      ]
     },
     "execution_count": 43,
     "metadata": {},
     "output_type": "execute_result"
    }
   ],
   "source": [
    "print(titan.groupby([\"Sex\",\"Pclass\"])[\"Survived\"].mean())\n",
    "titan.groupby([\"Sex\",\"Pclass\"]).mean()"
   ]
  },
  {
   "cell_type": "code",
   "execution_count": 56,
   "metadata": {},
   "outputs": [
    {
     "name": "stdout",
     "output_type": "stream",
     "text": [
      "Pclass              1         2         3\n",
      "Sex    年龄划分                              \n",
      "female 小     0.931034  0.933333  0.514706\n",
      "       中     0.978723  0.926829  0.333333\n",
      "       老     1.000000  0.666667  1.000000\n",
      "male   小     0.533333  0.270270  0.157143\n",
      "       中     0.453125  0.075472  0.149533\n",
      "       老     0.136364  0.111111  0.000000\n",
      "Pclass        1   2   3\n",
      "Sex    年龄划分            \n",
      "female 小     27  28  35\n",
      "       中     46  38  11\n",
      "       老      9   2   1\n",
      "male   小      8  10  22\n",
      "       中     29   4  16\n",
      "       老      3   1   0\n"
     ]
    }
   ],
   "source": [
    "print(titan.pivot_table(\"Survived\",index=[\"Sex\",\"年龄划分\"],columns=\"Pclass\",aggfunc=\"mean\"))\n",
    "print(titan.pivot_table(\"Survived\",index=[\"Sex\",\"年龄划分\"],columns=\"Pclass\",aggfunc=\"sum\"))"
   ]
  },
  {
   "cell_type": "code",
   "execution_count": 53,
   "metadata": {},
   "outputs": [
    {
     "name": "stdout",
     "output_type": "stream",
     "text": [
      "male      577\n",
      "female    314\n",
      "Name: Sex, dtype: int64\n"
     ]
    },
    {
     "data": {
      "text/plain": [
       "b    346\n",
       "c    188\n",
       "a    100\n",
       "d     69\n",
       "e     11\n",
       "Name: Age, dtype: int64"
      ]
     },
     "execution_count": 53,
     "metadata": {},
     "output_type": "execute_result"
    }
   ],
   "source": [
    "# 对数据进行分组\n",
    "# titan['Age']\n",
    "print(titan['Sex'].value_counts())\n",
    "pct=pd.cut(titan['Age'],3)\n",
    "# pct.value_counts()\n",
    "pct=pd.cut(titan['Age'],5,labels=list('abcde'))\n",
    "pct.value_counts()"
   ]
  },
  {
   "cell_type": "code",
   "execution_count": 59,
   "metadata": {},
   "outputs": [
    {
     "name": "stderr",
     "output_type": "stream",
     "text": [
      "D:\\Program Files\\anaconda3\\lib\\site-packages\\pandas\\core\\indexing.py:966: SettingWithCopyWarning: \n",
      "A value is trying to be set on a copy of a slice from a DataFrame.\n",
      "Try using .loc[row_indexer,col_indexer] = value instead\n",
      "\n",
      "See the caveats in the documentation: https://pandas.pydata.org/pandas-docs/stable/user_guide/indexing.html#returning-a-view-versus-a-copy\n",
      "  self.obj[item] = s\n"
     ]
    },
    {
     "data": {
      "text/html": [
       "<div>\n",
       "<style scoped>\n",
       "    .dataframe tbody tr th:only-of-type {\n",
       "        vertical-align: middle;\n",
       "    }\n",
       "\n",
       "    .dataframe tbody tr th {\n",
       "        vertical-align: top;\n",
       "    }\n",
       "\n",
       "    .dataframe thead th {\n",
       "        text-align: right;\n",
       "    }\n",
       "</style>\n",
       "<table border=\"1\" class=\"dataframe\">\n",
       "  <thead>\n",
       "    <tr style=\"text-align: right;\">\n",
       "      <th></th>\n",
       "      <th>PassengerId</th>\n",
       "      <th>Survived</th>\n",
       "      <th>Pclass</th>\n",
       "      <th>Name</th>\n",
       "      <th>Sex</th>\n",
       "      <th>Age</th>\n",
       "      <th>SibSp</th>\n",
       "      <th>Parch</th>\n",
       "      <th>Ticket</th>\n",
       "      <th>Fare</th>\n",
       "      <th>Cabin</th>\n",
       "      <th>Embarked</th>\n",
       "      <th>年龄划分</th>\n",
       "    </tr>\n",
       "  </thead>\n",
       "  <tbody>\n",
       "    <tr>\n",
       "      <th>0</th>\n",
       "      <td>1</td>\n",
       "      <td>0</td>\n",
       "      <td>3</td>\n",
       "      <td>Braund, Mr. Owen Harris</td>\n",
       "      <td>male</td>\n",
       "      <td>22.0</td>\n",
       "      <td>1</td>\n",
       "      <td>0</td>\n",
       "      <td>A/5 21171</td>\n",
       "      <td>7.2500</td>\n",
       "      <td>NaN</td>\n",
       "      <td>S</td>\n",
       "      <td>小</td>\n",
       "    </tr>\n",
       "    <tr>\n",
       "      <th>1</th>\n",
       "      <td>2</td>\n",
       "      <td>1</td>\n",
       "      <td>1</td>\n",
       "      <td>Cumings, Mrs. John Bradley (Florence Briggs Th...</td>\n",
       "      <td>female</td>\n",
       "      <td>38.0</td>\n",
       "      <td>1</td>\n",
       "      <td>0</td>\n",
       "      <td>PC 17599</td>\n",
       "      <td>71.2833</td>\n",
       "      <td>C85</td>\n",
       "      <td>C</td>\n",
       "      <td>中</td>\n",
       "    </tr>\n",
       "    <tr>\n",
       "      <th>2</th>\n",
       "      <td>3</td>\n",
       "      <td>1</td>\n",
       "      <td>3</td>\n",
       "      <td>Heikkinen, Miss. Laina</td>\n",
       "      <td>female</td>\n",
       "      <td>26.0</td>\n",
       "      <td>0</td>\n",
       "      <td>0</td>\n",
       "      <td>STON/O2. 3101282</td>\n",
       "      <td>7.9250</td>\n",
       "      <td>NaN</td>\n",
       "      <td>S</td>\n",
       "      <td>小</td>\n",
       "    </tr>\n",
       "    <tr>\n",
       "      <th>3</th>\n",
       "      <td>4</td>\n",
       "      <td>1</td>\n",
       "      <td>1</td>\n",
       "      <td>Futrelle, Mrs. Jacques Heath (Lily May Peel)</td>\n",
       "      <td>female</td>\n",
       "      <td>35.0</td>\n",
       "      <td>1</td>\n",
       "      <td>0</td>\n",
       "      <td>113803</td>\n",
       "      <td>53.1000</td>\n",
       "      <td>C123</td>\n",
       "      <td>S</td>\n",
       "      <td>中</td>\n",
       "    </tr>\n",
       "    <tr>\n",
       "      <th>4</th>\n",
       "      <td>5</td>\n",
       "      <td>0</td>\n",
       "      <td>3</td>\n",
       "      <td>Allen, Mr. William Henry</td>\n",
       "      <td>male</td>\n",
       "      <td>35.0</td>\n",
       "      <td>0</td>\n",
       "      <td>0</td>\n",
       "      <td>373450</td>\n",
       "      <td>8.0500</td>\n",
       "      <td>NaN</td>\n",
       "      <td>S</td>\n",
       "      <td>中</td>\n",
       "    </tr>\n",
       "    <tr>\n",
       "      <th>...</th>\n",
       "      <td>...</td>\n",
       "      <td>...</td>\n",
       "      <td>...</td>\n",
       "      <td>...</td>\n",
       "      <td>...</td>\n",
       "      <td>...</td>\n",
       "      <td>...</td>\n",
       "      <td>...</td>\n",
       "      <td>...</td>\n",
       "      <td>...</td>\n",
       "      <td>...</td>\n",
       "      <td>...</td>\n",
       "      <td>...</td>\n",
       "    </tr>\n",
       "    <tr>\n",
       "      <th>886</th>\n",
       "      <td>887</td>\n",
       "      <td>0</td>\n",
       "      <td>2</td>\n",
       "      <td>Montvila, Rev. Juozas</td>\n",
       "      <td>male</td>\n",
       "      <td>27.0</td>\n",
       "      <td>0</td>\n",
       "      <td>0</td>\n",
       "      <td>211536</td>\n",
       "      <td>13.0000</td>\n",
       "      <td>NaN</td>\n",
       "      <td>S</td>\n",
       "      <td>中</td>\n",
       "    </tr>\n",
       "    <tr>\n",
       "      <th>887</th>\n",
       "      <td>888</td>\n",
       "      <td>1</td>\n",
       "      <td>1</td>\n",
       "      <td>Graham, Miss. Margaret Edith</td>\n",
       "      <td>female</td>\n",
       "      <td>19.0</td>\n",
       "      <td>0</td>\n",
       "      <td>0</td>\n",
       "      <td>112053</td>\n",
       "      <td>30.0000</td>\n",
       "      <td>B42</td>\n",
       "      <td>S</td>\n",
       "      <td>小</td>\n",
       "    </tr>\n",
       "    <tr>\n",
       "      <th>888</th>\n",
       "      <td>889</td>\n",
       "      <td>0</td>\n",
       "      <td>3</td>\n",
       "      <td>Johnston, Miss. Catherine Helen \"Carrie\"</td>\n",
       "      <td>female</td>\n",
       "      <td>NaN</td>\n",
       "      <td>1</td>\n",
       "      <td>2</td>\n",
       "      <td>W./C. 6607</td>\n",
       "      <td>23.4500</td>\n",
       "      <td>NaN</td>\n",
       "      <td>S</td>\n",
       "      <td>NaN</td>\n",
       "    </tr>\n",
       "    <tr>\n",
       "      <th>889</th>\n",
       "      <td>890</td>\n",
       "      <td>1</td>\n",
       "      <td>1</td>\n",
       "      <td>Behr, Mr. Karl Howell</td>\n",
       "      <td>male</td>\n",
       "      <td>26.0</td>\n",
       "      <td>0</td>\n",
       "      <td>0</td>\n",
       "      <td>111369</td>\n",
       "      <td>30.0000</td>\n",
       "      <td>C148</td>\n",
       "      <td>C</td>\n",
       "      <td>小</td>\n",
       "    </tr>\n",
       "    <tr>\n",
       "      <th>890</th>\n",
       "      <td>891</td>\n",
       "      <td>0</td>\n",
       "      <td>3</td>\n",
       "      <td>Dooley, Mr. Patrick</td>\n",
       "      <td>male</td>\n",
       "      <td>32.0</td>\n",
       "      <td>0</td>\n",
       "      <td>0</td>\n",
       "      <td>370376</td>\n",
       "      <td>7.7500</td>\n",
       "      <td>NaN</td>\n",
       "      <td>Q</td>\n",
       "      <td>中</td>\n",
       "    </tr>\n",
       "  </tbody>\n",
       "</table>\n",
       "<p>891 rows × 13 columns</p>\n",
       "</div>"
      ],
      "text/plain": [
       "     PassengerId  Survived  Pclass  \\\n",
       "0              1         0       3   \n",
       "1              2         1       1   \n",
       "2              3         1       3   \n",
       "3              4         1       1   \n",
       "4              5         0       3   \n",
       "..           ...       ...     ...   \n",
       "886          887         0       2   \n",
       "887          888         1       1   \n",
       "888          889         0       3   \n",
       "889          890         1       1   \n",
       "890          891         0       3   \n",
       "\n",
       "                                                  Name     Sex   Age  SibSp  \\\n",
       "0                              Braund, Mr. Owen Harris    male  22.0      1   \n",
       "1    Cumings, Mrs. John Bradley (Florence Briggs Th...  female  38.0      1   \n",
       "2                               Heikkinen, Miss. Laina  female  26.0      0   \n",
       "3         Futrelle, Mrs. Jacques Heath (Lily May Peel)  female  35.0      1   \n",
       "4                             Allen, Mr. William Henry    male  35.0      0   \n",
       "..                                                 ...     ...   ...    ...   \n",
       "886                              Montvila, Rev. Juozas    male  27.0      0   \n",
       "887                       Graham, Miss. Margaret Edith  female  19.0      0   \n",
       "888           Johnston, Miss. Catherine Helen \"Carrie\"  female   NaN      1   \n",
       "889                              Behr, Mr. Karl Howell    male  26.0      0   \n",
       "890                                Dooley, Mr. Patrick    male  32.0      0   \n",
       "\n",
       "     Parch            Ticket     Fare Cabin Embarked 年龄划分  \n",
       "0        0         A/5 21171   7.2500   NaN        S    小  \n",
       "1        0          PC 17599  71.2833   C85        C    中  \n",
       "2        0  STON/O2. 3101282   7.9250   NaN        S    小  \n",
       "3        0            113803  53.1000  C123        S    中  \n",
       "4        0            373450   8.0500   NaN        S    中  \n",
       "..     ...               ...      ...   ...      ...  ...  \n",
       "886      0            211536  13.0000   NaN        S    中  \n",
       "887      0            112053  30.0000   B42        S    小  \n",
       "888      2        W./C. 6607  23.4500   NaN        S  NaN  \n",
       "889      0            111369  30.0000  C148        C    小  \n",
       "890      0            370376   7.7500   NaN        Q    中  \n",
       "\n",
       "[891 rows x 13 columns]"
      ]
     },
     "execution_count": 59,
     "metadata": {},
     "output_type": "execute_result"
    }
   ],
   "source": [
    "# titan['年龄划分']=pd.cut(titan['Age'],3,labels=['小','中','老'])\n",
    "index=titan['年龄划分'].isna()\n",
    "# titan[index]['Age']=np.mean(titan['Age'])\n",
    "titan[index].loc[index,'Age']=0\n",
    "titan\n"
   ]
  },
  {
   "cell_type": "code",
   "execution_count": 61,
   "metadata": {},
   "outputs": [
    {
     "name": "stdout",
     "output_type": "stream",
     "text": [
      "[(0.993, 3.333], (0.993, 3.333], (5.667, 8.0], (5.667, 8.0], (0.993, 3.333], (5.667, 8.0], (0.993, 3.333], (5.667, 8.0], (5.667, 8.0], (3.333, 5.667]]\n",
      "Categories (3, interval[float64]): [(0.993, 3.333] < (3.333, 5.667] < (5.667, 8.0]]\n",
      "[a, a, c, c, a, c, a, c, c, b]\n",
      "Categories (3, object): [a < b < c]\n",
      "[(-1, 5], (-1, 5], (5, 9], (5, 9], (-1, 5], (5, 9], (-1, 5], (5, 9], (5, 9], (-1, 5]]\n",
      "Categories (2, interval[int64]): [(-1, 5] < (5, 9]]\n"
     ]
    }
   ],
   "source": [
    "factord=np.random.randint(0,10,10)\n",
    "print(pd.cut(factord,3))\n",
    "print(pd.cut(factord,3,labels=['a','b','c']))\n",
    "print(pd.cut(factord,[-1,5,9]))"
   ]
  },
  {
   "cell_type": "code",
   "execution_count": 66,
   "metadata": {},
   "outputs": [
    {
     "name": "stdout",
     "output_type": "stream",
     "text": [
      "[b, c, b, a, b, ..., b, a, a, a, a]\n",
      "Length: 100\n",
      "Categories (3, object): [a < b < c]\n"
     ]
    }
   ],
   "source": [
    "fac=np.random.randint(0,100,100)\n",
    "# qct=pd.qcut(fac,3)\n",
    "# qct.value_counts()\n",
    "print(pd.qcut(fac,3,labels=['a','b','c']))"
   ]
  },
  {
   "cell_type": "code",
   "execution_count": 67,
   "metadata": {},
   "outputs": [
    {
     "data": {
      "text/html": [
       "<div>\n",
       "<style scoped>\n",
       "    .dataframe tbody tr th:only-of-type {\n",
       "        vertical-align: middle;\n",
       "    }\n",
       "\n",
       "    .dataframe tbody tr th {\n",
       "        vertical-align: top;\n",
       "    }\n",
       "\n",
       "    .dataframe thead th {\n",
       "        text-align: right;\n",
       "    }\n",
       "</style>\n",
       "<table border=\"1\" class=\"dataframe\">\n",
       "  <thead>\n",
       "    <tr style=\"text-align: right;\">\n",
       "      <th></th>\n",
       "      <th>城市</th>\n",
       "      <th>环比</th>\n",
       "      <th>同比</th>\n",
       "      <th>定基</th>\n",
       "    </tr>\n",
       "  </thead>\n",
       "  <tbody>\n",
       "    <tr>\n",
       "      <th>0</th>\n",
       "      <td>北京</td>\n",
       "      <td>101.5</td>\n",
       "      <td>120.7</td>\n",
       "      <td>121.4</td>\n",
       "    </tr>\n",
       "    <tr>\n",
       "      <th>1</th>\n",
       "      <td>上海</td>\n",
       "      <td>101.2</td>\n",
       "      <td>127.3</td>\n",
       "      <td>127.8</td>\n",
       "    </tr>\n",
       "    <tr>\n",
       "      <th>2</th>\n",
       "      <td>广州</td>\n",
       "      <td>101.3</td>\n",
       "      <td>119.4</td>\n",
       "      <td>122.0</td>\n",
       "    </tr>\n",
       "    <tr>\n",
       "      <th>3</th>\n",
       "      <td>深圳</td>\n",
       "      <td>102.0</td>\n",
       "      <td>140.9</td>\n",
       "      <td>145.5</td>\n",
       "    </tr>\n",
       "    <tr>\n",
       "      <th>4</th>\n",
       "      <td>沈阳</td>\n",
       "      <td>100.1</td>\n",
       "      <td>101.4</td>\n",
       "      <td>101.6</td>\n",
       "    </tr>\n",
       "  </tbody>\n",
       "</table>\n",
       "</div>"
      ],
      "text/plain": [
       "   城市     环比     同比     定基\n",
       "0  北京  101.5  120.7  121.4\n",
       "1  上海  101.2  127.3  127.8\n",
       "2  广州  101.3  119.4  122.0\n",
       "3  深圳  102.0  140.9  145.5\n",
       "4  沈阳  100.1  101.4  101.6"
      ]
     },
     "execution_count": 67,
     "metadata": {},
     "output_type": "execute_result"
    }
   ],
   "source": [
    "# 缺失值处理\n",
    "data={'城市':['北京','上海','广州','深圳','沈阳'],\n",
    "    '环比':[101.5,101.2,101.3,102.,100.1],\n",
    "    '同比':[120.7,127.3,119.4,140.9,101.4],\n",
    "    '定基':[121.4,127.8,122.0,145.5,101.6]}\n",
    "df=pd.DataFrame(data)\n",
    "df.dropna() #删除缺失值行\n",
    "df.dropna(axis=1) #删除缺失值列\n",
    "df.dropna(how='any') #any出现任意缺失值  all 所有缺失值\n",
    "df.dropna(subset=[\"同比\",\"定基\"])#subset指定列进行缺失值检测"
   ]
  },
  {
   "cell_type": "code",
   "execution_count": 70,
   "metadata": {},
   "outputs": [
    {
     "data": {
      "text/html": [
       "<div>\n",
       "<style scoped>\n",
       "    .dataframe tbody tr th:only-of-type {\n",
       "        vertical-align: middle;\n",
       "    }\n",
       "\n",
       "    .dataframe tbody tr th {\n",
       "        vertical-align: top;\n",
       "    }\n",
       "\n",
       "    .dataframe thead th {\n",
       "        text-align: right;\n",
       "    }\n",
       "</style>\n",
       "<table border=\"1\" class=\"dataframe\">\n",
       "  <thead>\n",
       "    <tr style=\"text-align: right;\">\n",
       "      <th></th>\n",
       "      <th>城市</th>\n",
       "      <th>环比</th>\n",
       "      <th>同比</th>\n",
       "      <th>定基</th>\n",
       "    </tr>\n",
       "  </thead>\n",
       "  <tbody>\n",
       "    <tr>\n",
       "      <th>0</th>\n",
       "      <td>北京</td>\n",
       "      <td>101.5</td>\n",
       "      <td>120.7</td>\n",
       "      <td>121.4</td>\n",
       "    </tr>\n",
       "    <tr>\n",
       "      <th>1</th>\n",
       "      <td>上海</td>\n",
       "      <td>101.2</td>\n",
       "      <td>127.3</td>\n",
       "      <td>127.8</td>\n",
       "    </tr>\n",
       "    <tr>\n",
       "      <th>2</th>\n",
       "      <td>广州</td>\n",
       "      <td>101.3</td>\n",
       "      <td>119.4</td>\n",
       "      <td>122.0</td>\n",
       "    </tr>\n",
       "    <tr>\n",
       "      <th>3</th>\n",
       "      <td>深圳</td>\n",
       "      <td>102.0</td>\n",
       "      <td>140.9</td>\n",
       "      <td>145.5</td>\n",
       "    </tr>\n",
       "    <tr>\n",
       "      <th>4</th>\n",
       "      <td>沈阳</td>\n",
       "      <td>100.1</td>\n",
       "      <td>101.4</td>\n",
       "      <td>101.6</td>\n",
       "    </tr>\n",
       "  </tbody>\n",
       "</table>\n",
       "</div>"
      ],
      "text/plain": [
       "   城市     环比     同比     定基\n",
       "0  北京  101.5  120.7  121.4\n",
       "1  上海  101.2  127.3  127.8\n",
       "2  广州  101.3  119.4  122.0\n",
       "3  深圳  102.0  140.9  145.5\n",
       "4  沈阳  100.1  101.4  101.6"
      ]
     },
     "execution_count": 70,
     "metadata": {},
     "output_type": "execute_result"
    }
   ],
   "source": [
    "# 填充缺失值\n",
    "# print(df)\n",
    "# print(df['同比'].fillna(0))#填充标量值\n",
    "# print(df['同比'].fillna(method='ffill'))#填充向上\n",
    "# print(df['同比'].fillna(method='bfill'))#填充标向下\n",
    "# print(df.fillna({'同比':df['同比'].mean()})#对每个字段设置填充方法\n",
    "df.loc[df['城市'].isna(),'城市']='未知'\n",
    "df"
   ]
  },
  {
   "cell_type": "code",
   "execution_count": 71,
   "metadata": {},
   "outputs": [
    {
     "data": {
      "text/plain": [
       "<bound method DataFrame.info of    城市     环比     同比     定基\n",
       "0  北京  101.5  120.7  121.4\n",
       "1  上海  101.2  127.3  127.8\n",
       "2  广州  101.3  119.4  122.0\n",
       "3  深圳  102.0  140.9  145.5\n",
       "4  沈阳  100.1  101.4  101.6>"
      ]
     },
     "execution_count": 71,
     "metadata": {},
     "output_type": "execute_result"
    }
   ],
   "source": [
    "df.info\n"
   ]
  },
  {
   "cell_type": "code",
   "execution_count": 72,
   "metadata": {},
   "outputs": [
    {
     "name": "stdout",
     "output_type": "stream",
     "text": [
      "['q', 'b', 'c']\n",
      "A1    a,b,c\n",
      "A2    d,e,f\n",
      "A3    h,i,j\n",
      "dtype: object\n"
     ]
    }
   ],
   "source": [
    "# 字符串向量化处理\n",
    "string='q,b,c'\n",
    "print(string.split(\",\"))\n",
    "ser=pd.Series(['a,b,c','d,e,f','h,i,j'],index=['A1',\"A2\",\"A3\"])\n",
    "print(ser)"
   ]
  },
  {
   "cell_type": "code",
   "execution_count": 91,
   "metadata": {},
   "outputs": [
    {
     "name": "stdout",
     "output_type": "stream",
     "text": [
      "0    Bra\n",
      "1    Cum\n",
      "2    Hei\n",
      "3    Fut\n",
      "4    All\n",
      "Name: Name, dtype: object\n",
      "0    r\n",
      "1    u\n",
      "2    e\n",
      "3    u\n",
      "4    l\n",
      "Name: Name, dtype: object\n"
     ]
    }
   ],
   "source": [
    "# titan\n",
    "# print(titan['Name'])\n",
    "# print(titan['Name'].str.len())\n",
    "# print(titan['Name'].str.lower())\n",
    "# print(titan['Name'].str.upper().head(5))\n",
    "# print(titan['Name'].str.startswith(\"B\").head(5))\n",
    "# print(titan['Name'].str.endswith(\"s\").head(5))\n",
    "# print(titan['Name'].str.split(\",\").head(5))\n",
    "titan['trip']='-----strip函数-----'\n",
    "# titan.head(5)\n",
    "# print(titan['trip'].str.strip(\"-\").head(5))\n",
    "# print(titan['Name'].str[:3].head(5))\n",
    "# print(titan['Name'].str.get(1).head(5))#获取指定索引位置的元素\n",
    "\n",
    "\n"
   ]
  },
  {
   "cell_type": "code",
   "execution_count": 98,
   "metadata": {},
   "outputs": [
    {
     "name": "stdout",
     "output_type": "stream",
     "text": [
      "0                              Braund;;Mr.;Owen;Harris\n",
      "1    Cumings;;Mrs.;John;Bradley;(Florence;Briggs;Th...\n",
      "2                               Heikkinen;;Miss.;Laina\n",
      "3         Futrelle;;Mrs.;Jacques;Heath;(Lily;May;Peel)\n",
      "4                             Allen;;Mr.;William;Henry\n",
      "Name: Name, dtype: object\n"
     ]
    }
   ],
   "source": [
    "# 基于正则表达式字符串向量化方法\n",
    "# print(titan['Name'].str.extract(\"(\\w+)\").head(5))\n",
    "# print(titan['Name'].str.match(\"(\\w+)\").head(5))\n",
    "# print(titan['Name'].str.replace(\"(\\w+)\",\"QQ\").head(5))\n",
    "# print(titan['Name'].str.count(\"(\\w+)\").head(5))\n",
    "# print(titan['Name'].str.split(\"[,\\s]\").head(5))\n",
    "print(titan['Name'].str.split(\"[,|\\s+]\").str.join(\";\").head(5))"
   ]
  },
  {
   "cell_type": "code",
   "execution_count": 103,
   "metadata": {},
   "outputs": [
    {
     "data": {
      "text/plain": [
       "0      Bra\n",
       "1      Cum\n",
       "2      Hei\n",
       "3      Fut\n",
       "4      All\n",
       "      ... \n",
       "886    Mon\n",
       "887    Gra\n",
       "888    Joh\n",
       "889    Beh\n",
       "890    Doo\n",
       "Name: Name, Length: 891, dtype: object"
      ]
     },
     "execution_count": 103,
     "metadata": {},
     "output_type": "execute_result"
    }
   ],
   "source": [
    "titan['Name'].map(lambda x:x.lower())\n",
    "titan['Name'].map(lambda x:x[:3])\n",
    "# num=[1,2,3,4,5]\n",
    "\n",
    "# list(map(lambda x:x**2,num))"
   ]
  },
  {
   "cell_type": "code",
   "execution_count": 105,
   "metadata": {},
   "outputs": [
    {
     "data": {
      "text/plain": [
       "0      未生还\n",
       "1       生还\n",
       "2       生还\n",
       "3       生还\n",
       "4      未生还\n",
       "      ... \n",
       "886    未生还\n",
       "887     生还\n",
       "888    未生还\n",
       "889     生还\n",
       "890    未生还\n",
       "Name: Survived, Length: 891, dtype: object"
      ]
     },
     "execution_count": 105,
     "metadata": {},
     "output_type": "execute_result"
    }
   ],
   "source": [
    "# titan.head()\n",
    "def change(data):\n",
    "    if data==0:\n",
    "        return \"未生还\"\n",
    "    else:\n",
    "        return \"生还\"\n",
    "titan['Survived'].map(change)"
   ]
  },
  {
   "cell_type": "code",
   "execution_count": 115,
   "metadata": {},
   "outputs": [
    {
     "name": "stdout",
     "output_type": "stream",
     "text": [
      "   A  B   C   D\n",
      "a  0  1   2   3\n",
      "b  4  5   6   7\n",
      "c  8  9  10  11\n",
      "A    4\n",
      "B    4\n",
      "C    4\n",
      "D    4\n",
      "dtype: int64\n"
     ]
    }
   ],
   "source": [
    "#apply函数\n",
    "a=pd.DataFrame(np.arange(12).reshape(3,4),index=list(\"abc\"),columns=list(\"ABCD\"))\n",
    "print(a)\n",
    "# print(a.apply(sum))\n",
    "# print(a.apply(np.mean))\n",
    "# print(a.apply(sum,axis=1))\n",
    "# print(a.apply(np.mean,axis=1))\n",
    "def f(data):\n",
    "#     print(data,type(data))\n",
    "    return data[\"c\"]-data[\"b\"]\n",
    "print(a.apply(f,axis=0))"
   ]
  },
  {
   "cell_type": "code",
   "execution_count": 130,
   "metadata": {},
   "outputs": [
    {
     "name": "stdout",
     "output_type": "stream",
     "text": [
      "    A   B   C   D   E\n",
      "0  44  47  64  67  67\n",
      "1   9  83  21  36  87\n",
      "2  70  88  88  12  58\n",
      "3  65  39  87  46  88\n",
      "4  81  37  25  77  72\n",
      "5   9  20  80  69  79\n",
      "6  47  64  82  99  88\n",
      "7  49  29  19  19  14\n",
      "8  39  32  65   9  57\n",
      "9  32  31  74  23  35\n",
      "4    81\n",
      "2    70\n",
      "3    65\n",
      "7    49\n",
      "6    47\n",
      "0    44\n",
      "8    39\n",
      "9    32\n",
      "5     9\n",
      "1     9\n",
      "Name: A, dtype: int32\n",
      "2    88\n",
      "1    83\n",
      "6    64\n",
      "0    47\n",
      "3    39\n",
      "4    37\n",
      "8    32\n",
      "9    31\n",
      "7    29\n",
      "5    20\n",
      "Name: B, dtype: int32\n",
      "2    88\n",
      "3    87\n",
      "6    82\n",
      "5    80\n",
      "9    74\n",
      "8    65\n",
      "0    64\n",
      "4    25\n",
      "1    21\n",
      "7    19\n",
      "Name: C, dtype: int32\n",
      "6    99\n",
      "4    77\n",
      "5    69\n",
      "0    67\n",
      "3    46\n",
      "1    36\n",
      "9    23\n",
      "7    19\n",
      "2    12\n",
      "8     9\n",
      "Name: D, dtype: int32\n",
      "6    88\n",
      "3    88\n",
      "1    87\n",
      "5    79\n",
      "4    72\n",
      "0    67\n",
      "2    58\n",
      "8    57\n",
      "9    35\n",
      "7    14\n",
      "Name: E, dtype: int32\n",
      "A    16\n",
      "B    17\n",
      "C     2\n",
      "D     2\n",
      "E     8\n",
      "dtype: int64\n"
     ]
    }
   ],
   "source": [
    "np.random.seed(0)\n",
    "df=pd.DataFrame(np.random.randint(0,100,50).reshape(10,5),columns=list(\"ABCDE\"))\n",
    "print(df)\n",
    "def f(data):\n",
    "    da=data.sort_values(ascending=False)\n",
    "    print(da)\n",
    "#     print(data.sort_values(ascending=False)[3])\n",
    "    return da.iloc[2]-da.iloc[3]\n",
    "print(df.apply(f,axis=0))\n"
   ]
  },
  {
   "cell_type": "code",
   "execution_count": 137,
   "metadata": {},
   "outputs": [
    {
     "name": "stdout",
     "output_type": "stream",
     "text": [
      "  Unnamed: 0  1  2  3  4  5  6  7  8  9 10 11 12\n",
      "0         张三  早  休  早  早  休  早  早  休  早  早  休  早\n",
      "1         李四  休  早  休  早  早  休  早  早  休  早  早  休\n",
      "2         王五  正  正  休  休  正  正  正  正  正  早  早  正\n",
      "3         刘七  早  早  早  休  早  休  早  早  休  休  早  早\n",
      "4        赵老一  早  休  早  早  休  早  休  早  休  早  早  休\n",
      "5         糊糊  休  早  休  早  早  休  早  早  休  早  休  早\n"
     ]
    },
    {
     "name": "stderr",
     "output_type": "stream",
     "text": [
      "<ipython-input-137-a3cca34293df>:7: DeprecationWarning: The default dtype for empty Series will be 'object' instead of 'float64' in a future version. Specify a dtype explicitly to silence this warning.\n",
      "  return pd.Series(list(data.index[zb]))\n"
     ]
    },
    {
     "data": {
      "text/html": [
       "<div>\n",
       "<style scoped>\n",
       "    .dataframe tbody tr th:only-of-type {\n",
       "        vertical-align: middle;\n",
       "    }\n",
       "\n",
       "    .dataframe tbody tr th {\n",
       "        vertical-align: top;\n",
       "    }\n",
       "\n",
       "    .dataframe thead th {\n",
       "        text-align: right;\n",
       "    }\n",
       "</style>\n",
       "<table border=\"1\" class=\"dataframe\">\n",
       "  <thead>\n",
       "    <tr style=\"text-align: right;\">\n",
       "      <th></th>\n",
       "      <th>Unnamed: 0</th>\n",
       "      <th>1</th>\n",
       "      <th>2</th>\n",
       "      <th>3</th>\n",
       "      <th>4</th>\n",
       "      <th>5</th>\n",
       "      <th>6</th>\n",
       "      <th>7</th>\n",
       "      <th>8</th>\n",
       "      <th>9</th>\n",
       "      <th>10</th>\n",
       "      <th>11</th>\n",
       "      <th>12</th>\n",
       "    </tr>\n",
       "  </thead>\n",
       "  <tbody>\n",
       "    <tr>\n",
       "      <th>0</th>\n",
       "      <td>NaN</td>\n",
       "      <td>0.0</td>\n",
       "      <td>1.0</td>\n",
       "      <td>0.0</td>\n",
       "      <td>0.0</td>\n",
       "      <td>1.0</td>\n",
       "      <td>0.0</td>\n",
       "      <td>0.0</td>\n",
       "      <td>1.0</td>\n",
       "      <td>0.0</td>\n",
       "      <td>0</td>\n",
       "      <td>1.0</td>\n",
       "      <td>0.0</td>\n",
       "    </tr>\n",
       "    <tr>\n",
       "      <th>1</th>\n",
       "      <td>NaN</td>\n",
       "      <td>3.0</td>\n",
       "      <td>3.0</td>\n",
       "      <td>3.0</td>\n",
       "      <td>1.0</td>\n",
       "      <td>3.0</td>\n",
       "      <td>4.0</td>\n",
       "      <td>1.0</td>\n",
       "      <td>3.0</td>\n",
       "      <td>NaN</td>\n",
       "      <td>1</td>\n",
       "      <td>2.0</td>\n",
       "      <td>3.0</td>\n",
       "    </tr>\n",
       "    <tr>\n",
       "      <th>2</th>\n",
       "      <td>NaN</td>\n",
       "      <td>4.0</td>\n",
       "      <td>5.0</td>\n",
       "      <td>4.0</td>\n",
       "      <td>4.0</td>\n",
       "      <td>5.0</td>\n",
       "      <td>NaN</td>\n",
       "      <td>3.0</td>\n",
       "      <td>4.0</td>\n",
       "      <td>NaN</td>\n",
       "      <td>2</td>\n",
       "      <td>3.0</td>\n",
       "      <td>5.0</td>\n",
       "    </tr>\n",
       "    <tr>\n",
       "      <th>3</th>\n",
       "      <td>NaN</td>\n",
       "      <td>NaN</td>\n",
       "      <td>NaN</td>\n",
       "      <td>NaN</td>\n",
       "      <td>5.0</td>\n",
       "      <td>NaN</td>\n",
       "      <td>NaN</td>\n",
       "      <td>5.0</td>\n",
       "      <td>5.0</td>\n",
       "      <td>NaN</td>\n",
       "      <td>4</td>\n",
       "      <td>4.0</td>\n",
       "      <td>NaN</td>\n",
       "    </tr>\n",
       "    <tr>\n",
       "      <th>4</th>\n",
       "      <td>NaN</td>\n",
       "      <td>NaN</td>\n",
       "      <td>NaN</td>\n",
       "      <td>NaN</td>\n",
       "      <td>NaN</td>\n",
       "      <td>NaN</td>\n",
       "      <td>NaN</td>\n",
       "      <td>NaN</td>\n",
       "      <td>NaN</td>\n",
       "      <td>NaN</td>\n",
       "      <td>5</td>\n",
       "      <td>NaN</td>\n",
       "      <td>NaN</td>\n",
       "    </tr>\n",
       "  </tbody>\n",
       "</table>\n",
       "</div>"
      ],
      "text/plain": [
       "   Unnamed: 0    1    2    3    4    5    6    7    8    9  10   11   12\n",
       "0         NaN  0.0  1.0  0.0  0.0  1.0  0.0  0.0  1.0  0.0   0  1.0  0.0\n",
       "1         NaN  3.0  3.0  3.0  1.0  3.0  4.0  1.0  3.0  NaN   1  2.0  3.0\n",
       "2         NaN  4.0  5.0  4.0  4.0  5.0  NaN  3.0  4.0  NaN   2  3.0  5.0\n",
       "3         NaN  NaN  NaN  NaN  5.0  NaN  NaN  5.0  5.0  NaN   4  4.0  NaN\n",
       "4         NaN  NaN  NaN  NaN  NaN  NaN  NaN  NaN  NaN  NaN   5  NaN  NaN"
      ]
     },
     "execution_count": 137,
     "metadata": {},
     "output_type": "execute_result"
    }
   ],
   "source": [
    "df=pd.read_excel(r\"F:\\DataAnalysis\\python\\资料\\全日制3班_20200507总结\\数据分析课件\\排班原始表.xlsx\")\n",
    "print(df)\n",
    "def f(data):\n",
    "#     print(data)\n",
    "    zb=(data=='早')\n",
    "#     print(data.index[zb] )\n",
    "    return pd.Series(list(data.index[zb]))\n",
    "df.apply(f)\n"
   ]
  }
 ],
 "metadata": {
  "kernelspec": {
   "display_name": "Python 3",
   "language": "python",
   "name": "python3"
  },
  "language_info": {
   "codemirror_mode": {
    "name": "ipython",
    "version": 3
   },
   "file_extension": ".py",
   "mimetype": "text/x-python",
   "name": "python",
   "nbconvert_exporter": "python",
   "pygments_lexer": "ipython3",
   "version": "3.8.3"
  }
 },
 "nbformat": 4,
 "nbformat_minor": 4
}
